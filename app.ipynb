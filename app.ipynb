{
 "cells": [
  {
   "cell_type": "code",
   "execution_count": 1,
   "id": "024fe0e9",
   "metadata": {},
   "outputs": [],
   "source": [
    "#pip install flask"
   ]
  },
  {
   "cell_type": "code",
   "execution_count": 2,
   "id": "6a3d56a6",
   "metadata": {},
   "outputs": [],
   "source": [
    "#pip install gevent"
   ]
  },
  {
   "cell_type": "code",
   "execution_count": 3,
   "id": "569b65ef",
   "metadata": {},
   "outputs": [],
   "source": [
    "%matplotlib inline\n",
    "import os\n",
    "from flask import Flask, render_template, request, redirect, Response, url_for\n",
    "import random\n",
    "import pandas as pd\n",
    "import numpy as np\n",
    "import seaborn as sns\n",
    "import matplotlib.pyplot as plt\n",
    "from matplotlib.backends.backend_agg import FigureCanvasAgg as FigureCanvas\n",
    "import seaborn as sns\n",
    "import io\n",
    "import base64\n",
    "import PIL\n",
    "\n",
    "from matplotlib.backends.backend_agg import FigureCanvasAgg as FigureCanvas\n",
    "from matplotlib.figure import Figure\n",
    "import pickle\n",
    "\n",
    "from sklearn.feature_extraction.text import CountVectorizer\n",
    "from sklearn.feature_extraction.text import TfidfTransformer\n",
    "from sklearn.feature_extraction.text import TfidfVectorizer\n",
    "from sklearn.linear_model import SGDClassifier\n",
    "\n",
    "from os import path\n",
    "from PIL import Image\n",
    "from wordcloud import WordCloud, STOPWORDS, ImageColorGenerator\n",
    "from joblib import dump, load\n",
    "from flask.json import jsonify\n"
   ]
  },
  {
   "cell_type": "code",
   "execution_count": 4,
   "id": "204e1ef5",
   "metadata": {},
   "outputs": [],
   "source": [
    "from gevent.pywsgi import WSGIServer"
   ]
  },
  {
   "cell_type": "code",
   "execution_count": 5,
   "id": "b7807abb",
   "metadata": {},
   "outputs": [
    {
     "name": "stdout",
     "output_type": "stream",
     "text": [
      "Numpy version:1.21.5\n"
     ]
    }
   ],
   "source": [
    "#checking the version of all the packages\n",
    "print(f'Numpy version:{np.__version__}')"
   ]
  },
  {
   "cell_type": "markdown",
   "id": "de0c53d4",
   "metadata": {},
   "source": [
    "# Load the model"
   ]
  },
  {
   "cell_type": "code",
   "execution_count": 6,
   "id": "5a4fbe74",
   "metadata": {},
   "outputs": [],
   "source": [
    "df_company_sorted=pd.read_csv('data/df_company_salary.csv')\n",
    "df_title_sorted=pd.read_csv('data/df_title_salary.csv')\n",
    "df_state_sorted=pd.read_csv('data/df_state_salary.csv')\n",
    "df_category_sorted=pd.read_csv('data/df_category_sorted.csv')\n",
    "app = Flask(__name__, static_url_path=\"/static\")\n",
    "\n",
    "app.config['SECRET_KEY'] = os.environ.get('SECRET_KEY', 'this_should_be_configured')\n",
    "\n",
    "#Load the vectorizer and model here\n",
    "\n",
    "labels=['Below 24400','24400-37500','37500-200000']\n",
    "model_final = pickle.load(open('model_final.pkl','rb')) \n",
    "cvdf_vectorizer = pickle.load(open('fitted_cvdf.pkl','rb')) \n",
    "\n",
    "###\n",
    "# Routing for your application.\n",
    "###\n",
    "\n",
    "@app.route('/')\n",
    "def home():\n",
    "    \"\"\"Render website's home page.\"\"\"\n",
    "    return render_template('home.html', salaryRange=\"\", salary_prediction_text=\"\", show_word_cloud=False)\n",
    "\n",
    "\n",
    "@app.route('/predict', methods=['POST'])\n",
    "def salary_predictor():\n",
    "    description = request.form.get('description')\n",
    "    if description:\n",
    "        result = labels[model_final.predict(cvdf_vectorizer.transform([description]))[0]]\n",
    "    else:\n",
    "        result='please enter valid text'\n",
    "    return render_template('home.html', salaryRange = result, show_word_cloud=True, salary_prediction_text=\"The salary range of this job:\")\n",
    "\n",
    "@app.route('/plot.png')\n",
    "def plot_png():\n",
    "    fig = create_figure()\n",
    "    output = io.BytesIO()\n",
    "    FigureCanvas(fig).print_png(output)\n",
    "    return Response(output.getvalue(), mimetype='image/png')\n",
    "\n",
    "def create_figure():\n",
    "    \n",
    "    import matplotlib.pyplot as plt\n",
    "    import seaborn as sns; sns.set()\n",
    "    import numpy as np\n",
    "    \n",
    "    fig, axes = plt.subplots(nrows=3, ncols=1,figsize=(16,30))\n",
    "    # Access first Subplot and plot linear numbers\n",
    "    axes[0].bar(height=df_title_sorted['SalaryNormalized'],x=df_title_sorted['short_title'])\n",
    "    axes[0].set_title('Normalized Salary vs Simplified Job Title',fontsize=30)\n",
    "    axes[0].set_xlabel('Short title',fontsize=20)\n",
    "    axes[0].set_ylabel('Salary',fontsize=20)\n",
    "    axes[0].set_xticklabels (labels=df_title_sorted['short_title'][:15],rotation=90,fontsize=14) \n",
    "    # Access second Subplot and plot square numbers\n",
    "    axes[1].bar(height=df_company_sorted['SalaryNormalized'][:15],x=df_company_sorted['Company'][:15])\n",
    "    axes[1].set_title('Normalized Salary vs Company',fontsize=30)\n",
    "    axes[1].set_xlabel('Company',fontsize=20)\n",
    "    axes[1].set_ylabel('Salary',fontsize=20)\n",
    "    axes[1].set_xticklabels (labels=df_company_sorted['Company'][:15],rotation=90,fontsize=14) \n",
    "    # Access third Subplot and plot cube numbers\n",
    "    axes[2].bar(height=df_category_sorted['SalaryNormalized'][:15],x=df_category_sorted['Category'][:15])\n",
    "    axes[2].set_title('Job Category vs Category',fontsize=30)\n",
    "    axes[2].set_xlabel('Category',fontsize=20)\n",
    "    axes[2].set_ylabel('Salary',fontsize=20)\n",
    "    axes[2].set_xticklabels (labels=df_category_sorted['Category'][:15],rotation=90,fontsize=14) \n",
    "    plt.tight_layout()\n",
    "    #plt.show()\n",
    "    return fig\n"
   ]
  },
  {
   "cell_type": "code",
   "execution_count": null,
   "id": "3045931d",
   "metadata": {},
   "outputs": [],
   "source": [
    "if __name__=='__main__':\n",
    "    http_server = WSGIServer(('', 5000), app)\n",
    "    http_server.serve_forever()"
   ]
  },
  {
   "cell_type": "code",
   "execution_count": null,
   "id": "cf24858f",
   "metadata": {},
   "outputs": [],
   "source": [
    "#can access the website through the link (http://localhost:5000) for testing."
   ]
  },
  {
   "cell_type": "code",
   "execution_count": null,
   "id": "4f982083",
   "metadata": {},
   "outputs": [],
   "source": []
  }
 ],
 "metadata": {
  "kernelspec": {
   "display_name": "Python 3 (ipykernel)",
   "language": "python",
   "name": "python3"
  },
  "language_info": {
   "codemirror_mode": {
    "name": "ipython",
    "version": 3
   },
   "file_extension": ".py",
   "mimetype": "text/x-python",
   "name": "python",
   "nbconvert_exporter": "python",
   "pygments_lexer": "ipython3",
   "version": "3.8.12"
  }
 },
 "nbformat": 4,
 "nbformat_minor": 5
}
