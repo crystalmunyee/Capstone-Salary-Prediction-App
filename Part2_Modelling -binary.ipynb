{
 "cells": [
  {
   "cell_type": "code",
   "execution_count": 1,
   "id": "ca8cc5cc",
   "metadata": {},
   "outputs": [],
   "source": [
    "from os import path\n",
    "from PIL import Image\n",
    "import numpy as np\n",
    "import matplotlib.pyplot as plt\n",
    "import os\n",
    "\n",
    "import pandas as pd\n",
    "import numpy as np\n",
    "import seaborn as sns\n",
    "import matplotlib.pyplot as plt\n",
    "\n",
    "from sklearn.feature_extraction.text import CountVectorizer\n",
    "from sklearn.pipeline import Pipeline\n",
    "from sklearn.naive_bayes import MultinomialNB\n",
    "from sklearn.model_selection import train_test_split, GridSearchCV\n",
    "from sklearn.metrics import confusion_matrix, plot_confusion_matrix\n",
    "\n",
    "import warnings\n",
    "warnings.simplefilter(action='ignore')\n",
    "\n",
    "%matplotlib inline"
   ]
  },
  {
   "cell_type": "code",
   "execution_count": 2,
   "id": "f8a9fa33",
   "metadata": {},
   "outputs": [],
   "source": [
    "#load scraped data\n",
    "job=pd.read_csv('data/job_data_cleaned.csv')"
   ]
  },
  {
   "cell_type": "code",
   "execution_count": 3,
   "id": "b8c65c5a",
   "metadata": {},
   "outputs": [
    {
     "name": "stdout",
     "output_type": "stream",
     "text": [
      "(648, 27)\n"
     ]
    },
    {
     "data": {
      "text/html": [
       "<div>\n",
       "<style scoped>\n",
       "    .dataframe tbody tr th:only-of-type {\n",
       "        vertical-align: middle;\n",
       "    }\n",
       "\n",
       "    .dataframe tbody tr th {\n",
       "        vertical-align: top;\n",
       "    }\n",
       "\n",
       "    .dataframe thead th {\n",
       "        text-align: right;\n",
       "    }\n",
       "</style>\n",
       "<table border=\"1\" class=\"dataframe\">\n",
       "  <thead>\n",
       "    <tr style=\"text-align: right;\">\n",
       "      <th></th>\n",
       "      <th>avg_salary</th>\n",
       "      <th>log_avg_salary</th>\n",
       "      <th>same_state</th>\n",
       "      <th>company_age</th>\n",
       "      <th>python</th>\n",
       "      <th>excel</th>\n",
       "      <th>hadoop</th>\n",
       "      <th>spark</th>\n",
       "      <th>aws</th>\n",
       "      <th>tableau</th>\n",
       "      <th>...</th>\n",
       "      <th>Revenue</th>\n",
       "      <th>Company Name</th>\n",
       "      <th>Location</th>\n",
       "      <th>Headquarters</th>\n",
       "      <th>Size</th>\n",
       "      <th>Type of ownership</th>\n",
       "      <th>Industry</th>\n",
       "      <th>Sector</th>\n",
       "      <th>requirements_lem</th>\n",
       "      <th>Salary_Bins_binary</th>\n",
       "    </tr>\n",
       "  </thead>\n",
       "  <tbody>\n",
       "    <tr>\n",
       "      <th>0</th>\n",
       "      <td>154</td>\n",
       "      <td>5.036953</td>\n",
       "      <td>1</td>\n",
       "      <td>27</td>\n",
       "      <td>0</td>\n",
       "      <td>0</td>\n",
       "      <td>0</td>\n",
       "      <td>0</td>\n",
       "      <td>1</td>\n",
       "      <td>0</td>\n",
       "      <td>...</td>\n",
       "      <td>13.0</td>\n",
       "      <td>173.0</td>\n",
       "      <td>117.0</td>\n",
       "      <td>141.0</td>\n",
       "      <td>3.0</td>\n",
       "      <td>7.0</td>\n",
       "      <td>31.0</td>\n",
       "      <td>13.0</td>\n",
       "      <td>Description The Senior Data Scientist respons...</td>\n",
       "      <td>1</td>\n",
       "    </tr>\n",
       "    <tr>\n",
       "      <th>1</th>\n",
       "      <td>154</td>\n",
       "      <td>5.036953</td>\n",
       "      <td>0</td>\n",
       "      <td>52</td>\n",
       "      <td>0</td>\n",
       "      <td>0</td>\n",
       "      <td>1</td>\n",
       "      <td>0</td>\n",
       "      <td>0</td>\n",
       "      <td>0</td>\n",
       "      <td>...</td>\n",
       "      <td>0.0</td>\n",
       "      <td>233.0</td>\n",
       "      <td>34.0</td>\n",
       "      <td>89.0</td>\n",
       "      <td>5.0</td>\n",
       "      <td>3.0</td>\n",
       "      <td>43.0</td>\n",
       "      <td>5.0</td>\n",
       "      <td>Secure Nation Ignite Future Join Information ...</td>\n",
       "      <td>1</td>\n",
       "    </tr>\n",
       "    <tr>\n",
       "      <th>2</th>\n",
       "      <td>154</td>\n",
       "      <td>5.036953</td>\n",
       "      <td>1</td>\n",
       "      <td>39</td>\n",
       "      <td>1</td>\n",
       "      <td>1</td>\n",
       "      <td>0</td>\n",
       "      <td>0</td>\n",
       "      <td>1</td>\n",
       "      <td>0</td>\n",
       "      <td>...</td>\n",
       "      <td>4.0</td>\n",
       "      <td>31.0</td>\n",
       "      <td>19.0</td>\n",
       "      <td>28.0</td>\n",
       "      <td>3.0</td>\n",
       "      <td>9.0</td>\n",
       "      <td>12.0</td>\n",
       "      <td>5.0</td>\n",
       "      <td>Overview Analysis Group largest international...</td>\n",
       "      <td>1</td>\n",
       "    </tr>\n",
       "    <tr>\n",
       "      <th>3</th>\n",
       "      <td>154</td>\n",
       "      <td>5.036953</td>\n",
       "      <td>0</td>\n",
       "      <td>20</td>\n",
       "      <td>1</td>\n",
       "      <td>1</td>\n",
       "      <td>0</td>\n",
       "      <td>0</td>\n",
       "      <td>1</td>\n",
       "      <td>0</td>\n",
       "      <td>...</td>\n",
       "      <td>4.0</td>\n",
       "      <td>184.0</td>\n",
       "      <td>118.0</td>\n",
       "      <td>15.0</td>\n",
       "      <td>6.0</td>\n",
       "      <td>3.0</td>\n",
       "      <td>16.0</td>\n",
       "      <td>14.0</td>\n",
       "      <td>JOB DESCRIPTION Do passion Data Machine Learn...</td>\n",
       "      <td>1</td>\n",
       "    </tr>\n",
       "    <tr>\n",
       "      <th>4</th>\n",
       "      <td>154</td>\n",
       "      <td>5.036953</td>\n",
       "      <td>1</td>\n",
       "      <td>22</td>\n",
       "      <td>1</td>\n",
       "      <td>1</td>\n",
       "      <td>0</td>\n",
       "      <td>0</td>\n",
       "      <td>0</td>\n",
       "      <td>0</td>\n",
       "      <td>...</td>\n",
       "      <td>13.0</td>\n",
       "      <td>18.0</td>\n",
       "      <td>117.0</td>\n",
       "      <td>141.0</td>\n",
       "      <td>7.0</td>\n",
       "      <td>2.0</td>\n",
       "      <td>2.0</td>\n",
       "      <td>5.0</td>\n",
       "      <td>Data Scientist Affinity Solutions Marketing C...</td>\n",
       "      <td>1</td>\n",
       "    </tr>\n",
       "  </tbody>\n",
       "</table>\n",
       "<p>5 rows × 27 columns</p>\n",
       "</div>"
      ],
      "text/plain": [
       "   avg_salary  log_avg_salary  same_state  company_age  python  excel  hadoop  \\\n",
       "0         154        5.036953           1           27       0      0       0   \n",
       "1         154        5.036953           0           52       0      0       1   \n",
       "2         154        5.036953           1           39       1      1       0   \n",
       "3         154        5.036953           0           20       1      1       0   \n",
       "4         154        5.036953           1           22       1      1       0   \n",
       "\n",
       "   spark  aws  tableau  ...  Revenue  Company Name  Location  Headquarters  \\\n",
       "0      0    1        0  ...     13.0         173.0     117.0         141.0   \n",
       "1      0    0        0  ...      0.0         233.0      34.0          89.0   \n",
       "2      0    1        0  ...      4.0          31.0      19.0          28.0   \n",
       "3      0    1        0  ...      4.0         184.0     118.0          15.0   \n",
       "4      0    0        0  ...     13.0          18.0     117.0         141.0   \n",
       "\n",
       "   Size  Type of ownership  Industry  Sector  \\\n",
       "0   3.0                7.0      31.0    13.0   \n",
       "1   5.0                3.0      43.0     5.0   \n",
       "2   3.0                9.0      12.0     5.0   \n",
       "3   6.0                3.0      16.0    14.0   \n",
       "4   7.0                2.0       2.0     5.0   \n",
       "\n",
       "                                    requirements_lem  Salary_Bins_binary  \n",
       "0   Description The Senior Data Scientist respons...                   1  \n",
       "1   Secure Nation Ignite Future Join Information ...                   1  \n",
       "2   Overview Analysis Group largest international...                   1  \n",
       "3   JOB DESCRIPTION Do passion Data Machine Learn...                   1  \n",
       "4   Data Scientist Affinity Solutions Marketing C...                   1  \n",
       "\n",
       "[5 rows x 27 columns]"
      ]
     },
     "execution_count": 3,
     "metadata": {},
     "output_type": "execute_result"
    }
   ],
   "source": [
    "print(job.shape)\n",
    "job.head()"
   ]
  },
  {
   "cell_type": "code",
   "execution_count": 4,
   "id": "60c4e9f1",
   "metadata": {},
   "outputs": [
    {
     "data": {
      "text/plain": [
       "1"
      ]
     },
     "execution_count": 4,
     "metadata": {},
     "output_type": "execute_result"
    }
   ],
   "source": [
    "job.duplicated().sum()"
   ]
  },
  {
   "cell_type": "code",
   "execution_count": 5,
   "id": "10262686",
   "metadata": {},
   "outputs": [],
   "source": [
    "job.drop_duplicates(inplace=True)"
   ]
  },
  {
   "cell_type": "code",
   "execution_count": 6,
   "id": "124fceb1",
   "metadata": {},
   "outputs": [
    {
     "data": {
      "text/plain": [
       "Index(['avg_salary', 'log_avg_salary', 'same_state', 'company_age', 'python',\n",
       "       'excel', 'hadoop', 'spark', 'aws', 'tableau', 'big_data',\n",
       "       'len_requirement', 'words_requirement', 'Rating', 'Salary_Bins',\n",
       "       'job_title_simp2', 'short_title', 'Revenue', 'Company Name', 'Location',\n",
       "       'Headquarters', 'Size', 'Type of ownership', 'Industry', 'Sector',\n",
       "       'requirements_lem', 'Salary_Bins_binary'],\n",
       "      dtype='object')"
      ]
     },
     "execution_count": 6,
     "metadata": {},
     "output_type": "execute_result"
    }
   ],
   "source": [
    "job.columns"
   ]
  },
  {
   "cell_type": "code",
   "execution_count": null,
   "id": "f474aa8d",
   "metadata": {},
   "outputs": [],
   "source": []
  },
  {
   "cell_type": "code",
   "execution_count": 7,
   "id": "c8107ebd",
   "metadata": {},
   "outputs": [],
   "source": [
    "X = job['requirements_lem']\n",
    "y = job['log_avg_salary']\n",
    "y_cat=job['Salary_Bins_binary'].astype('category')"
   ]
  },
  {
   "cell_type": "code",
   "execution_count": 8,
   "id": "7a4f9207",
   "metadata": {},
   "outputs": [
    {
     "data": {
      "text/plain": [
       "0     Description The Senior Data Scientist respons...\n",
       "1     Secure Nation Ignite Future Join Information ...\n",
       "2     Overview Analysis Group largest international...\n",
       "3     JOB DESCRIPTION Do passion Data Machine Learn...\n",
       "4     Data Scientist Affinity Solutions Marketing C...\n",
       "Name: requirements_lem, dtype: object"
      ]
     },
     "execution_count": 8,
     "metadata": {},
     "output_type": "execute_result"
    }
   ],
   "source": [
    "X.head()"
   ]
  },
  {
   "cell_type": "code",
   "execution_count": 9,
   "id": "3a0aced5",
   "metadata": {},
   "outputs": [
    {
     "data": {
      "text/plain": [
       "166"
      ]
     },
     "execution_count": 9,
     "metadata": {},
     "output_type": "execute_result"
    }
   ],
   "source": [
    "X.duplicated().sum()"
   ]
  },
  {
   "cell_type": "code",
   "execution_count": 10,
   "id": "b932763d",
   "metadata": {},
   "outputs": [
    {
     "data": {
      "text/plain": [
       "0      False\n",
       "1      False\n",
       "2      False\n",
       "3      False\n",
       "4      False\n",
       "       ...  \n",
       "643    False\n",
       "644    False\n",
       "645    False\n",
       "646    False\n",
       "647     True\n",
       "Name: requirements_lem, Length: 647, dtype: bool"
      ]
     },
     "execution_count": 10,
     "metadata": {},
     "output_type": "execute_result"
    }
   ],
   "source": [
    "X.duplicated()"
   ]
  },
  {
   "cell_type": "code",
   "execution_count": null,
   "id": "7060cf55",
   "metadata": {},
   "outputs": [],
   "source": []
  },
  {
   "cell_type": "code",
   "execution_count": 11,
   "id": "8e36d17e",
   "metadata": {},
   "outputs": [
    {
     "data": {
      "text/plain": [
       "4.521789    41\n",
       "4.912655    40\n",
       "4.736198    40\n",
       "4.672829    38\n",
       "4.663439    38\n",
       "4.634729    31\n",
       "4.744932    31\n",
       "4.653960    31\n",
       "5.036953    29\n",
       "4.595120    27\n",
       "4.330733    22\n",
       "4.890349    21\n",
       "4.997212    21\n",
       "4.787492    21\n",
       "5.099866    21\n",
       "5.602119    21\n",
       "5.081404    21\n",
       "3.761200    20\n",
       "4.488636    20\n",
       "4.812184    20\n",
       "4.727388    20\n",
       "5.209486    20\n",
       "5.220356    19\n",
       "4.574711    18\n",
       "4.897840    16\n",
       "Name: log_avg_salary, dtype: int64"
      ]
     },
     "execution_count": 11,
     "metadata": {},
     "output_type": "execute_result"
    }
   ],
   "source": [
    "y.value_counts()"
   ]
  },
  {
   "cell_type": "code",
   "execution_count": 12,
   "id": "8936867e",
   "metadata": {},
   "outputs": [
    {
     "data": {
      "image/png": "[encoded data removed]",
      "text/plain": [
       "<Figure size 432x288 with 1 Axes>"
      ]
     },
     "metadata": {
      "needs_background": "light"
     },
     "output_type": "display_data"
    }
   ],
   "source": [
    "plt.hist(y, bins=50);"
   ]
  },
  {
   "cell_type": "code",
   "execution_count": 13,
   "id": "b4fffd82",
   "metadata": {},
   "outputs": [
    {
     "data": {
      "image/png": "[encoded data removed]",
      "text/plain": [
       "<Figure size 432x288 with 1 Axes>"
      ]
     },
     "metadata": {
      "needs_background": "light"
     },
     "output_type": "display_data"
    }
   ],
   "source": [
    "plt.hist(y_cat, bins=50);"
   ]
  },
  {
   "cell_type": "markdown",
   "id": "bcba2664",
   "metadata": {},
   "source": [
    "# Baseline Model"
   ]
  },
  {
   "cell_type": "code",
   "execution_count": 158,
   "id": "24d2ce7b",
   "metadata": {},
   "outputs": [
    {
     "data": {
      "text/plain": [
       "0    0.797527\n",
       "1    0.202473\n",
       "Name: Salary_Bins_binary, dtype: float64"
      ]
     },
     "execution_count": 158,
     "metadata": {},
     "output_type": "execute_result"
    }
   ],
   "source": [
    "job['Salary_Bins_binary'].value_counts(normalize=True)"
   ]
  },
  {
   "cell_type": "markdown",
   "id": "8e614927",
   "metadata": {},
   "source": [
    "# Train test split"
   ]
  },
  {
   "cell_type": "code",
   "execution_count": 14,
   "id": "b7c64e83",
   "metadata": {},
   "outputs": [],
   "source": [
    "# Split our data into train and test data. We will stratify during the split to ensure that the train and test sets \n",
    "# contains the same percentage of samplesto avoid imbalanced classes.\n",
    "X_train,X_test,y_train,y_test = train_test_split(X,y,\n",
    "                                                 random_state=42, test_size=0.25) # account for slight class unbalanced "
   ]
  },
  {
   "cell_type": "markdown",
   "id": "1a986efe",
   "metadata": {},
   "source": [
    "# Baseline Feature Modelling"
   ]
  },
  {
   "cell_type": "code",
   "execution_count": 15,
   "id": "153c71df",
   "metadata": {},
   "outputs": [],
   "source": [
    "# Vectorizer and Model imports:\n",
    "import pandas as pd\n",
    "\n",
    "from sklearn.feature_extraction.text import CountVectorizer, TfidfVectorizer, HashingVectorizer\n",
    "from sklearn.linear_model import LinearRegression\n",
    "from sklearn.model_selection import train_test_split, cross_val_score, GridSearchCV\n",
    "from sklearn.ensemble import ExtraTreesRegressor,ExtraTreesClassifier, RandomForestRegressor,RandomForestClassifier,GradientBoostingRegressor,GradientBoostingClassifier, AdaBoostClassifier, AdaBoostRegressor,VotingClassifier, VotingRegressor\n",
    "from sklearn.naive_bayes import MultinomialNB, BernoulliNB\n",
    "from sklearn.pipeline import Pipeline\n",
    "from sklearn.metrics import confusion_matrix, ConfusionMatrixDisplay, classification_report, plot_roc_curve, roc_auc_score,accuracy_score, precision_score, recall_score, f1_score\n",
    "from sklearn.svm import SVR,SVC\n",
    "from sklearn.neighbors import KNeighborsClassifier\n",
    "from sklearn.metrics import mean_squared_error\n",
    "import matplotlib.pyplot as plt\n",
    "%matplotlib inline"
   ]
  },
  {
   "cell_type": "code",
   "execution_count": 16,
   "id": "569c7fb6",
   "metadata": {},
   "outputs": [
    {
     "data": {
      "text/plain": [
       "Index(['avg_salary', 'log_avg_salary', 'same_state', 'company_age', 'python',\n",
       "       'excel', 'hadoop', 'spark', 'aws', 'tableau', 'big_data',\n",
       "       'len_requirement', 'words_requirement', 'Rating', 'Salary_Bins',\n",
       "       'job_title_simp2', 'short_title', 'Revenue', 'Company Name', 'Location',\n",
       "       'Headquarters', 'Size', 'Type of ownership', 'Industry', 'Sector',\n",
       "       'requirements_lem', 'Salary_Bins_binary'],\n",
       "      dtype='object')"
      ]
     },
     "execution_count": 16,
     "metadata": {},
     "output_type": "execute_result"
    }
   ],
   "source": [
    "job.columns"
   ]
  },
  {
   "cell_type": "code",
   "execution_count": 17,
   "id": "847e0f9b",
   "metadata": {},
   "outputs": [],
   "source": [
    "#X_base=job.drop(columns=['requirements_lem','avg_salary', 'log_avg_salary','Salary_Bins'])\n",
    "col_base=['Industry','Sector','Revenue']\n",
    "X_base=job[col_base]\n",
    "y_base=job['Salary_Bins_binary']"
   ]
  },
  {
   "cell_type": "code",
   "execution_count": 18,
   "id": "f0f6d5ca",
   "metadata": {},
   "outputs": [],
   "source": [
    "X_train_b,X_test_b,y_train_b,y_test_b = train_test_split(X_base,y_base,\n",
    "                                                 random_state=42, test_size=0.25) # account for slight class unbalanced "
   ]
  },
  {
   "cell_type": "code",
   "execution_count": null,
   "id": "d041a980",
   "metadata": {},
   "outputs": [],
   "source": []
  },
  {
   "cell_type": "code",
   "execution_count": 19,
   "id": "469db32f",
   "metadata": {},
   "outputs": [],
   "source": [
    "# Function to run model -- input vectorizer and model\n",
    "def model_run_classification_base(mod, mod_params={}, grid_search=False):\n",
    "    \n",
    "    results = {}\n",
    "    \n",
    "    pipe = Pipeline([\n",
    "            (mod, models_c[mod])\n",
    "            ])\n",
    "\n",
    "    if grid_search:\n",
    "   \n",
    "        gs = GridSearchCV(pipe, param_grid = {**mod_params}, verbose=3, n_jobs=-1)\n",
    "        gs.fit(X_train_b, y_train_b)\n",
    "        pipe = gs\n",
    "      \n",
    "    else:\n",
    "        pipe.fit(X_train_b, y_train_b)\n",
    "\n",
    "    # Retrieve metrics\n",
    "    results['model'] = mod\n",
    "    results['train'] = pipe.score(X_train_b, y_train_b)\n",
    "    results['test'] = pipe.score(X_test_b, y_test_b)\n",
    "    predictions = pipe.predict(X_test_b)\n",
    "    results['MSE'] = mean_squared_error(y_test_b, predictions,squared=False)\n",
    "    results['accuracy']=accuracy_score(y_test_b, predictions)\n",
    "    if grid_search:\n",
    "        tuning_list.append(results)\n",
    "        print('### BEST PARAMS ###')\n",
    "        display(pipe.best_params_)\n",
    "        \n",
    "    else:\n",
    "        eval_list_c_b.append(results)\n",
    "    # Generate confusion matrix.\n",
    "    class_names = [\"0-150K\",\"150K-300K\"]\n",
    "    cm = confusion_matrix(y_test_b, predictions)  # True vs Predicted values.\n",
    "    disp = ConfusionMatrixDisplay(confusion_matrix=cm,display_labels=class_names)\n",
    "    fig, ax = plt.subplots(figsize=(15,15))\n",
    "    disp.plot(ax=ax);\n",
    "    print('### METRICS ###')\n",
    "    display(results)\n",
    "    return pipe"
   ]
  },
  {
   "cell_type": "code",
   "execution_count": 20,
   "id": "c40cb734",
   "metadata": {},
   "outputs": [],
   "source": [
    "# Instiantiate classification models\n",
    "models_c = {'knn': KNeighborsClassifier(n_neighbors=3),\n",
    "          'rfc': RandomForestClassifier(random_state=42),\n",
    "          'gbc': GradientBoostingClassifier(random_state=42),\n",
    "          'etc': ExtraTreesClassifier(random_state=42),\n",
    "          'adac': AdaBoostClassifier(random_state=42),\n",
    "          'svc': SVC()}"
   ]
  },
  {
   "cell_type": "code",
   "execution_count": 21,
   "id": "56ab9a9e",
   "metadata": {},
   "outputs": [],
   "source": [
    "eval_list_c_b=[]"
   ]
  },
  {
   "cell_type": "code",
   "execution_count": 22,
   "id": "2a20811f",
   "metadata": {},
   "outputs": [
    {
     "name": "stdout",
     "output_type": "stream",
     "text": [
      "### METRICS ###\n"
     ]
    },
    {
     "data": {
      "text/plain": [
       "{'model': 'knn',\n",
       " 'train': 0.8,\n",
       " 'test': 0.7716049382716049,\n",
       " 'MSE': 0.4779069592801459,\n",
       " 'accuracy': 0.7716049382716049}"
      ]
     },
     "metadata": {},
     "output_type": "display_data"
    },
    {
     "data": {
      "text/plain": [
       "Pipeline(steps=[('knn', KNeighborsClassifier(n_neighbors=3))])"
      ]
     },
     "execution_count": 22,
     "metadata": {},
     "output_type": "execute_result"
    },
    {
     "data": {
      "image/png": "[encoded data removed]",
      "text/plain": [
       "<Figure size 1080x1080 with 2 Axes>"
      ]
     },
     "metadata": {
      "needs_background": "light"
     },
     "output_type": "display_data"
    }
   ],
   "source": [
    "model_run_classification_base('knn')"
   ]
  },
  {
   "cell_type": "code",
   "execution_count": 23,
   "id": "cb8eb418",
   "metadata": {},
   "outputs": [
    {
     "data": {
      "text/html": [
       "<div>\n",
       "<style scoped>\n",
       "    .dataframe tbody tr th:only-of-type {\n",
       "        vertical-align: middle;\n",
       "    }\n",
       "\n",
       "    .dataframe tbody tr th {\n",
       "        vertical-align: top;\n",
       "    }\n",
       "\n",
       "    .dataframe thead th {\n",
       "        text-align: right;\n",
       "    }\n",
       "</style>\n",
       "<table border=\"1\" class=\"dataframe\">\n",
       "  <thead>\n",
       "    <tr style=\"text-align: right;\">\n",
       "      <th></th>\n",
       "      <th>model</th>\n",
       "      <th>train</th>\n",
       "      <th>test</th>\n",
       "      <th>MSE</th>\n",
       "      <th>accuracy</th>\n",
       "    </tr>\n",
       "  </thead>\n",
       "  <tbody>\n",
       "    <tr>\n",
       "      <th>0</th>\n",
       "      <td>knn</td>\n",
       "      <td>0.8</td>\n",
       "      <td>0.771605</td>\n",
       "      <td>0.477907</td>\n",
       "      <td>0.771605</td>\n",
       "    </tr>\n",
       "  </tbody>\n",
       "</table>\n",
       "</div>"
      ],
      "text/plain": [
       "  model  train      test       MSE  accuracy\n",
       "0   knn    0.8  0.771605  0.477907  0.771605"
      ]
     },
     "execution_count": 23,
     "metadata": {},
     "output_type": "execute_result"
    }
   ],
   "source": [
    "pd.DataFrame(eval_list_c_b)"
   ]
  },
  {
   "cell_type": "markdown",
   "id": "f831adf4",
   "metadata": {},
   "source": [
    "# NLP Modelling"
   ]
  },
  {
   "cell_type": "code",
   "execution_count": 24,
   "id": "fe46f3b1",
   "metadata": {},
   "outputs": [],
   "source": [
    "from nltk.corpus import stopwords\n",
    "from sklearn.feature_extraction.text import ENGLISH_STOP_WORDS\n",
    "# creating my own custom stopwords\n",
    "custom_stopwords=['\\n']"
   ]
  },
  {
   "cell_type": "code",
   "execution_count": 25,
   "id": "ec4d1d5e",
   "metadata": {},
   "outputs": [],
   "source": [
    "#adding the english stopwords to my custom stopwords+\n",
    "custom_stopwords.extend(ENGLISH_STOP_WORDS)"
   ]
  },
  {
   "cell_type": "code",
   "execution_count": 26,
   "id": "39e1376a",
   "metadata": {},
   "outputs": [],
   "source": [
    "cv = CountVectorizer(stop_words=custom_stopwords)\n",
    "tvec = TfidfVectorizer(stop_words=custom_stopwords)\n",
    "hv= HashingVectorizer(stop_words=custom_stopwords)"
   ]
  },
  {
   "cell_type": "code",
   "execution_count": 27,
   "id": "1a0b1386",
   "metadata": {},
   "outputs": [],
   "source": [
    "# Instantiate vectorizers\n",
    "vectorizers = {'cvec': cv,\n",
    "               'tvec': tvec,\n",
    "               'hv': hv}"
   ]
  },
  {
   "cell_type": "code",
   "execution_count": 28,
   "id": "c961817f",
   "metadata": {},
   "outputs": [],
   "source": [
    "# Instiantiate regression models\n",
    "models = {'lr': LinearRegression(),\n",
    "          'rf': RandomForestRegressor(random_state=42),\n",
    "          'gb': GradientBoostingRegressor(random_state=42),\n",
    "          'et': ExtraTreesRegressor(random_state=42),\n",
    "          'ada': AdaBoostRegressor(random_state=42),\n",
    "          'svr': SVR()}"
   ]
  },
  {
   "cell_type": "code",
   "execution_count": 29,
   "id": "5491d5a5",
   "metadata": {},
   "outputs": [],
   "source": [
    "# Instiantiate classification models\n",
    "models_c = {'knn': KNeighborsClassifier(n_neighbors=3),\n",
    "          'rfc': RandomForestClassifier(random_state=42),\n",
    "          'gbc': GradientBoostingClassifier(random_state=42),\n",
    "          'etc': ExtraTreesClassifier(random_state=42),\n",
    "          'adac': AdaBoostClassifier(random_state=42),\n",
    "          'svc': SVC()}"
   ]
  },
  {
   "cell_type": "code",
   "execution_count": 30,
   "id": "ed1eed6d",
   "metadata": {},
   "outputs": [],
   "source": [
    "# Function to run model -- input vectorizer and model\n",
    "def model_run(vec_name,vec, mod, vec_params={}, mod_params={}, grid_search=False):\n",
    "    \n",
    "    results = {}\n",
    "    \n",
    "    pipe = Pipeline([\n",
    "            (mod, models[mod])\n",
    "            ])\n",
    "    X_train_vec =vec.fit_transform(X_train)\n",
    "    X_test_vec =vec.transform(X_test)\n",
    "    X_train_df=pd.DataFrame(X_train_vec.todense(),columns=vec.get_feature_names())\n",
    "    X_test_df=pd.DataFrame(X_test_vec.todense(),columns=vec.get_feature_names())\n",
    "    if grid_search:\n",
    "   \n",
    "        gs = GridSearchCV(vec,pipe, param_grid = {**vec_params, **mod_params}, verbose=3, n_jobs=-1)\n",
    "        gs.fit(X_train_df, y_train)\n",
    "        pipe = gs\n",
    "      \n",
    "    else:\n",
    "        pipe.fit(X_train_df, y_train)\n",
    "\n",
    "    # Retrieve metrics\n",
    "    results['model'] = mod\n",
    "    results['vectorizer'] = vec_name\n",
    "    results['train'] = pipe.score(X_train_df, y_train)\n",
    "    results['test'] = pipe.score(X_test_df, y_test)\n",
    "    predictions = pipe.predict(X_test_df)\n",
    "    results['MSE'] = mean_squared_error(y_test, predictions,squared=False)\n",
    "\n",
    "    if grid_search:\n",
    "        tuning_list.append(results)\n",
    "        print('### BEST PARAMS ###')\n",
    "        display(pipe.best_params_)\n",
    "        \n",
    "    else:\n",
    "        eval_list.append(results)\n",
    "    \n",
    "    print('### METRICS ###')\n",
    "    display(results)\n",
    "    return pipe"
   ]
  },
  {
   "cell_type": "code",
   "execution_count": 31,
   "id": "735082d0",
   "metadata": {},
   "outputs": [],
   "source": [
    "from sklearn.metrics import mean_squared_error"
   ]
  },
  {
   "cell_type": "markdown",
   "id": "67591663",
   "metadata": {},
   "source": [
    "# Model testing with TVEC and CVEC"
   ]
  },
  {
   "cell_type": "code",
   "execution_count": 32,
   "id": "7823b29c",
   "metadata": {},
   "outputs": [],
   "source": [
    "# Create list to store model testing results\n",
    "eval_list = []"
   ]
  },
  {
   "cell_type": "code",
   "execution_count": 33,
   "id": "8e11fc50",
   "metadata": {},
   "outputs": [
    {
     "name": "stdout",
     "output_type": "stream",
     "text": [
      "### METRICS ###\n"
     ]
    },
    {
     "data": {
      "text/plain": [
       "{'model': 'lr',\n",
       " 'vectorizer': 'cvec',\n",
       " 'train': 0.6220889391919603,\n",
       " 'test': -4.2329510765368214e+26,\n",
       " 'MSE': 5343171052771.246}"
      ]
     },
     "metadata": {},
     "output_type": "display_data"
    },
    {
     "data": {
      "text/plain": [
       "Pipeline(steps=[('lr', LinearRegression())])"
      ]
     },
     "execution_count": 33,
     "metadata": {},
     "output_type": "execute_result"
    }
   ],
   "source": [
    "model_run('cvec',cv, 'lr')"
   ]
  },
  {
   "cell_type": "code",
   "execution_count": 34,
   "id": "552d198e",
   "metadata": {},
   "outputs": [
    {
     "name": "stdout",
     "output_type": "stream",
     "text": [
      "### METRICS ###\n"
     ]
    },
    {
     "data": {
      "text/plain": [
       "{'model': 'lr',\n",
       " 'vectorizer': 'tvec',\n",
       " 'train': 0.5361706669807476,\n",
       " 'test': -4.5748848726572265e+27,\n",
       " 'MSE': 17565783990414.055}"
      ]
     },
     "metadata": {},
     "output_type": "display_data"
    },
    {
     "data": {
      "text/plain": [
       "Pipeline(steps=[('lr', LinearRegression())])"
      ]
     },
     "execution_count": 34,
     "metadata": {},
     "output_type": "execute_result"
    }
   ],
   "source": [
    "model_run('tvec',tvec, 'lr')"
   ]
  },
  {
   "cell_type": "code",
   "execution_count": 35,
   "id": "471e7ea2",
   "metadata": {},
   "outputs": [
    {
     "name": "stdout",
     "output_type": "stream",
     "text": [
      "### METRICS ###\n"
     ]
    },
    {
     "data": {
      "text/plain": [
       "{'model': 'rf',\n",
       " 'vectorizer': 'cvec',\n",
       " 'train': 0.6766186367317064,\n",
       " 'test': -0.4380919814023123,\n",
       " 'MSE': 0.31143741463267544}"
      ]
     },
     "metadata": {},
     "output_type": "display_data"
    },
    {
     "data": {
      "text/plain": [
       "Pipeline(steps=[('rf', RandomForestRegressor(random_state=42))])"
      ]
     },
     "execution_count": 35,
     "metadata": {},
     "output_type": "execute_result"
    }
   ],
   "source": [
    "model_run('cvec',cv, 'rf')"
   ]
  },
  {
   "cell_type": "code",
   "execution_count": 36,
   "id": "8419ef88",
   "metadata": {},
   "outputs": [
    {
     "name": "stdout",
     "output_type": "stream",
     "text": [
      "### METRICS ###\n"
     ]
    },
    {
     "data": {
      "text/plain": [
       "{'model': 'rf',\n",
       " 'vectorizer': 'tvec',\n",
       " 'train': 0.6699073757204257,\n",
       " 'test': -0.35635489631906103,\n",
       " 'MSE': 0.3024573361527514}"
      ]
     },
     "metadata": {},
     "output_type": "display_data"
    },
    {
     "data": {
      "text/plain": [
       "Pipeline(steps=[('rf', RandomForestRegressor(random_state=42))])"
      ]
     },
     "execution_count": 36,
     "metadata": {},
     "output_type": "execute_result"
    }
   ],
   "source": [
    "model_run('tvec',tvec, 'rf')"
   ]
  },
  {
   "cell_type": "code",
   "execution_count": 37,
   "id": "e4bb017e",
   "metadata": {},
   "outputs": [
    {
     "name": "stdout",
     "output_type": "stream",
     "text": [
      "### METRICS ###\n"
     ]
    },
    {
     "data": {
      "text/plain": [
       "{'model': 'gb',\n",
       " 'vectorizer': 'cvec',\n",
       " 'train': 0.5661753930731371,\n",
       " 'test': -0.4533736104791546,\n",
       " 'MSE': 0.31308775913732884}"
      ]
     },
     "metadata": {},
     "output_type": "display_data"
    },
    {
     "data": {
      "text/plain": [
       "Pipeline(steps=[('gb', GradientBoostingRegressor(random_state=42))])"
      ]
     },
     "execution_count": 37,
     "metadata": {},
     "output_type": "execute_result"
    }
   ],
   "source": [
    "model_run('cvec',cv, 'gb')"
   ]
  },
  {
   "cell_type": "code",
   "execution_count": 38,
   "id": "7fad8854",
   "metadata": {},
   "outputs": [
    {
     "name": "stdout",
     "output_type": "stream",
     "text": [
      "### METRICS ###\n"
     ]
    },
    {
     "data": {
      "text/plain": [
       "{'model': 'gb',\n",
       " 'vectorizer': 'tvec',\n",
       " 'train': 0.5661753930731371,\n",
       " 'test': -0.4533736104791546,\n",
       " 'MSE': 0.31308775913732884}"
      ]
     },
     "metadata": {},
     "output_type": "display_data"
    },
    {
     "data": {
      "text/plain": [
       "Pipeline(steps=[('gb', GradientBoostingRegressor(random_state=42))])"
      ]
     },
     "execution_count": 38,
     "metadata": {},
     "output_type": "execute_result"
    }
   ],
   "source": [
    "model_run('tvec',cv, 'gb')"
   ]
  },
  {
   "cell_type": "code",
   "execution_count": 39,
   "id": "e45dcdd7",
   "metadata": {},
   "outputs": [
    {
     "name": "stdout",
     "output_type": "stream",
     "text": [
      "### METRICS ###\n"
     ]
    },
    {
     "data": {
      "text/plain": [
       "{'model': 'et',\n",
       " 'vectorizer': 'cvec',\n",
       " 'train': 0.7582311190835821,\n",
       " 'test': -0.986121552242534,\n",
       " 'MSE': 0.36599939304473056}"
      ]
     },
     "metadata": {},
     "output_type": "display_data"
    },
    {
     "data": {
      "text/plain": [
       "Pipeline(steps=[('et', ExtraTreesRegressor(random_state=42))])"
      ]
     },
     "execution_count": 39,
     "metadata": {},
     "output_type": "execute_result"
    }
   ],
   "source": [
    "model_run('cvec',cv, 'et')"
   ]
  },
  {
   "cell_type": "code",
   "execution_count": 40,
   "id": "0b2ad403",
   "metadata": {},
   "outputs": [
    {
     "name": "stdout",
     "output_type": "stream",
     "text": [
      "### METRICS ###\n"
     ]
    },
    {
     "data": {
      "text/plain": [
       "{'model': 'et',\n",
       " 'vectorizer': 'tvec',\n",
       " 'train': 0.7582311190835821,\n",
       " 'test': -0.986121552242534,\n",
       " 'MSE': 0.36599939304473056}"
      ]
     },
     "metadata": {},
     "output_type": "display_data"
    },
    {
     "data": {
      "text/plain": [
       "Pipeline(steps=[('et', ExtraTreesRegressor(random_state=42))])"
      ]
     },
     "execution_count": 40,
     "metadata": {},
     "output_type": "execute_result"
    }
   ],
   "source": [
    "model_run('tvec',cv, 'et')"
   ]
  },
  {
   "cell_type": "code",
   "execution_count": 41,
   "id": "a1d4f498",
   "metadata": {},
   "outputs": [
    {
     "name": "stdout",
     "output_type": "stream",
     "text": [
      "### METRICS ###\n"
     ]
    },
    {
     "data": {
      "text/plain": [
       "{'model': 'ada',\n",
       " 'vectorizer': 'cvec',\n",
       " 'train': 0.27062052665827296,\n",
       " 'test': -0.6896810263896707,\n",
       " 'MSE': 0.3375824158356914}"
      ]
     },
     "metadata": {},
     "output_type": "display_data"
    },
    {
     "data": {
      "text/plain": [
       "Pipeline(steps=[('ada', AdaBoostRegressor(random_state=42))])"
      ]
     },
     "execution_count": 41,
     "metadata": {},
     "output_type": "execute_result"
    }
   ],
   "source": [
    "model_run('cvec',cv, 'ada')"
   ]
  },
  {
   "cell_type": "code",
   "execution_count": 42,
   "id": "e6821a91",
   "metadata": {},
   "outputs": [
    {
     "name": "stdout",
     "output_type": "stream",
     "text": [
      "### METRICS ###\n"
     ]
    },
    {
     "data": {
      "text/plain": [
       "{'model': 'ada',\n",
       " 'vectorizer': 'tvec',\n",
       " 'train': 0.27062052665827296,\n",
       " 'test': -0.6896810263896707,\n",
       " 'MSE': 0.3375824158356914}"
      ]
     },
     "metadata": {},
     "output_type": "display_data"
    },
    {
     "data": {
      "text/plain": [
       "Pipeline(steps=[('ada', AdaBoostRegressor(random_state=42))])"
      ]
     },
     "execution_count": 42,
     "metadata": {},
     "output_type": "execute_result"
    }
   ],
   "source": [
    "model_run('tvec',cv, 'ada')"
   ]
  },
  {
   "cell_type": "code",
   "execution_count": 43,
   "id": "c595cdd4",
   "metadata": {},
   "outputs": [
    {
     "name": "stdout",
     "output_type": "stream",
     "text": [
      "### METRICS ###\n"
     ]
    },
    {
     "data": {
      "text/plain": [
       "{'model': 'svr',\n",
       " 'vectorizer': 'cvec',\n",
       " 'train': 0.49386749144571895,\n",
       " 'test': -0.35539351489609095,\n",
       " 'MSE': 0.30235012659838634}"
      ]
     },
     "metadata": {},
     "output_type": "display_data"
    },
    {
     "data": {
      "text/plain": [
       "Pipeline(steps=[('svr', SVR())])"
      ]
     },
     "execution_count": 43,
     "metadata": {},
     "output_type": "execute_result"
    }
   ],
   "source": [
    "model_run('cvec',cv, 'svr')"
   ]
  },
  {
   "cell_type": "code",
   "execution_count": 44,
   "id": "58f595c0",
   "metadata": {},
   "outputs": [
    {
     "name": "stdout",
     "output_type": "stream",
     "text": [
      "### METRICS ###\n"
     ]
    },
    {
     "data": {
      "text/plain": [
       "{'model': 'svr',\n",
       " 'vectorizer': 'tvec',\n",
       " 'train': 0.49386749144571895,\n",
       " 'test': -0.35539351489609095,\n",
       " 'MSE': 0.30235012659838634}"
      ]
     },
     "metadata": {},
     "output_type": "display_data"
    },
    {
     "data": {
      "text/plain": [
       "Pipeline(steps=[('svr', SVR())])"
      ]
     },
     "execution_count": 44,
     "metadata": {},
     "output_type": "execute_result"
    }
   ],
   "source": [
    "model_run('tvec',cv, 'svr')"
   ]
  },
  {
   "cell_type": "code",
   "execution_count": 45,
   "id": "6784f613",
   "metadata": {},
   "outputs": [
    {
     "data": {
      "text/html": [
       "<div>\n",
       "<style scoped>\n",
       "    .dataframe tbody tr th:only-of-type {\n",
       "        vertical-align: middle;\n",
       "    }\n",
       "\n",
       "    .dataframe tbody tr th {\n",
       "        vertical-align: top;\n",
       "    }\n",
       "\n",
       "    .dataframe thead th {\n",
       "        text-align: right;\n",
       "    }\n",
       "</style>\n",
       "<table border=\"1\" class=\"dataframe\">\n",
       "  <thead>\n",
       "    <tr style=\"text-align: right;\">\n",
       "      <th></th>\n",
       "      <th>model</th>\n",
       "      <th>vectorizer</th>\n",
       "      <th>train</th>\n",
       "      <th>test</th>\n",
       "      <th>MSE</th>\n",
       "    </tr>\n",
       "  </thead>\n",
       "  <tbody>\n",
       "    <tr>\n",
       "      <th>0</th>\n",
       "      <td>lr</td>\n",
       "      <td>cvec</td>\n",
       "      <td>0.622089</td>\n",
       "      <td>-4.232951e+26</td>\n",
       "      <td>5.343171e+12</td>\n",
       "    </tr>\n",
       "    <tr>\n",
       "      <th>1</th>\n",
       "      <td>lr</td>\n",
       "      <td>tvec</td>\n",
       "      <td>0.536171</td>\n",
       "      <td>-4.574885e+27</td>\n",
       "      <td>1.756578e+13</td>\n",
       "    </tr>\n",
       "    <tr>\n",
       "      <th>2</th>\n",
       "      <td>rf</td>\n",
       "      <td>cvec</td>\n",
       "      <td>0.676619</td>\n",
       "      <td>-4.380920e-01</td>\n",
       "      <td>3.114374e-01</td>\n",
       "    </tr>\n",
       "    <tr>\n",
       "      <th>3</th>\n",
       "      <td>rf</td>\n",
       "      <td>tvec</td>\n",
       "      <td>0.669907</td>\n",
       "      <td>-3.563549e-01</td>\n",
       "      <td>3.024573e-01</td>\n",
       "    </tr>\n",
       "    <tr>\n",
       "      <th>4</th>\n",
       "      <td>gb</td>\n",
       "      <td>cvec</td>\n",
       "      <td>0.566175</td>\n",
       "      <td>-4.533736e-01</td>\n",
       "      <td>3.130878e-01</td>\n",
       "    </tr>\n",
       "    <tr>\n",
       "      <th>5</th>\n",
       "      <td>gb</td>\n",
       "      <td>tvec</td>\n",
       "      <td>0.566175</td>\n",
       "      <td>-4.533736e-01</td>\n",
       "      <td>3.130878e-01</td>\n",
       "    </tr>\n",
       "    <tr>\n",
       "      <th>6</th>\n",
       "      <td>et</td>\n",
       "      <td>cvec</td>\n",
       "      <td>0.758231</td>\n",
       "      <td>-9.861216e-01</td>\n",
       "      <td>3.659994e-01</td>\n",
       "    </tr>\n",
       "    <tr>\n",
       "      <th>7</th>\n",
       "      <td>et</td>\n",
       "      <td>tvec</td>\n",
       "      <td>0.758231</td>\n",
       "      <td>-9.861216e-01</td>\n",
       "      <td>3.659994e-01</td>\n",
       "    </tr>\n",
       "    <tr>\n",
       "      <th>8</th>\n",
       "      <td>ada</td>\n",
       "      <td>cvec</td>\n",
       "      <td>0.270621</td>\n",
       "      <td>-6.896810e-01</td>\n",
       "      <td>3.375824e-01</td>\n",
       "    </tr>\n",
       "    <tr>\n",
       "      <th>9</th>\n",
       "      <td>ada</td>\n",
       "      <td>tvec</td>\n",
       "      <td>0.270621</td>\n",
       "      <td>-6.896810e-01</td>\n",
       "      <td>3.375824e-01</td>\n",
       "    </tr>\n",
       "    <tr>\n",
       "      <th>10</th>\n",
       "      <td>svr</td>\n",
       "      <td>cvec</td>\n",
       "      <td>0.493867</td>\n",
       "      <td>-3.553935e-01</td>\n",
       "      <td>3.023501e-01</td>\n",
       "    </tr>\n",
       "    <tr>\n",
       "      <th>11</th>\n",
       "      <td>svr</td>\n",
       "      <td>tvec</td>\n",
       "      <td>0.493867</td>\n",
       "      <td>-3.553935e-01</td>\n",
       "      <td>3.023501e-01</td>\n",
       "    </tr>\n",
       "  </tbody>\n",
       "</table>\n",
       "</div>"
      ],
      "text/plain": [
       "   model vectorizer     train          test           MSE\n",
       "0     lr       cvec  0.622089 -4.232951e+26  5.343171e+12\n",
       "1     lr       tvec  0.536171 -4.574885e+27  1.756578e+13\n",
       "2     rf       cvec  0.676619 -4.380920e-01  3.114374e-01\n",
       "3     rf       tvec  0.669907 -3.563549e-01  3.024573e-01\n",
       "4     gb       cvec  0.566175 -4.533736e-01  3.130878e-01\n",
       "5     gb       tvec  0.566175 -4.533736e-01  3.130878e-01\n",
       "6     et       cvec  0.758231 -9.861216e-01  3.659994e-01\n",
       "7     et       tvec  0.758231 -9.861216e-01  3.659994e-01\n",
       "8    ada       cvec  0.270621 -6.896810e-01  3.375824e-01\n",
       "9    ada       tvec  0.270621 -6.896810e-01  3.375824e-01\n",
       "10   svr       cvec  0.493867 -3.553935e-01  3.023501e-01\n",
       "11   svr       tvec  0.493867 -3.553935e-01  3.023501e-01"
      ]
     },
     "execution_count": 45,
     "metadata": {},
     "output_type": "execute_result"
    }
   ],
   "source": [
    "pd.DataFrame(eval_list)"
   ]
  },
  {
   "cell_type": "markdown",
   "id": "3b96cb89",
   "metadata": {},
   "source": [
    "The best model is random forest model with cvec vectorizer. In this case i think the model is still overfit but its comparatively better than the other models."
   ]
  },
  {
   "cell_type": "markdown",
   "id": "1d11f52b",
   "metadata": {},
   "source": [
    "## Classification"
   ]
  },
  {
   "cell_type": "code",
   "execution_count": 46,
   "id": "742d181f",
   "metadata": {},
   "outputs": [],
   "source": [
    "# Split our data into train and test data. We will stratify during the split to ensure that the train and test sets \n",
    "# contains the same percentage of samplesto avoid imbalanced classes.\n",
    "X_train_cat,X_test_cat,y_train_cat,y_test_cat = train_test_split(X,y_cat,\n",
    "                                                 random_state=42, test_size=0.25) # account for slight class unbalanced "
   ]
  },
  {
   "cell_type": "code",
   "execution_count": 47,
   "id": "b83cd70c",
   "metadata": {},
   "outputs": [],
   "source": [
    "# Function to run model -- input vectorizer and model\n",
    "def model_run_classification(vec_name,vec, mod, vec_params={}, mod_params={}, grid_search=False):\n",
    "    \n",
    "    results = {}\n",
    "    \n",
    "    pipe = Pipeline([\n",
    "            (mod, models_c[mod])\n",
    "            ])\n",
    "    X_train_vec =vec.fit_transform(X_train_cat)\n",
    "    X_test_vec =vec.transform(X_test_cat)\n",
    "    X_train_df=pd.DataFrame(X_train_vec.todense(),columns=vec.get_feature_names())\n",
    "    X_test_df=pd.DataFrame(X_test_vec.todense(),columns=vec.get_feature_names())\n",
    "    if grid_search:\n",
    "   \n",
    "        gs = GridSearchCV(vec,pipe, param_grid = {**vec_params, **mod_params}, verbose=3, n_jobs=-1)\n",
    "        gs.fit(X_train_df, y_train_cat)\n",
    "        pipe = gs\n",
    "      \n",
    "    else:\n",
    "        pipe.fit(X_train_df, y_train_cat)\n",
    "\n",
    "    # Retrieve metrics\n",
    "    results['model'] = mod\n",
    "    results['vectorizer'] = vec_name\n",
    "    results['train'] = pipe.score(X_train_df, y_train_cat)\n",
    "    results['test'] = pipe.score(X_test_df, y_test_cat)\n",
    "    predictions = pipe.predict(X_test_df)\n",
    "    results['MSE'] = mean_squared_error(y_test_cat, predictions,squared=False)\n",
    "    results['accuracy']=accuracy_score(y_test_cat, predictions)\n",
    "    if grid_search:\n",
    "        tuning_list.append(results)\n",
    "        print('### BEST PARAMS ###')\n",
    "        display(pipe.best_params_)\n",
    "        \n",
    "    else:\n",
    "        eval_list_c.append(results)\n",
    "    # Generate confusion matrix.\n",
    "    class_names = [\"0-150K\",\"150K-300K\"]\n",
    "    cm = confusion_matrix(y_test_cat, predictions)  # True vs Predicted values.\n",
    "    disp = ConfusionMatrixDisplay(confusion_matrix=cm,display_labels=class_names)\n",
    "    fig, ax = plt.subplots(figsize=(15,15))\n",
    "    disp.plot(ax=ax);\n",
    "    print('### METRICS ###')\n",
    "    display(results)\n",
    "    return pipe"
   ]
  },
  {
   "cell_type": "code",
   "execution_count": 48,
   "id": "c27b15b9",
   "metadata": {},
   "outputs": [],
   "source": [
    "eval_list_c=[]"
   ]
  },
  {
   "cell_type": "code",
   "execution_count": 49,
   "id": "27a289ff",
   "metadata": {},
   "outputs": [
    {
     "name": "stdout",
     "output_type": "stream",
     "text": [
      "### METRICS ###\n"
     ]
    },
    {
     "data": {
      "text/plain": [
       "{'model': 'knn',\n",
       " 'vectorizer': 'cvec',\n",
       " 'train': 0.8247422680412371,\n",
       " 'test': 0.7469135802469136,\n",
       " 'MSE': 0.5030769521187454,\n",
       " 'accuracy': 0.7469135802469136}"
      ]
     },
     "metadata": {},
     "output_type": "display_data"
    },
    {
     "data": {
      "text/plain": [
       "Pipeline(steps=[('knn', KNeighborsClassifier(n_neighbors=3))])"
      ]
     },
     "execution_count": 49,
     "metadata": {},
     "output_type": "execute_result"
    },
    {
     "data": {
      "image/png": "[encoded data removed]",
      "text/plain": [
       "<Figure size 1080x1080 with 2 Axes>"
      ]
     },
     "metadata": {
      "needs_background": "light"
     },
     "output_type": "display_data"
    }
   ],
   "source": [
    "model_run_classification('cvec',cv, 'knn')"
   ]
  },
  {
   "cell_type": "code",
   "execution_count": 50,
   "id": "a340fe74",
   "metadata": {},
   "outputs": [
    {
     "name": "stdout",
     "output_type": "stream",
     "text": [
      "### METRICS ###\n"
     ]
    },
    {
     "data": {
      "text/plain": [
       "{'model': 'knn',\n",
       " 'vectorizer': 'tvec',\n",
       " 'train': 0.8247422680412371,\n",
       " 'test': 0.7469135802469136,\n",
       " 'MSE': 0.5030769521187454,\n",
       " 'accuracy': 0.7469135802469136}"
      ]
     },
     "metadata": {},
     "output_type": "display_data"
    },
    {
     "data": {
      "text/plain": [
       "Pipeline(steps=[('knn', KNeighborsClassifier(n_neighbors=3))])"
      ]
     },
     "execution_count": 50,
     "metadata": {},
     "output_type": "execute_result"
    },
    {
     "data": {
      "image/png": "[encoded data removed]",
      "text/plain": [
       "<Figure size 1080x1080 with 2 Axes>"
      ]
     },
     "metadata": {
      "needs_background": "light"
     },
     "output_type": "display_data"
    }
   ],
   "source": [
    "model_run_classification('tvec',cv, 'knn')"
   ]
  },
  {
   "cell_type": "code",
   "execution_count": 51,
   "id": "dd0fc5e4",
   "metadata": {},
   "outputs": [
    {
     "name": "stdout",
     "output_type": "stream",
     "text": [
      "### METRICS ###\n"
     ]
    },
    {
     "data": {
      "text/plain": [
       "{'model': 'rfc',\n",
       " 'vectorizer': 'cvec',\n",
       " 'train': 0.9298969072164949,\n",
       " 'test': 0.7839506172839507,\n",
       " 'MSE': 0.4648111258522642,\n",
       " 'accuracy': 0.7839506172839507}"
      ]
     },
     "metadata": {},
     "output_type": "display_data"
    },
    {
     "data": {
      "text/plain": [
       "Pipeline(steps=[('rfc', RandomForestClassifier(random_state=42))])"
      ]
     },
     "execution_count": 51,
     "metadata": {},
     "output_type": "execute_result"
    },
    {
     "data": {
      "image/png": "[encoded data removed]",
      "text/plain": [
       "<Figure size 1080x1080 with 2 Axes>"
      ]
     },
     "metadata": {
      "needs_background": "light"
     },
     "output_type": "display_data"
    }
   ],
   "source": [
    "model_run_classification('cvec',cv, 'rfc')"
   ]
  },
  {
   "cell_type": "code",
   "execution_count": 52,
   "id": "d45b8c32",
   "metadata": {},
   "outputs": [
    {
     "name": "stdout",
     "output_type": "stream",
     "text": [
      "### METRICS ###\n"
     ]
    },
    {
     "data": {
      "text/plain": [
       "{'model': 'rfc',\n",
       " 'vectorizer': 'tvec',\n",
       " 'train': 0.9298969072164949,\n",
       " 'test': 0.7839506172839507,\n",
       " 'MSE': 0.4648111258522642,\n",
       " 'accuracy': 0.7839506172839507}"
      ]
     },
     "metadata": {},
     "output_type": "display_data"
    },
    {
     "data": {
      "text/plain": [
       "Pipeline(steps=[('rfc', RandomForestClassifier(random_state=42))])"
      ]
     },
     "execution_count": 52,
     "metadata": {},
     "output_type": "execute_result"
    },
    {
     "data": {
      "image/png": "[encoded data removed]",
      "text/plain": [
       "<Figure size 1080x1080 with 2 Axes>"
      ]
     },
     "metadata": {
      "needs_background": "light"
     },
     "output_type": "display_data"
    }
   ],
   "source": [
    "model_run_classification('tvec',cv, 'rfc')"
   ]
  },
  {
   "cell_type": "code",
   "execution_count": 53,
   "id": "4953dad7",
   "metadata": {},
   "outputs": [
    {
     "name": "stdout",
     "output_type": "stream",
     "text": [
      "### METRICS ###\n"
     ]
    },
    {
     "data": {
      "text/plain": [
       "{'model': 'gbc',\n",
       " 'vectorizer': 'cvec',\n",
       " 'train': 0.9257731958762887,\n",
       " 'test': 0.7654320987654321,\n",
       " 'MSE': 0.4843221048378526,\n",
       " 'accuracy': 0.7654320987654321}"
      ]
     },
     "metadata": {},
     "output_type": "display_data"
    },
    {
     "data": {
      "text/plain": [
       "Pipeline(steps=[('gbc', GradientBoostingClassifier(random_state=42))])"
      ]
     },
     "execution_count": 53,
     "metadata": {},
     "output_type": "execute_result"
    },
    {
     "data": {
      "image/png": "[encoded data removed]",
      "text/plain": [
       "<Figure size 1080x1080 with 2 Axes>"
      ]
     },
     "metadata": {
      "needs_background": "light"
     },
     "output_type": "display_data"
    }
   ],
   "source": [
    "model_run_classification('cvec',cv, 'gbc')"
   ]
  },
  {
   "cell_type": "code",
   "execution_count": 54,
   "id": "0afe5c38",
   "metadata": {},
   "outputs": [
    {
     "name": "stdout",
     "output_type": "stream",
     "text": [
      "### METRICS ###\n"
     ]
    },
    {
     "data": {
      "text/plain": [
       "{'model': 'gbc',\n",
       " 'vectorizer': 'tvec',\n",
       " 'train': 0.9257731958762887,\n",
       " 'test': 0.7654320987654321,\n",
       " 'MSE': 0.4843221048378526,\n",
       " 'accuracy': 0.7654320987654321}"
      ]
     },
     "metadata": {},
     "output_type": "display_data"
    },
    {
     "data": {
      "text/plain": [
       "Pipeline(steps=[('gbc', GradientBoostingClassifier(random_state=42))])"
      ]
     },
     "execution_count": 54,
     "metadata": {},
     "output_type": "execute_result"
    },
    {
     "data": {
      "image/png": "[encoded data removed]",
      "text/plain": [
       "<Figure size 1080x1080 with 2 Axes>"
      ]
     },
     "metadata": {
      "needs_background": "light"
     },
     "output_type": "display_data"
    }
   ],
   "source": [
    "model_run_classification('tvec',cv, 'gbc')"
   ]
  },
  {
   "cell_type": "code",
   "execution_count": 55,
   "id": "946d1889",
   "metadata": {},
   "outputs": [
    {
     "name": "stdout",
     "output_type": "stream",
     "text": [
      "### METRICS ###\n"
     ]
    },
    {
     "data": {
      "text/plain": [
       "{'model': 'etc',\n",
       " 'vectorizer': 'cvec',\n",
       " 'train': 0.9298969072164949,\n",
       " 'test': 0.7962962962962963,\n",
       " 'MSE': 0.45133546692422,\n",
       " 'accuracy': 0.7962962962962963}"
      ]
     },
     "metadata": {},
     "output_type": "display_data"
    },
    {
     "data": {
      "text/plain": [
       "Pipeline(steps=[('etc', ExtraTreesClassifier(random_state=42))])"
      ]
     },
     "execution_count": 55,
     "metadata": {},
     "output_type": "execute_result"
    },
    {
     "data": {
      "image/png": "[encoded data removed]",
      "text/plain": [
       "<Figure size 1080x1080 with 2 Axes>"
      ]
     },
     "metadata": {
      "needs_background": "light"
     },
     "output_type": "display_data"
    }
   ],
   "source": [
    "model_run_classification('cvec',cv, 'etc')"
   ]
  },
  {
   "cell_type": "code",
   "execution_count": 56,
   "id": "90171b7d",
   "metadata": {},
   "outputs": [
    {
     "name": "stdout",
     "output_type": "stream",
     "text": [
      "### METRICS ###\n"
     ]
    },
    {
     "data": {
      "text/plain": [
       "{'model': 'etc',\n",
       " 'vectorizer': 'tvec',\n",
       " 'train': 0.9298969072164949,\n",
       " 'test': 0.7962962962962963,\n",
       " 'MSE': 0.45133546692422,\n",
       " 'accuracy': 0.7962962962962963}"
      ]
     },
     "metadata": {},
     "output_type": "display_data"
    },
    {
     "data": {
      "text/plain": [
       "Pipeline(steps=[('etc', ExtraTreesClassifier(random_state=42))])"
      ]
     },
     "execution_count": 56,
     "metadata": {},
     "output_type": "execute_result"
    },
    {
     "data": {
      "image/png": "[encoded data removed]",
      "text/plain": [
       "<Figure size 1080x1080 with 2 Axes>"
      ]
     },
     "metadata": {
      "needs_background": "light"
     },
     "output_type": "display_data"
    }
   ],
   "source": [
    "model_run_classification('tvec',cv, 'etc')"
   ]
  },
  {
   "cell_type": "code",
   "execution_count": 57,
   "id": "08ada135",
   "metadata": {},
   "outputs": [
    {
     "name": "stdout",
     "output_type": "stream",
     "text": [
      "### METRICS ###\n"
     ]
    },
    {
     "data": {
      "text/plain": [
       "{'model': 'etc',\n",
       " 'vectorizer': 'cvec',\n",
       " 'train': 0.9298969072164949,\n",
       " 'test': 0.7962962962962963,\n",
       " 'MSE': 0.45133546692422,\n",
       " 'accuracy': 0.7962962962962963}"
      ]
     },
     "metadata": {},
     "output_type": "display_data"
    },
    {
     "data": {
      "text/plain": [
       "Pipeline(steps=[('etc', ExtraTreesClassifier(random_state=42))])"
      ]
     },
     "execution_count": 57,
     "metadata": {},
     "output_type": "execute_result"
    },
    {
     "data": {
      "image/png": "[encoded data removed]",
      "text/plain": [
       "<Figure size 1080x1080 with 2 Axes>"
      ]
     },
     "metadata": {
      "needs_background": "light"
     },
     "output_type": "display_data"
    }
   ],
   "source": [
    "model_run_classification('cvec',cv, 'etc')"
   ]
  },
  {
   "cell_type": "code",
   "execution_count": 58,
   "id": "4bde9af2",
   "metadata": {},
   "outputs": [
    {
     "name": "stdout",
     "output_type": "stream",
     "text": [
      "### METRICS ###\n"
     ]
    },
    {
     "data": {
      "text/plain": [
       "{'model': 'adac',\n",
       " 'vectorizer': 'tvec',\n",
       " 'train': 0.9010309278350516,\n",
       " 'test': 0.7469135802469136,\n",
       " 'MSE': 0.5030769521187454,\n",
       " 'accuracy': 0.7469135802469136}"
      ]
     },
     "metadata": {},
     "output_type": "display_data"
    },
    {
     "data": {
      "text/plain": [
       "Pipeline(steps=[('adac', AdaBoostClassifier(random_state=42))])"
      ]
     },
     "execution_count": 58,
     "metadata": {},
     "output_type": "execute_result"
    },
    {
     "data": {
      "image/png": "[encoded data removed]",
      "text/plain": [
       "<Figure size 1080x1080 with 2 Axes>"
      ]
     },
     "metadata": {
      "needs_background": "light"
     },
     "output_type": "display_data"
    }
   ],
   "source": [
    "model_run_classification('tvec',cv, 'adac')"
   ]
  },
  {
   "cell_type": "code",
   "execution_count": 59,
   "id": "3e925eff",
   "metadata": {},
   "outputs": [
    {
     "name": "stdout",
     "output_type": "stream",
     "text": [
      "### METRICS ###\n"
     ]
    },
    {
     "data": {
      "text/plain": [
       "{'model': 'adac',\n",
       " 'vectorizer': 'cvec',\n",
       " 'train': 0.9010309278350516,\n",
       " 'test': 0.7469135802469136,\n",
       " 'MSE': 0.5030769521187454,\n",
       " 'accuracy': 0.7469135802469136}"
      ]
     },
     "metadata": {},
     "output_type": "display_data"
    },
    {
     "data": {
      "text/plain": [
       "Pipeline(steps=[('adac', AdaBoostClassifier(random_state=42))])"
      ]
     },
     "execution_count": 59,
     "metadata": {},
     "output_type": "execute_result"
    },
    {
     "data": {
      "image/png": "[encoded data removed]",
      "text/plain": [
       "<Figure size 1080x1080 with 2 Axes>"
      ]
     },
     "metadata": {
      "needs_background": "light"
     },
     "output_type": "display_data"
    }
   ],
   "source": [
    "model_run_classification('cvec',cv, 'adac')"
   ]
  },
  {
   "cell_type": "code",
   "execution_count": 60,
   "id": "e2d2d92b",
   "metadata": {},
   "outputs": [
    {
     "name": "stdout",
     "output_type": "stream",
     "text": [
      "### METRICS ###\n"
     ]
    },
    {
     "data": {
      "text/plain": [
       "{'model': 'svc',\n",
       " 'vectorizer': 'tvec',\n",
       " 'train': 0.8020618556701031,\n",
       " 'test': 0.8271604938271605,\n",
       " 'MSE': 0.41573970964154905,\n",
       " 'accuracy': 0.8271604938271605}"
      ]
     },
     "metadata": {},
     "output_type": "display_data"
    },
    {
     "data": {
      "text/plain": [
       "Pipeline(steps=[('svc', SVC())])"
      ]
     },
     "execution_count": 60,
     "metadata": {},
     "output_type": "execute_result"
    },
    {
     "data": {
      "image/png": "[encoded data removed]",
      "text/plain": [
       "<Figure size 1080x1080 with 2 Axes>"
      ]
     },
     "metadata": {
      "needs_background": "light"
     },
     "output_type": "display_data"
    }
   ],
   "source": [
    "model_run_classification('tvec',cv, 'svc')"
   ]
  },
  {
   "cell_type": "code",
   "execution_count": 61,
   "id": "4694e3f8",
   "metadata": {},
   "outputs": [
    {
     "name": "stdout",
     "output_type": "stream",
     "text": [
      "### METRICS ###\n"
     ]
    },
    {
     "data": {
      "text/plain": [
       "{'model': 'svc',\n",
       " 'vectorizer': 'cvec',\n",
       " 'train': 0.8020618556701031,\n",
       " 'test': 0.8271604938271605,\n",
       " 'MSE': 0.41573970964154905,\n",
       " 'accuracy': 0.8271604938271605}"
      ]
     },
     "metadata": {},
     "output_type": "display_data"
    },
    {
     "data": {
      "text/plain": [
       "Pipeline(steps=[('svc', SVC())])"
      ]
     },
     "execution_count": 61,
     "metadata": {},
     "output_type": "execute_result"
    },
    {
     "data": {
      "image/png": "[encoded data removed]",
      "text/plain": [
       "<Figure size 1080x1080 with 2 Axes>"
      ]
     },
     "metadata": {
      "needs_background": "light"
     },
     "output_type": "display_data"
    }
   ],
   "source": [
    "model_run_classification('cvec',cv, 'svc')"
   ]
  },
  {
   "cell_type": "code",
   "execution_count": 62,
   "id": "033cc3c8",
   "metadata": {},
   "outputs": [
    {
     "data": {
      "text/html": [
       "<div>\n",
       "<style scoped>\n",
       "    .dataframe tbody tr th:only-of-type {\n",
       "        vertical-align: middle;\n",
       "    }\n",
       "\n",
       "    .dataframe tbody tr th {\n",
       "        vertical-align: top;\n",
       "    }\n",
       "\n",
       "    .dataframe thead th {\n",
       "        text-align: right;\n",
       "    }\n",
       "</style>\n",
       "<table border=\"1\" class=\"dataframe\">\n",
       "  <thead>\n",
       "    <tr style=\"text-align: right;\">\n",
       "      <th></th>\n",
       "      <th>model</th>\n",
       "      <th>vectorizer</th>\n",
       "      <th>train</th>\n",
       "      <th>test</th>\n",
       "      <th>MSE</th>\n",
       "      <th>accuracy</th>\n",
       "    </tr>\n",
       "  </thead>\n",
       "  <tbody>\n",
       "    <tr>\n",
       "      <th>0</th>\n",
       "      <td>knn</td>\n",
       "      <td>cvec</td>\n",
       "      <td>0.824742</td>\n",
       "      <td>0.746914</td>\n",
       "      <td>0.503077</td>\n",
       "      <td>0.746914</td>\n",
       "    </tr>\n",
       "    <tr>\n",
       "      <th>1</th>\n",
       "      <td>knn</td>\n",
       "      <td>tvec</td>\n",
       "      <td>0.824742</td>\n",
       "      <td>0.746914</td>\n",
       "      <td>0.503077</td>\n",
       "      <td>0.746914</td>\n",
       "    </tr>\n",
       "    <tr>\n",
       "      <th>2</th>\n",
       "      <td>rfc</td>\n",
       "      <td>cvec</td>\n",
       "      <td>0.929897</td>\n",
       "      <td>0.783951</td>\n",
       "      <td>0.464811</td>\n",
       "      <td>0.783951</td>\n",
       "    </tr>\n",
       "    <tr>\n",
       "      <th>3</th>\n",
       "      <td>rfc</td>\n",
       "      <td>tvec</td>\n",
       "      <td>0.929897</td>\n",
       "      <td>0.783951</td>\n",
       "      <td>0.464811</td>\n",
       "      <td>0.783951</td>\n",
       "    </tr>\n",
       "    <tr>\n",
       "      <th>4</th>\n",
       "      <td>gbc</td>\n",
       "      <td>cvec</td>\n",
       "      <td>0.925773</td>\n",
       "      <td>0.765432</td>\n",
       "      <td>0.484322</td>\n",
       "      <td>0.765432</td>\n",
       "    </tr>\n",
       "    <tr>\n",
       "      <th>5</th>\n",
       "      <td>gbc</td>\n",
       "      <td>tvec</td>\n",
       "      <td>0.925773</td>\n",
       "      <td>0.765432</td>\n",
       "      <td>0.484322</td>\n",
       "      <td>0.765432</td>\n",
       "    </tr>\n",
       "    <tr>\n",
       "      <th>6</th>\n",
       "      <td>etc</td>\n",
       "      <td>cvec</td>\n",
       "      <td>0.929897</td>\n",
       "      <td>0.796296</td>\n",
       "      <td>0.451335</td>\n",
       "      <td>0.796296</td>\n",
       "    </tr>\n",
       "    <tr>\n",
       "      <th>7</th>\n",
       "      <td>etc</td>\n",
       "      <td>tvec</td>\n",
       "      <td>0.929897</td>\n",
       "      <td>0.796296</td>\n",
       "      <td>0.451335</td>\n",
       "      <td>0.796296</td>\n",
       "    </tr>\n",
       "    <tr>\n",
       "      <th>8</th>\n",
       "      <td>etc</td>\n",
       "      <td>cvec</td>\n",
       "      <td>0.929897</td>\n",
       "      <td>0.796296</td>\n",
       "      <td>0.451335</td>\n",
       "      <td>0.796296</td>\n",
       "    </tr>\n",
       "    <tr>\n",
       "      <th>9</th>\n",
       "      <td>adac</td>\n",
       "      <td>tvec</td>\n",
       "      <td>0.901031</td>\n",
       "      <td>0.746914</td>\n",
       "      <td>0.503077</td>\n",
       "      <td>0.746914</td>\n",
       "    </tr>\n",
       "    <tr>\n",
       "      <th>10</th>\n",
       "      <td>adac</td>\n",
       "      <td>cvec</td>\n",
       "      <td>0.901031</td>\n",
       "      <td>0.746914</td>\n",
       "      <td>0.503077</td>\n",
       "      <td>0.746914</td>\n",
       "    </tr>\n",
       "    <tr>\n",
       "      <th>11</th>\n",
       "      <td>svc</td>\n",
       "      <td>tvec</td>\n",
       "      <td>0.802062</td>\n",
       "      <td>0.827160</td>\n",
       "      <td>0.415740</td>\n",
       "      <td>0.827160</td>\n",
       "    </tr>\n",
       "    <tr>\n",
       "      <th>12</th>\n",
       "      <td>svc</td>\n",
       "      <td>cvec</td>\n",
       "      <td>0.802062</td>\n",
       "      <td>0.827160</td>\n",
       "      <td>0.415740</td>\n",
       "      <td>0.827160</td>\n",
       "    </tr>\n",
       "  </tbody>\n",
       "</table>\n",
       "</div>"
      ],
      "text/plain": [
       "   model vectorizer     train      test       MSE  accuracy\n",
       "0    knn       cvec  0.824742  0.746914  0.503077  0.746914\n",
       "1    knn       tvec  0.824742  0.746914  0.503077  0.746914\n",
       "2    rfc       cvec  0.929897  0.783951  0.464811  0.783951\n",
       "3    rfc       tvec  0.929897  0.783951  0.464811  0.783951\n",
       "4    gbc       cvec  0.925773  0.765432  0.484322  0.765432\n",
       "5    gbc       tvec  0.925773  0.765432  0.484322  0.765432\n",
       "6    etc       cvec  0.929897  0.796296  0.451335  0.796296\n",
       "7    etc       tvec  0.929897  0.796296  0.451335  0.796296\n",
       "8    etc       cvec  0.929897  0.796296  0.451335  0.796296\n",
       "9   adac       tvec  0.901031  0.746914  0.503077  0.746914\n",
       "10  adac       cvec  0.901031  0.746914  0.503077  0.746914\n",
       "11   svc       tvec  0.802062  0.827160  0.415740  0.827160\n",
       "12   svc       cvec  0.802062  0.827160  0.415740  0.827160"
      ]
     },
     "execution_count": 62,
     "metadata": {},
     "output_type": "execute_result"
    }
   ],
   "source": [
    "pd.DataFrame(eval_list_c)"
   ]
  },
  {
   "cell_type": "markdown",
   "id": "2031cfd6",
   "metadata": {},
   "source": [
    "# SVC with Gridsearch"
   ]
  },
  {
   "cell_type": "code",
   "execution_count": 63,
   "id": "e039b5f4",
   "metadata": {},
   "outputs": [
    {
     "data": {
      "text/plain": [
       "{'C': 1.0,\n",
       " 'break_ties': False,\n",
       " 'cache_size': 200,\n",
       " 'class_weight': None,\n",
       " 'coef0': 0.0,\n",
       " 'decision_function_shape': 'ovr',\n",
       " 'degree': 3,\n",
       " 'gamma': 'scale',\n",
       " 'kernel': 'rbf',\n",
       " 'max_iter': -1,\n",
       " 'probability': False,\n",
       " 'random_state': None,\n",
       " 'shrinking': True,\n",
       " 'tol': 0.001,\n",
       " 'verbose': False}"
      ]
     },
     "execution_count": 63,
     "metadata": {},
     "output_type": "execute_result"
    }
   ],
   "source": [
    "SVC().get_params()"
   ]
  },
  {
   "cell_type": "code",
   "execution_count": 64,
   "id": "d5fd3e14",
   "metadata": {},
   "outputs": [],
   "source": [
    "param_grid = {'C': [0.1,1, 10, 100],\n",
    "              'gamma': [1,0.1,0.01,0.001],\n",
    "              'kernel': ['linear','rbf', 'poly', 'sigmoid'],\n",
    "              'class_weight':['balanced', None]}"
   ]
  },
  {
   "cell_type": "code",
   "execution_count": 65,
   "id": "debeba9e",
   "metadata": {},
   "outputs": [
    {
     "name": "stdout",
     "output_type": "stream",
     "text": [
      "### METRICS ###\n"
     ]
    },
    {
     "data": {
      "text/plain": [
       "{'model': 'svc',\n",
       " 'vectorizer': 'cvec',\n",
       " 'train': 0.8020618556701031,\n",
       " 'test': 0.8271604938271605,\n",
       " 'MSE': 0.41573970964154905,\n",
       " 'accuracy': 0.8271604938271605}"
      ]
     },
     "metadata": {},
     "output_type": "display_data"
    },
    {
     "data": {
      "text/plain": [
       "Pipeline(steps=[('svc', SVC())])"
      ]
     },
     "execution_count": 65,
     "metadata": {},
     "output_type": "execute_result"
    },
    {
     "data": {
      "image/png": "[encoded data removed]",
      "text/plain": [
       "<Figure size 1080x1080 with 2 Axes>"
      ]
     },
     "metadata": {
      "needs_background": "light"
     },
     "output_type": "display_data"
    }
   ],
   "source": [
    "model_run_classification('cvec',cv, 'svc',mod_params=param_grid)"
   ]
  },
  {
   "cell_type": "code",
   "execution_count": 66,
   "id": "5d91af6d",
   "metadata": {},
   "outputs": [
    {
     "data": {
      "text/plain": [
       "140     Crown Bioscience JSR Life Sciences company se...\n",
       "213     global programmatic advertise platform specia...\n",
       "43      The Opportunity Eversight recognize leader pr...\n",
       "42      ArsenalBio s mission develop efficacious safe...\n",
       "73      As Data Intelligence department Data Analyst ...\n",
       "                             ...                        \n",
       "71      Description Are passionate customer success C...\n",
       "106     Job Summary AllianceBernstein s Request Propo...\n",
       "270     Careers UL Data Scientist Northbrook Illinois...\n",
       "436     Introduction As Data Scientist IBM help trans...\n",
       "102     Responsible ongoing support exist Data manage...\n",
       "Name: requirements_lem, Length: 485, dtype: object"
      ]
     },
     "execution_count": 66,
     "metadata": {},
     "output_type": "execute_result"
    }
   ],
   "source": [
    "X_train"
   ]
  },
  {
   "cell_type": "code",
   "execution_count": 67,
   "id": "83ba749d",
   "metadata": {},
   "outputs": [],
   "source": [
    "cvec=CountVectorizer(stop_words=custom_stopwords)"
   ]
  },
  {
   "cell_type": "code",
   "execution_count": 68,
   "id": "4d3150a3",
   "metadata": {},
   "outputs": [],
   "source": [
    "X_train_cvec =cvec.fit_transform(X_train)\n",
    "X_test_cvec = cvec.transform(X_test)"
   ]
  },
  {
   "cell_type": "code",
   "execution_count": 69,
   "id": "2cc1da50",
   "metadata": {},
   "outputs": [],
   "source": [
    "import pickle\n",
    "# Saving tvec model to disk\n",
    "pickle.dump(cvec, open('cvec.pkl','wb'))"
   ]
  },
  {
   "cell_type": "code",
   "execution_count": 70,
   "id": "ee42827b",
   "metadata": {},
   "outputs": [
    {
     "data": {
      "text/plain": [
       "<485x7417 sparse matrix of type '<class 'numpy.int64'>'\n",
       "\twith 96870 stored elements in Compressed Sparse Row format>"
      ]
     },
     "execution_count": 70,
     "metadata": {},
     "output_type": "execute_result"
    }
   ],
   "source": [
    "X_train_cvec"
   ]
  },
  {
   "cell_type": "code",
   "execution_count": 71,
   "id": "40db7a80",
   "metadata": {},
   "outputs": [
    {
     "data": {
      "text/plain": [
       "<162x7417 sparse matrix of type '<class 'numpy.int64'>'\n",
       "\twith 32122 stored elements in Compressed Sparse Row format>"
      ]
     },
     "execution_count": 71,
     "metadata": {},
     "output_type": "execute_result"
    }
   ],
   "source": [
    "X_test_cvec"
   ]
  },
  {
   "cell_type": "code",
   "execution_count": 72,
   "id": "6d987612",
   "metadata": {},
   "outputs": [],
   "source": [
    "X_train_df=pd.DataFrame(X_train_cvec.todense(),columns=cvec.get_feature_names())\n",
    "X_test_df=pd.DataFrame(X_test_cvec.todense(),columns=cvec.get_feature_names())"
   ]
  },
  {
   "cell_type": "code",
   "execution_count": 73,
   "id": "ebe3f18f",
   "metadata": {},
   "outputs": [],
   "source": [
    "rf=RandomForestRegressor(random_state=42)"
   ]
  },
  {
   "cell_type": "code",
   "execution_count": 74,
   "id": "19a1ee61",
   "metadata": {},
   "outputs": [
    {
     "data": {
      "text/plain": [
       "RandomForestRegressor(random_state=42)"
      ]
     },
     "execution_count": 74,
     "metadata": {},
     "output_type": "execute_result"
    }
   ],
   "source": [
    "rf.fit(X_train_df,y_train)"
   ]
  },
  {
   "cell_type": "code",
   "execution_count": 75,
   "id": "a5bc82ae",
   "metadata": {},
   "outputs": [],
   "source": [
    "rf_preds=rf.predict(X_test_df)"
   ]
  },
  {
   "cell_type": "code",
   "execution_count": 76,
   "id": "2ee013a1",
   "metadata": {},
   "outputs": [
    {
     "data": {
      "text/plain": [
       "0.6766186367317064"
      ]
     },
     "execution_count": 76,
     "metadata": {},
     "output_type": "execute_result"
    }
   ],
   "source": [
    "rf.score(X_train_df,y_train)"
   ]
  },
  {
   "cell_type": "code",
   "execution_count": 77,
   "id": "3a18b590",
   "metadata": {},
   "outputs": [
    {
     "data": {
      "text/plain": [
       "-0.4380919814023123"
      ]
     },
     "execution_count": 77,
     "metadata": {},
     "output_type": "execute_result"
    }
   ],
   "source": [
    "rf.score(X_test_df,y_test)"
   ]
  },
  {
   "cell_type": "code",
   "execution_count": 78,
   "id": "c952b943",
   "metadata": {},
   "outputs": [
    {
     "data": {
      "text/plain": [
       "0.31143741463267544"
      ]
     },
     "execution_count": 78,
     "metadata": {},
     "output_type": "execute_result"
    }
   ],
   "source": [
    "MSE=mean_squared_error(y_test, rf_preds, squared=False)\n",
    "MSE"
   ]
  },
  {
   "cell_type": "code",
   "execution_count": 79,
   "id": "cf2c8598",
   "metadata": {},
   "outputs": [],
   "source": [
    "fitted_cvdf=cvec.fit(X_train)"
   ]
  },
  {
   "cell_type": "code",
   "execution_count": 80,
   "id": "16e5375e",
   "metadata": {},
   "outputs": [],
   "source": [
    "cvdf_transformed=fitted_cvdf.transform(X_train)"
   ]
  },
  {
   "cell_type": "code",
   "execution_count": 81,
   "id": "e10ce1ed",
   "metadata": {},
   "outputs": [],
   "source": [
    "model_final=rf.fit(cvdf_transformed,y_train)"
   ]
  },
  {
   "cell_type": "code",
   "execution_count": 82,
   "id": "e151f84c",
   "metadata": {},
   "outputs": [],
   "source": [
    "description='experienced with data science and machine learning'"
   ]
  },
  {
   "cell_type": "code",
   "execution_count": 83,
   "id": "e3c9b577",
   "metadata": {},
   "outputs": [],
   "source": [
    "a=np.exp(model_final.predict(fitted_cvdf.transform([description]))) *1000"
   ]
  },
  {
   "cell_type": "code",
   "execution_count": 84,
   "id": "3bd47a63",
   "metadata": {},
   "outputs": [
    {
     "data": {
      "text/plain": [
       "array([109447.0453071])"
      ]
     },
     "execution_count": 84,
     "metadata": {},
     "output_type": "execute_result"
    }
   ],
   "source": [
    "a"
   ]
  },
  {
   "cell_type": "markdown",
   "id": "44638cf2",
   "metadata": {},
   "source": [
    "lis = []\n",
    "for i,j in zip(lr.coef_,X_train_df.columns):\n",
    "    dic = {}\n",
    "    dic['coef'] = i\n",
    "    lis.append(dic)\n",
    "lr_coef_df=pd.DataFrame(lis).set_index(X_train_df.columns).sort_values('coef',ascending=False)"
   ]
  },
  {
   "cell_type": "markdown",
   "id": "d65c3383",
   "metadata": {},
   "source": [
    "lr_coef_15=pd.concat([lr_coef_df.tail(15),lr_coef_df.head(15)]).sort_values('coef',ascending=False)\n",
    "lr_coef_15"
   ]
  },
  {
   "cell_type": "code",
   "execution_count": 85,
   "id": "8caca923",
   "metadata": {},
   "outputs": [
    {
     "data": {
      "text/plain": [
       "array([0.00000000e+00, 0.00000000e+00, 0.00000000e+00, ...,\n",
       "       0.00000000e+00, 3.57111912e-07, 0.00000000e+00])"
      ]
     },
     "execution_count": 85,
     "metadata": {},
     "output_type": "execute_result"
    }
   ],
   "source": [
    "rf.feature_importances_"
   ]
  },
  {
   "cell_type": "code",
   "execution_count": 86,
   "id": "28716384",
   "metadata": {},
   "outputs": [],
   "source": [
    "lis = []\n",
    "for i,j in zip(rf.feature_importances_,X_train_df.columns):\n",
    "    dic = {}\n",
    "    dic['coef'] = i\n",
    "    lis.append(dic)\n",
    "rf_coef_df=pd.DataFrame(lis).set_index(X_train_df.columns).sort_values('coef',ascending=False)"
   ]
  },
  {
   "cell_type": "code",
   "execution_count": 87,
   "id": "b3754e63",
   "metadata": {},
   "outputs": [
    {
     "data": {
      "text/html": [
       "<div>\n",
       "<style scoped>\n",
       "    .dataframe tbody tr th:only-of-type {\n",
       "        vertical-align: middle;\n",
       "    }\n",
       "\n",
       "    .dataframe tbody tr th {\n",
       "        vertical-align: top;\n",
       "    }\n",
       "\n",
       "    .dataframe thead th {\n",
       "        text-align: right;\n",
       "    }\n",
       "</style>\n",
       "<table border=\"1\" class=\"dataframe\">\n",
       "  <thead>\n",
       "    <tr style=\"text-align: right;\">\n",
       "      <th></th>\n",
       "      <th>coef</th>\n",
       "    </tr>\n",
       "  </thead>\n",
       "  <tbody>\n",
       "    <tr>\n",
       "      <th>discrimination</th>\n",
       "      <td>3.766623e-02</td>\n",
       "    </tr>\n",
       "    <tr>\n",
       "      <th>conferences</th>\n",
       "      <td>1.954454e-02</td>\n",
       "    </tr>\n",
       "    <tr>\n",
       "      <th>msc</th>\n",
       "      <td>1.888053e-02</td>\n",
       "    </tr>\n",
       "    <tr>\n",
       "      <th>dataset</th>\n",
       "      <td>1.322823e-02</td>\n",
       "    </tr>\n",
       "    <tr>\n",
       "      <th>tez</th>\n",
       "      <td>1.223453e-02</td>\n",
       "    </tr>\n",
       "    <tr>\n",
       "      <th>leaders</th>\n",
       "      <td>1.190330e-02</td>\n",
       "    </tr>\n",
       "    <tr>\n",
       "      <th>usc</th>\n",
       "      <td>1.095070e-02</td>\n",
       "    </tr>\n",
       "    <tr>\n",
       "      <th>ngs</th>\n",
       "      <td>9.855002e-03</td>\n",
       "    </tr>\n",
       "    <tr>\n",
       "      <th>address</th>\n",
       "      <td>8.986378e-03</td>\n",
       "    </tr>\n",
       "    <tr>\n",
       "      <th>ameritas</th>\n",
       "      <td>8.740133e-03</td>\n",
       "    </tr>\n",
       "    <tr>\n",
       "      <th>nurture</th>\n",
       "      <td>7.816496e-03</td>\n",
       "    </tr>\n",
       "    <tr>\n",
       "      <th>technologists</th>\n",
       "      <td>7.407684e-03</td>\n",
       "    </tr>\n",
       "    <tr>\n",
       "      <th>years</th>\n",
       "      <td>7.290015e-03</td>\n",
       "    </tr>\n",
       "    <tr>\n",
       "      <th>opt</th>\n",
       "      <td>7.026692e-03</td>\n",
       "    </tr>\n",
       "    <tr>\n",
       "      <th>wall</th>\n",
       "      <td>6.840196e-03</td>\n",
       "    </tr>\n",
       "    <tr>\n",
       "      <th>breastfeed</th>\n",
       "      <td>6.460142e-03</td>\n",
       "    </tr>\n",
       "    <tr>\n",
       "      <th>biology</th>\n",
       "      <td>6.382494e-03</td>\n",
       "    </tr>\n",
       "    <tr>\n",
       "      <th>introduction</th>\n",
       "      <td>6.083582e-03</td>\n",
       "    </tr>\n",
       "    <tr>\n",
       "      <th>experience</th>\n",
       "      <td>5.752655e-03</td>\n",
       "    </tr>\n",
       "    <tr>\n",
       "      <th>proficiencies</th>\n",
       "      <td>5.670635e-03</td>\n",
       "    </tr>\n",
       "    <tr>\n",
       "      <th>listen</th>\n",
       "      <td>5.315267e-03</td>\n",
       "    </tr>\n",
       "    <tr>\n",
       "      <th>nasdaq</th>\n",
       "      <td>5.149771e-03</td>\n",
       "    </tr>\n",
       "    <tr>\n",
       "      <th>analytic</th>\n",
       "      <td>5.121107e-03</td>\n",
       "    </tr>\n",
       "    <tr>\n",
       "      <th>ambiguity</th>\n",
       "      <td>5.084994e-03</td>\n",
       "    </tr>\n",
       "    <tr>\n",
       "      <th>activities</th>\n",
       "      <td>4.885724e-03</td>\n",
       "    </tr>\n",
       "    <tr>\n",
       "      <th>giants</th>\n",
       "      <td>4.463467e-03</td>\n",
       "    </tr>\n",
       "    <tr>\n",
       "      <th>qualification</th>\n",
       "      <td>4.291343e-03</td>\n",
       "    </tr>\n",
       "    <tr>\n",
       "      <th>classifiers</th>\n",
       "      <td>4.270650e-03</td>\n",
       "    </tr>\n",
       "    <tr>\n",
       "      <th>drive</th>\n",
       "      <td>4.086239e-03</td>\n",
       "    </tr>\n",
       "    <tr>\n",
       "      <th>help</th>\n",
       "      <td>4.030794e-03</td>\n",
       "    </tr>\n",
       "    <tr>\n",
       "      <th>iconic</th>\n",
       "      <td>0.000000e+00</td>\n",
       "    </tr>\n",
       "    <tr>\n",
       "      <th>immunoassay</th>\n",
       "      <td>0.000000e+00</td>\n",
       "    </tr>\n",
       "    <tr>\n",
       "      <th>icon</th>\n",
       "      <td>0.000000e+00</td>\n",
       "    </tr>\n",
       "    <tr>\n",
       "      <th>icims</th>\n",
       "      <td>0.000000e+00</td>\n",
       "    </tr>\n",
       "    <tr>\n",
       "      <th>ich</th>\n",
       "      <td>0.000000e+00</td>\n",
       "    </tr>\n",
       "    <tr>\n",
       "      <th>icellis</th>\n",
       "      <td>0.000000e+00</td>\n",
       "    </tr>\n",
       "    <tr>\n",
       "      <th>ibmers</th>\n",
       "      <td>0.000000e+00</td>\n",
       "    </tr>\n",
       "    <tr>\n",
       "      <th>ibmer</th>\n",
       "      <td>0.000000e+00</td>\n",
       "    </tr>\n",
       "    <tr>\n",
       "      <th>ietm</th>\n",
       "      <td>0.000000e+00</td>\n",
       "    </tr>\n",
       "    <tr>\n",
       "      <th>iii</th>\n",
       "      <td>0.000000e+00</td>\n",
       "    </tr>\n",
       "    <tr>\n",
       "      <th>immunologist</th>\n",
       "      <td>0.000000e+00</td>\n",
       "    </tr>\n",
       "    <tr>\n",
       "      <th>iiot</th>\n",
       "      <td>0.000000e+00</td>\n",
       "    </tr>\n",
       "    <tr>\n",
       "      <th>immunohistochemistry</th>\n",
       "      <td>0.000000e+00</td>\n",
       "    </tr>\n",
       "    <tr>\n",
       "      <th>immunoassays</th>\n",
       "      <td>0.000000e+00</td>\n",
       "    </tr>\n",
       "    <tr>\n",
       "      <th>immigration</th>\n",
       "      <td>0.000000e+00</td>\n",
       "    </tr>\n",
       "    <tr>\n",
       "      <th>immersive</th>\n",
       "      <td>0.000000e+00</td>\n",
       "    </tr>\n",
       "    <tr>\n",
       "      <th>immediately</th>\n",
       "      <td>0.000000e+00</td>\n",
       "    </tr>\n",
       "    <tr>\n",
       "      <th>immediacy</th>\n",
       "      <td>0.000000e+00</td>\n",
       "    </tr>\n",
       "    <tr>\n",
       "      <th>imaginative</th>\n",
       "      <td>0.000000e+00</td>\n",
       "    </tr>\n",
       "    <tr>\n",
       "      <th>imagery</th>\n",
       "      <td>0.000000e+00</td>\n",
       "    </tr>\n",
       "    <tr>\n",
       "      <th>illustrative</th>\n",
       "      <td>0.000000e+00</td>\n",
       "    </tr>\n",
       "    <tr>\n",
       "      <th>illustrate</th>\n",
       "      <td>0.000000e+00</td>\n",
       "    </tr>\n",
       "    <tr>\n",
       "      <th>illuminate</th>\n",
       "      <td>0.000000e+00</td>\n",
       "    </tr>\n",
       "    <tr>\n",
       "      <th>illnesses</th>\n",
       "      <td>0.000000e+00</td>\n",
       "    </tr>\n",
       "    <tr>\n",
       "      <th>ili</th>\n",
       "      <td>0.000000e+00</td>\n",
       "    </tr>\n",
       "    <tr>\n",
       "      <th>icw</th>\n",
       "      <td>0.000000e+00</td>\n",
       "    </tr>\n",
       "    <tr>\n",
       "      <th>virgil</th>\n",
       "      <td>-1.519263e-18</td>\n",
       "    </tr>\n",
       "    <tr>\n",
       "      <th>thoughtful</th>\n",
       "      <td>-2.495324e-18</td>\n",
       "    </tr>\n",
       "    <tr>\n",
       "      <th>rwd</th>\n",
       "      <td>-3.317100e-18</td>\n",
       "    </tr>\n",
       "    <tr>\n",
       "      <th>gsks</th>\n",
       "      <td>-1.251952e-17</td>\n",
       "    </tr>\n",
       "  </tbody>\n",
       "</table>\n",
       "</div>"
      ],
      "text/plain": [
       "                              coef\n",
       "discrimination        3.766623e-02\n",
       "conferences           1.954454e-02\n",
       "msc                   1.888053e-02\n",
       "dataset               1.322823e-02\n",
       "tez                   1.223453e-02\n",
       "leaders               1.190330e-02\n",
       "usc                   1.095070e-02\n",
       "ngs                   9.855002e-03\n",
       "address               8.986378e-03\n",
       "ameritas              8.740133e-03\n",
       "nurture               7.816496e-03\n",
       "technologists         7.407684e-03\n",
       "years                 7.290015e-03\n",
       "opt                   7.026692e-03\n",
       "wall                  6.840196e-03\n",
       "breastfeed            6.460142e-03\n",
       "biology               6.382494e-03\n",
       "introduction          6.083582e-03\n",
       "experience            5.752655e-03\n",
       "proficiencies         5.670635e-03\n",
       "listen                5.315267e-03\n",
       "nasdaq                5.149771e-03\n",
       "analytic              5.121107e-03\n",
       "ambiguity             5.084994e-03\n",
       "activities            4.885724e-03\n",
       "giants                4.463467e-03\n",
       "qualification         4.291343e-03\n",
       "classifiers           4.270650e-03\n",
       "drive                 4.086239e-03\n",
       "help                  4.030794e-03\n",
       "iconic                0.000000e+00\n",
       "immunoassay           0.000000e+00\n",
       "icon                  0.000000e+00\n",
       "icims                 0.000000e+00\n",
       "ich                   0.000000e+00\n",
       "icellis               0.000000e+00\n",
       "ibmers                0.000000e+00\n",
       "ibmer                 0.000000e+00\n",
       "ietm                  0.000000e+00\n",
       "iii                   0.000000e+00\n",
       "immunologist          0.000000e+00\n",
       "iiot                  0.000000e+00\n",
       "immunohistochemistry  0.000000e+00\n",
       "immunoassays          0.000000e+00\n",
       "immigration           0.000000e+00\n",
       "immersive             0.000000e+00\n",
       "immediately           0.000000e+00\n",
       "immediacy             0.000000e+00\n",
       "imaginative           0.000000e+00\n",
       "imagery               0.000000e+00\n",
       "illustrative          0.000000e+00\n",
       "illustrate            0.000000e+00\n",
       "illuminate            0.000000e+00\n",
       "illnesses             0.000000e+00\n",
       "ili                   0.000000e+00\n",
       "icw                   0.000000e+00\n",
       "virgil               -1.519263e-18\n",
       "thoughtful           -2.495324e-18\n",
       "rwd                  -3.317100e-18\n",
       "gsks                 -1.251952e-17"
      ]
     },
     "execution_count": 87,
     "metadata": {},
     "output_type": "execute_result"
    }
   ],
   "source": [
    "rf_coef_15=pd.concat([rf_coef_df.tail(30),rf_coef_df.head(30)]).sort_values('coef',ascending=False)\n",
    "rf_coef_15"
   ]
  },
  {
   "cell_type": "code",
   "execution_count": 88,
   "id": "6429c3ba",
   "metadata": {},
   "outputs": [
    {
     "data": {
      "image/png": "[encoded data removed]",
      "text/plain": [
       "<Figure size 1440x1440 with 1 Axes>"
      ]
     },
     "metadata": {
      "needs_background": "light"
     },
     "output_type": "display_data"
    }
   ],
   "source": [
    "plt.figure(figsize=(20,20))\n",
    "sns.barplot(rf_coef_15['coef'],rf_coef_15.index);"
   ]
  },
  {
   "cell_type": "code",
   "execution_count": 89,
   "id": "dc46fd65",
   "metadata": {},
   "outputs": [],
   "source": [
    "import pickle\n",
    "import requests\n",
    "import json"
   ]
  },
  {
   "cell_type": "code",
   "execution_count": 90,
   "id": "d02d050c",
   "metadata": {},
   "outputs": [],
   "source": [
    "# Saving tfidf and lr model to disk\n",
    "pickle.dump(fitted_cvdf, open('fitted_cvdf.pkl','wb'))\n",
    "pickle.dump(model_final, open('model.pkl','wb'))"
   ]
  },
  {
   "cell_type": "code",
   "execution_count": null,
   "id": "98dba1a8",
   "metadata": {},
   "outputs": [],
   "source": []
  },
  {
   "cell_type": "code",
   "execution_count": 91,
   "id": "adca9899",
   "metadata": {},
   "outputs": [],
   "source": [
    "# Loading model to compare the results\n",
    "model = pickle.load(open('model.pkl','rb'))"
   ]
  },
  {
   "cell_type": "markdown",
   "id": "87469624",
   "metadata": {},
   "source": [
    "# Word2Vec"
   ]
  },
  {
   "cell_type": "code",
   "execution_count": 92,
   "id": "6f8032e8",
   "metadata": {},
   "outputs": [],
   "source": [
    "from gensim.models import Word2Vec\n",
    "import nltk"
   ]
  },
  {
   "cell_type": "code",
   "execution_count": 93,
   "id": "0b656a29",
   "metadata": {},
   "outputs": [],
   "source": [
    "def clean_word(job_descriptions):\n",
    "    jd_data=[]\n",
    "    pattern = \"([a-zA-Z]+(?:'[a-z]+)?)\"\n",
    "    stopwords_list = stopwords.words('english')\n",
    "    stopwords_list += ['0', '1', '2', '3', '4', '5', '6', '7', '8', '9']\n",
    "    stopwords_list += ['www','http','com','llc','non','pm','am','eg','e','g','ie','i']\n",
    "    \n",
    "    for jd in job_descriptions:\n",
    "        jd_tokens_raw = nltk.regexp_tokenize(jd, pattern)\n",
    "        jd_tokens=[word.lower() for word in jd_tokens_raw]\n",
    "        jd_words_stopped = [word for word in jd_tokens if word not in stopwords_list]\n",
    "        jd_data.append(jd_words_stopped)\n",
    "\n",
    "    return pd.Series(jd_data) # Turn list of lists to series of lists to use in Word2Vec"
   ]
  },
  {
   "cell_type": "code",
   "execution_count": 94,
   "id": "2e4c797f",
   "metadata": {},
   "outputs": [],
   "source": [
    "X_cleaned=clean_word(X_train)"
   ]
  },
  {
   "cell_type": "code",
   "execution_count": 95,
   "id": "f83b3b48",
   "metadata": {},
   "outputs": [
    {
     "data": {
      "text/plain": [
       "0      5.036953\n",
       "1      5.036953\n",
       "2      5.036953\n",
       "3      5.036953\n",
       "4      5.036953\n",
       "         ...   \n",
       "643    4.912655\n",
       "644    4.912655\n",
       "645    4.912655\n",
       "646    4.912655\n",
       "647    4.912655\n",
       "Name: log_avg_salary, Length: 647, dtype: float64"
      ]
     },
     "execution_count": 95,
     "metadata": {},
     "output_type": "execute_result"
    }
   ],
   "source": [
    "y"
   ]
  },
  {
   "cell_type": "code",
   "execution_count": 96,
   "id": "5a5ced69",
   "metadata": {},
   "outputs": [
    {
     "data": {
      "text/plain": [
       "485"
      ]
     },
     "execution_count": 96,
     "metadata": {},
     "output_type": "execute_result"
    }
   ],
   "source": [
    "len(X_train)"
   ]
  },
  {
   "cell_type": "code",
   "execution_count": 97,
   "id": "b0e54e0b",
   "metadata": {},
   "outputs": [
    {
     "data": {
      "text/plain": [
       "485"
      ]
     },
     "execution_count": 97,
     "metadata": {},
     "output_type": "execute_result"
    }
   ],
   "source": [
    "len(X_cleaned)"
   ]
  },
  {
   "cell_type": "code",
   "execution_count": 98,
   "id": "42883eea",
   "metadata": {},
   "outputs": [],
   "source": [
    "w2v_model1 = Word2Vec(X_cleaned,\n",
    "                window=10,\n",
    "                min_count=4, #min frequency appeared in the corpus\n",
    "                workers=4)"
   ]
  },
  {
   "cell_type": "code",
   "execution_count": 99,
   "id": "59cb3ae9",
   "metadata": {},
   "outputs": [
    {
     "data": {
      "text/plain": [
       "(3077610, 16350460)"
      ]
     },
     "execution_count": 99,
     "metadata": {},
     "output_type": "execute_result"
    }
   ],
   "source": [
    "w2v_model1.train(X,total_examples=w2v_model1.corpus_count, epochs=10)"
   ]
  },
  {
   "cell_type": "code",
   "execution_count": 100,
   "id": "26e55221",
   "metadata": {},
   "outputs": [],
   "source": [
    "wv = w2v_model1.wv"
   ]
  },
  {
   "cell_type": "code",
   "execution_count": 101,
   "id": "96a6aab9",
   "metadata": {},
   "outputs": [
    {
     "data": {
      "text/plain": [
       "<gensim.models.keyedvectors.Word2VecKeyedVectors at 0x201daf09a30>"
      ]
     },
     "execution_count": 101,
     "metadata": {},
     "output_type": "execute_result"
    }
   ],
   "source": [
    "wv"
   ]
  },
  {
   "cell_type": "code",
   "execution_count": 102,
   "id": "d20a9c0f",
   "metadata": {},
   "outputs": [],
   "source": [
    "#print('Vocabulary size:%d' % len(wv))"
   ]
  },
  {
   "cell_type": "code",
   "execution_count": 103,
   "id": "a3c72b7a",
   "metadata": {},
   "outputs": [
    {
     "data": {
      "text/plain": [
       "[('algorithms', 0.9971545934677124),\n",
       " ('predictive', 0.9951318502426147),\n",
       " ('mine', 0.9934642910957336),\n",
       " ('methods', 0.992043137550354),\n",
       " ('techniques', 0.9911762475967407),\n",
       " ('analysis', 0.985263466835022),\n",
       " ('use', 0.9816413521766663),\n",
       " ('statistical', 0.9777461886405945),\n",
       " ('contemporary', 0.9743627905845642),\n",
       " ('structure', 0.9721869230270386)]"
      ]
     },
     "execution_count": 103,
     "metadata": {},
     "output_type": "execute_result"
    }
   ],
   "source": [
    "wv.most_similar('model')"
   ]
  },
  {
   "cell_type": "code",
   "execution_count": 104,
   "id": "f870e82d",
   "metadata": {},
   "outputs": [],
   "source": [
    "#wrap into a dictionary to use in the pipeline\n",
    "w2v = dict(zip(w2v_model1.wv.index2word, w2v_model1.wv.vectors))"
   ]
  },
  {
   "cell_type": "code",
   "execution_count": 105,
   "id": "2ea2f478",
   "metadata": {},
   "outputs": [
    {
     "data": {
      "text/plain": [
       "3472"
      ]
     },
     "execution_count": 105,
     "metadata": {},
     "output_type": "execute_result"
    }
   ],
   "source": [
    "len(w2v.values())"
   ]
  },
  {
   "cell_type": "code",
   "execution_count": 106,
   "id": "71a2bfc9",
   "metadata": {},
   "outputs": [],
   "source": [
    "#Averaging word vectors for all words in a text.\n",
    "\n",
    "class MeanEmbeddingVectorizer(object):\n",
    "    def __init__(self, word2vec):\n",
    "        self.word2vec = word2vec\n",
    "        # if a text is empty we should return a vector of zeros\n",
    "        # with the same dimensionality as all the other vectors\n",
    "        self.dim = len(word2vec.values())\n",
    "\n",
    "    def fit(self, X, y):\n",
    "        return self\n",
    "\n",
    "    def transform(self, X):\n",
    "        return np.array([\n",
    "            np.mean([self.word2vec[w] for w in words if w in self.word2vec]\n",
    "                    or [np.zeros(self.dim)], axis=0)\n",
    "            for words in X\n",
    "        ])"
   ]
  },
  {
   "cell_type": "markdown",
   "id": "226a2a3b",
   "metadata": {},
   "source": [
    "## Use Word2Vec in the pipeline"
   ]
  },
  {
   "cell_type": "code",
   "execution_count": 107,
   "id": "38e8d946",
   "metadata": {},
   "outputs": [],
   "source": [
    "#Import libraries\n",
    "from sklearn.ensemble import RandomForestRegressor, RandomForestClassifier\n",
    "from sklearn.svm import SVC\n",
    "from sklearn.linear_model import SGDClassifier\n",
    "from sklearn.pipeline import Pipeline\n",
    "from sklearn.model_selection import cross_val_score\n",
    "from sklearn.model_selection import GridSearchCV\n",
    "from sklearn.metrics import confusion_matrix\n",
    "\n",
    "import time\n",
    "import nltk\n",
    "from nltk.corpus import stopwords\n",
    "\n",
    "#NLP\n",
    "from nltk import word_tokenize, FreqDist\n",
    "from nltk.corpus import stopwords\n",
    "from nltk.collocations import *\n",
    "import string, re\n",
    "from gensim.models import Word2Vec\n",
    "from sklearn.manifold import TSNE\n",
    "from sklearn.feature_extraction.text import TfidfVectorizer\n",
    "\n",
    "#Deep learning\n",
    "from tensorflow.keras.preprocessing.sequence import pad_sequences\n",
    "from tensorflow.keras.layers import Input, Dense, LSTM, Embedding\n",
    "from tensorflow.keras.layers import Dropout, Activation, Bidirectional, GlobalMaxPool1D\n",
    "from tensorflow.keras.layers import Conv1D, Conv2D\n",
    "from tensorflow.keras.layers import MaxPooling1D, MaxPooling2D\n",
    "from tensorflow.keras.models import Sequential\n",
    "from tensorflow.keras import initializers, regularizers, constraints, optimizers, layers\n",
    "from tensorflow.keras.preprocessing import text, sequence\n",
    "from tensorflow.keras.layers import Flatten\n",
    "from tensorflow.keras.utils import to_categorical\n",
    "from keras.callbacks import EarlyStopping\n",
    "from keras import regularizers\n",
    "from keras.wrappers.scikit_learn import KerasClassifier #to use Keras in sklearn\n",
    "\n",
    "#Deep Learning - Mixed inputs\n",
    "#from keras.layers.normalization import BatchNormalization\n",
    "from keras.layers.core import Activation\n",
    "from keras.layers.core import Dropout\n",
    "from keras.layers.core import Dense\n",
    "from keras.layers import Flatten\n",
    "from keras.layers import Input\n",
    "from keras.models import Model\n",
    "from keras.layers import concatenate\n",
    "from tensorflow.keras.optimizers import Adam, RMSprop\n",
    "from tensorflow.keras.optimizers import Adam\n",
    "\n",
    "#Save Model\n",
    "import pickle\n",
    "\n",
    "import matplotlib.pyplot as plt\n",
    "\n",
    "from pprint import pprint\n",
    "from time import time\n",
    "import logging\n",
    "\n",
    "import pandas as pd\n",
    "import numpy as np\n",
    "import seaborn as sns\n",
    "import matplotlib.pyplot as plt\n",
    "\n",
    "%matplotlib inline\n",
    "np.random.seed(0)\n",
    "\n",
    "from pprint import pprint\n",
    "from time import time\n",
    "import logging"
   ]
  },
  {
   "cell_type": "code",
   "execution_count": 108,
   "id": "100493b3",
   "metadata": {},
   "outputs": [],
   "source": [
    "#Use pipeline \n",
    "\n",
    "rf =  Pipeline([('Word2Vec Vectorizer', MeanEmbeddingVectorizer(w2v)),\n",
    "              ('Random Forest', RandomForestRegressor())])\n",
    "\n",
    "sgd = Pipeline([('Word2Vec Vectorizer', MeanEmbeddingVectorizer(w2v)),\n",
    "               ('Stochastic Gradient Descent', SGDClassifier(alpha=0.001, n_jobs=3))])\n",
    "\n",
    "svr = Pipeline([('Word2Vec Vectorizer', MeanEmbeddingVectorizer(w2v)),\n",
    "              ('SVR-lin', SVR())])\n",
    "                \n",
    "lr = Pipeline([('Word2Vec Vectorizer', MeanEmbeddingVectorizer(w2v)),\n",
    "              ('Linear Regression', LinearRegression(n_jobs=3))])"
   ]
  },
  {
   "cell_type": "code",
   "execution_count": 109,
   "id": "eeef9c32",
   "metadata": {},
   "outputs": [],
   "source": [
    "models = [('Random Forest', rf),\n",
    "          ('Support Vector Regressor', svr),\n",
    "          ('Linear Regression', lr)]"
   ]
  },
  {
   "cell_type": "code",
   "execution_count": 110,
   "id": "935d270c",
   "metadata": {},
   "outputs": [],
   "source": [
    "scores = [(name, cross_val_score(model, X_cleaned, y_train, cv=2).mean()) for name, model, in models]"
   ]
  },
  {
   "cell_type": "code",
   "execution_count": 111,
   "id": "29e34b34",
   "metadata": {},
   "outputs": [
    {
     "data": {
      "text/plain": [
       "[('Random Forest', -0.14611052987052164),\n",
       " ('Support Vector Regressor', 0.0012080040278672488),\n",
       " ('Linear Regression', -0.9161307493874807)]"
      ]
     },
     "execution_count": 111,
     "metadata": {},
     "output_type": "execute_result"
    }
   ],
   "source": [
    "scores"
   ]
  },
  {
   "cell_type": "code",
   "execution_count": 112,
   "id": "8bf8c289",
   "metadata": {},
   "outputs": [],
   "source": [
    "#for word 2 vec, random forest performs the best but still lower than using linear regression with tvec as shown previously."
   ]
  },
  {
   "cell_type": "markdown",
   "id": "baf859c6",
   "metadata": {},
   "source": [
    "# Deep Learning Models with Word Embeddings"
   ]
  },
  {
   "cell_type": "code",
   "execution_count": 113,
   "id": "41d001d7",
   "metadata": {},
   "outputs": [],
   "source": [
    "from keras_preprocessing import text"
   ]
  },
  {
   "cell_type": "code",
   "execution_count": 114,
   "id": "617cc5a9",
   "metadata": {},
   "outputs": [],
   "source": [
    "from keras_preprocessing.sequence import pad_sequences"
   ]
  },
  {
   "cell_type": "code",
   "execution_count": 115,
   "id": "c57f1d2d",
   "metadata": {},
   "outputs": [],
   "source": [
    "from keras.utils import np_utils"
   ]
  },
  {
   "cell_type": "code",
   "execution_count": 116,
   "id": "b71c4863",
   "metadata": {},
   "outputs": [],
   "source": [
    "tokenizer = text.Tokenizer()\n",
    "tokenizer.num_words = 1000  #limit the number of words to keep most common 1000 words\n",
    "tokenizer.fit_on_texts(list(job['requirements_lem']))\n",
    "list_tokenized_jd = tokenizer.texts_to_sequences(job['requirements_lem'])\n",
    "\n",
    "X_t = pad_sequences(list_tokenized_jd, maxlen=400, padding = 'post') "
   ]
  },
  {
   "cell_type": "code",
   "execution_count": 117,
   "id": "425c31eb",
   "metadata": {},
   "outputs": [],
   "source": [
    "#Encoding to categorical classes\n",
    "y_cat_dl = to_categorical(y_cat.values, num_classes=6, dtype=\"float32\")"
   ]
  },
  {
   "cell_type": "code",
   "execution_count": 118,
   "id": "da5ef851",
   "metadata": {},
   "outputs": [
    {
     "data": {
      "text/plain": [
       "array([[0., 1., 0., 0., 0., 0.],\n",
       "       [0., 1., 0., 0., 0., 0.],\n",
       "       [0., 1., 0., 0., 0., 0.],\n",
       "       ...,\n",
       "       [1., 0., 0., 0., 0., 0.],\n",
       "       [1., 0., 0., 0., 0., 0.],\n",
       "       [1., 0., 0., 0., 0., 0.]], dtype=float32)"
      ]
     },
     "execution_count": 118,
     "metadata": {},
     "output_type": "execute_result"
    }
   ],
   "source": [
    "y_cat_dl"
   ]
  },
  {
   "cell_type": "code",
   "execution_count": 119,
   "id": "544cee09",
   "metadata": {},
   "outputs": [],
   "source": [
    "#train test split\n",
    "X_train, X_test, y_train, y_test = train_test_split(X_t, y_cat_dl, test_size=0.2, random_state=4)"
   ]
  },
  {
   "cell_type": "markdown",
   "id": "f99524b2",
   "metadata": {},
   "source": [
    "# Create Base Model"
   ]
  },
  {
   "cell_type": "code",
   "execution_count": 120,
   "id": "306f570e",
   "metadata": {},
   "outputs": [],
   "source": [
    "model = Sequential()\n",
    "\n",
    "embedding_size = 64  #each word onto a 32 length real valued vector\n",
    "model.add(Embedding(input_dim = 1000, output_dim = embedding_size, input_length = 400)) #try 100, 200, single LSTM and single dense 100\n",
    "model.add(LSTM(100))\n",
    "#model.add(LSTM(64))\n",
    "#model.add(GlobalMaxPool1D())\n",
    "#model.add(Dropout(0.5))\n",
    "#model.add(Dense(64, activation='relu'))\n",
    "model.add(Dropout(0.5))\n",
    "model.add(Dense(16, activation='relu'))\n",
    "model.add(Flatten())   #add Flatten layer \n",
    "model.add(Dense(6, activation='softmax'))"
   ]
  },
  {
   "cell_type": "code",
   "execution_count": 121,
   "id": "631ff24b",
   "metadata": {},
   "outputs": [
    {
     "name": "stdout",
     "output_type": "stream",
     "text": [
      "Model: \"sequential\"\n",
      "_________________________________________________________________\n",
      " Layer (type)                Output Shape              Param #   \n",
      "=================================================================\n",
      " embedding (Embedding)       (None, 400, 64)           64000     \n",
      "                                                                 \n",
      " lstm (LSTM)                 (None, 100)               66000     \n",
      "                                                                 \n",
      " dropout (Dropout)           (None, 100)               0         \n",
      "                                                                 \n",
      " dense (Dense)               (None, 16)                1616      \n",
      "                                                                 \n",
      " flatten (Flatten)           (None, 16)                0         \n",
      "                                                                 \n",
      " dense_1 (Dense)             (None, 6)                 102       \n",
      "                                                                 \n",
      "=================================================================\n",
      "Total params: 131,718\n",
      "Trainable params: 131,718\n",
      "Non-trainable params: 0\n",
      "_________________________________________________________________\n"
     ]
    }
   ],
   "source": [
    "model.summary()"
   ]
  },
  {
   "cell_type": "code",
   "execution_count": 122,
   "id": "fb11bf6e",
   "metadata": {},
   "outputs": [],
   "source": [
    "model.compile(loss='categorical_crossentropy', optimizer='adam', metrics=['accuracy'])"
   ]
  },
  {
   "cell_type": "code",
   "execution_count": 123,
   "id": "85b854fd",
   "metadata": {},
   "outputs": [
    {
     "name": "stdout",
     "output_type": "stream",
     "text": [
      "Epoch 1/20\n",
      "11/11 [==============================] - 5s 348ms/step - loss: 1.6463 - accuracy: 0.6925 - val_loss: 0.9945 - val_accuracy: 0.8077\n",
      "Epoch 2/20\n",
      "11/11 [==============================] - 3s 307ms/step - loss: 0.7615 - accuracy: 0.7950 - val_loss: 0.5808 - val_accuracy: 0.8077\n",
      "Epoch 3/20\n",
      "11/11 [==============================] - 3s 315ms/step - loss: 0.5617 - accuracy: 0.7892 - val_loss: 0.5189 - val_accuracy: 0.8077\n",
      "Epoch 4/20\n",
      "11/11 [==============================] - 3s 316ms/step - loss: 0.5552 - accuracy: 0.7834 - val_loss: 0.4969 - val_accuracy: 0.8077\n",
      "Epoch 5/20\n",
      "11/11 [==============================] - 4s 323ms/step - loss: 0.5316 - accuracy: 0.7950 - val_loss: 0.4936 - val_accuracy: 0.8077\n",
      "Epoch 6/20\n",
      "11/11 [==============================] - 3s 312ms/step - loss: 0.5298 - accuracy: 0.7950 - val_loss: 0.4938 - val_accuracy: 0.8077\n",
      "Epoch 7/20\n",
      "11/11 [==============================] - 3s 314ms/step - loss: 0.5230 - accuracy: 0.7950 - val_loss: 0.4915 - val_accuracy: 0.8077\n",
      "Epoch 8/20\n",
      "11/11 [==============================] - 4s 322ms/step - loss: 0.5239 - accuracy: 0.7950 - val_loss: 0.4913 - val_accuracy: 0.8077\n",
      "Epoch 9/20\n",
      "11/11 [==============================] - 3s 309ms/step - loss: 0.5264 - accuracy: 0.7950 - val_loss: 0.4911 - val_accuracy: 0.8077\n",
      "Epoch 10/20\n",
      "11/11 [==============================] - 3s 312ms/step - loss: 0.5219 - accuracy: 0.7950 - val_loss: 0.4934 - val_accuracy: 0.8077\n",
      "Epoch 11/20\n",
      "11/11 [==============================] - 3s 314ms/step - loss: 0.5130 - accuracy: 0.7950 - val_loss: 0.4912 - val_accuracy: 0.8077\n",
      "Epoch 12/20\n",
      "11/11 [==============================] - 3s 313ms/step - loss: 0.5179 - accuracy: 0.7950 - val_loss: 0.4916 - val_accuracy: 0.8077\n",
      "Epoch 13/20\n",
      "11/11 [==============================] - 4s 321ms/step - loss: 0.5250 - accuracy: 0.7950 - val_loss: 0.4948 - val_accuracy: 0.8077\n",
      "Epoch 14/20\n",
      "11/11 [==============================] - 3s 312ms/step - loss: 0.5191 - accuracy: 0.7950 - val_loss: 0.4925 - val_accuracy: 0.8077\n",
      "Epoch 15/20\n",
      "11/11 [==============================] - 3s 309ms/step - loss: 0.5214 - accuracy: 0.7950 - val_loss: 0.4944 - val_accuracy: 0.8077\n",
      "Epoch 16/20\n",
      "11/11 [==============================] - 4s 327ms/step - loss: 0.5111 - accuracy: 0.7950 - val_loss: 0.4921 - val_accuracy: 0.8077\n",
      "Epoch 17/20\n",
      "11/11 [==============================] - 3s 315ms/step - loss: 0.5226 - accuracy: 0.7950 - val_loss: 0.4928 - val_accuracy: 0.8077\n",
      "Epoch 18/20\n",
      "11/11 [==============================] - 3s 313ms/step - loss: 0.5132 - accuracy: 0.7950 - val_loss: 0.4921 - val_accuracy: 0.8077\n",
      "Epoch 19/20\n",
      "11/11 [==============================] - 3s 313ms/step - loss: 0.5137 - accuracy: 0.7950 - val_loss: 0.4921 - val_accuracy: 0.8077\n",
      "Epoch 20/20\n",
      "11/11 [==============================] - 3s 312ms/step - loss: 0.5145 - accuracy: 0.7950 - val_loss: 0.4910 - val_accuracy: 0.8077\n"
     ]
    }
   ],
   "source": [
    "history = model.fit(X_train, y_train, epochs=20, batch_size=50, validation_data=[X_test, y_test])"
   ]
  },
  {
   "cell_type": "code",
   "execution_count": 124,
   "id": "083fc0ba",
   "metadata": {},
   "outputs": [
    {
     "name": "stdout",
     "output_type": "stream",
     "text": [
      "Train: 0.795, Test: 0.808\n"
     ]
    },
    {
     "data": {
      "image/png": "[encoded data removed]",
      "text/plain": [
       "<Figure size 432x288 with 1 Axes>"
      ]
     },
     "metadata": {
      "needs_background": "light"
     },
     "output_type": "display_data"
    }
   ],
   "source": [
    "# evaluate the model\n",
    "_, train_acc = model.evaluate(X_train, y_train, verbose=0)\n",
    "_, test_acc = model.evaluate(X_test, y_test, verbose=0)\n",
    "print('Train: %.3f, Test: %.3f' % (train_acc, test_acc))\n",
    "# plot training history\n",
    "plt.plot(history.history['loss'], label='train')\n",
    "plt.plot(history.history['val_loss'], label='test')\n",
    "plt.title('Training and test loss at each epoch', fontsize=14)\n",
    "plt.legend()\n",
    "plt.show()"
   ]
  },
  {
   "cell_type": "code",
   "execution_count": 125,
   "id": "618e4d72",
   "metadata": {},
   "outputs": [
    {
     "name": "stdout",
     "output_type": "stream",
     "text": [
      "Train: 0.795, Test: 0.808\n"
     ]
    },
    {
     "data": {
      "image/png": "[encoded data removed]",
      "text/plain": [
       "<Figure size 432x288 with 1 Axes>"
      ]
     },
     "metadata": {
      "needs_background": "light"
     },
     "output_type": "display_data"
    }
   ],
   "source": [
    "# evaluate the model\n",
    "_, train_acc = model.evaluate(X_train, y_train, verbose=0)\n",
    "_, test_acc = model.evaluate(X_test, y_test, verbose=0)\n",
    "print('Train: %.3f, Test: %.3f' % (train_acc, test_acc))\n",
    "# plot training history\n",
    "plt.plot(history.history['accuracy'], label='train')\n",
    "plt.plot(history.history['val_accuracy'], label='test')\n",
    "plt.title('Training and test accuracy at each epoch', fontsize=14)\n",
    "plt.legend()\n",
    "plt.show()"
   ]
  },
  {
   "cell_type": "markdown",
   "id": "eeaa2361",
   "metadata": {},
   "source": [
    "# Using Pycaret"
   ]
  },
  {
   "cell_type": "code",
   "execution_count": 126,
   "id": "8dbf8a42",
   "metadata": {},
   "outputs": [],
   "source": [
    "#!pip install pycaret"
   ]
  },
  {
   "cell_type": "code",
   "execution_count": 127,
   "id": "010ca982",
   "metadata": {},
   "outputs": [],
   "source": [
    "#pip install sklearn"
   ]
  },
  {
   "cell_type": "code",
   "execution_count": 147,
   "id": "015537c7",
   "metadata": {},
   "outputs": [],
   "source": [
    "num_c=['Salary_Bins','Salary_Bins_binary','job_title_simp2','short_title','Revenue','Company Name','Location','Headquarters','Size','Type of ownership','Industry','Sector']\n",
    "job[num_c]=job[num_c].astype('category')"
   ]
  },
  {
   "cell_type": "code",
   "execution_count": 148,
   "id": "d09f8579",
   "metadata": {},
   "outputs": [],
   "source": [
    "interest_col=['Industry','job_title_simp2','requirements_lem','Revenue']\n",
    "X_py=job[interest_col]\n",
    "y_py=job['Salary_Bins_binary']"
   ]
  },
  {
   "cell_type": "code",
   "execution_count": 149,
   "id": "61231a7a",
   "metadata": {},
   "outputs": [],
   "source": [
    "X_train_p,X_test_p,y_train_p,y_test_p = train_test_split(X_py,y_py,\n",
    "                                                 random_state=42, test_size=0.25) # account for slight class unbalanced "
   ]
  },
  {
   "cell_type": "code",
   "execution_count": 150,
   "id": "4fd7dfa7",
   "metadata": {},
   "outputs": [],
   "source": [
    "job_py=pd.concat([X_train_p,y_train_p],axis=1)\n",
    "job_py_test=pd.concat([X_test_p,y_test_p],axis=1)"
   ]
  },
  {
   "cell_type": "code",
   "execution_count": 151,
   "id": "29e60cf2",
   "metadata": {},
   "outputs": [
    {
     "data": {
      "text/html": [
       "<div>\n",
       "<style scoped>\n",
       "    .dataframe tbody tr th:only-of-type {\n",
       "        vertical-align: middle;\n",
       "    }\n",
       "\n",
       "    .dataframe tbody tr th {\n",
       "        vertical-align: top;\n",
       "    }\n",
       "\n",
       "    .dataframe thead th {\n",
       "        text-align: right;\n",
       "    }\n",
       "</style>\n",
       "<table border=\"1\" class=\"dataframe\">\n",
       "  <thead>\n",
       "    <tr style=\"text-align: right;\">\n",
       "      <th></th>\n",
       "      <th>Industry</th>\n",
       "      <th>job_title_simp2</th>\n",
       "      <th>requirements_lem</th>\n",
       "      <th>Revenue</th>\n",
       "      <th>Salary_Bins_binary</th>\n",
       "    </tr>\n",
       "  </thead>\n",
       "  <tbody>\n",
       "    <tr>\n",
       "      <th>140</th>\n",
       "      <td>6.0</td>\n",
       "      <td>4.0</td>\n",
       "      <td>Crown Bioscience JSR Life Sciences company se...</td>\n",
       "      <td>9.0</td>\n",
       "      <td>0</td>\n",
       "    </tr>\n",
       "    <tr>\n",
       "      <th>213</th>\n",
       "      <td>32.0</td>\n",
       "      <td>4.0</td>\n",
       "      <td>global programmatic advertise platform specia...</td>\n",
       "      <td>4.0</td>\n",
       "      <td>0</td>\n",
       "    </tr>\n",
       "    <tr>\n",
       "      <th>43</th>\n",
       "      <td>18.0</td>\n",
       "      <td>4.0</td>\n",
       "      <td>The Opportunity Eversight recognize leader pr...</td>\n",
       "      <td>2.0</td>\n",
       "      <td>0</td>\n",
       "    </tr>\n",
       "    <tr>\n",
       "      <th>42</th>\n",
       "      <td>6.0</td>\n",
       "      <td>4.0</td>\n",
       "      <td>ArsenalBio s mission develop efficacious safe...</td>\n",
       "      <td>13.0</td>\n",
       "      <td>0</td>\n",
       "    </tr>\n",
       "    <tr>\n",
       "      <th>73</th>\n",
       "      <td>30.0</td>\n",
       "      <td>4.0</td>\n",
       "      <td>As Data Intelligence department Data Analyst ...</td>\n",
       "      <td>4.0</td>\n",
       "      <td>0</td>\n",
       "    </tr>\n",
       "    <tr>\n",
       "      <th>...</th>\n",
       "      <td>...</td>\n",
       "      <td>...</td>\n",
       "      <td>...</td>\n",
       "      <td>...</td>\n",
       "      <td>...</td>\n",
       "    </tr>\n",
       "    <tr>\n",
       "      <th>71</th>\n",
       "      <td>29.0</td>\n",
       "      <td>4.0</td>\n",
       "      <td>Description Are passionate customer success C...</td>\n",
       "      <td>3.0</td>\n",
       "      <td>0</td>\n",
       "    </tr>\n",
       "    <tr>\n",
       "      <th>106</th>\n",
       "      <td>33.0</td>\n",
       "      <td>4.0</td>\n",
       "      <td>Job Summary AllianceBernstein s Request Propo...</td>\n",
       "      <td>5.0</td>\n",
       "      <td>0</td>\n",
       "    </tr>\n",
       "    <tr>\n",
       "      <th>270</th>\n",
       "      <td>12.0</td>\n",
       "      <td>4.0</td>\n",
       "      <td>Careers UL Data Scientist Northbrook Illinois...</td>\n",
       "      <td>5.0</td>\n",
       "      <td>0</td>\n",
       "    </tr>\n",
       "    <tr>\n",
       "      <th>436</th>\n",
       "      <td>28.0</td>\n",
       "      <td>4.0</td>\n",
       "      <td>Introduction As Data Scientist IBM help trans...</td>\n",
       "      <td>3.0</td>\n",
       "      <td>0</td>\n",
       "    </tr>\n",
       "    <tr>\n",
       "      <th>102</th>\n",
       "      <td>25.0</td>\n",
       "      <td>6.0</td>\n",
       "      <td>Responsible ongoing support exist Data manage...</td>\n",
       "      <td>13.0</td>\n",
       "      <td>0</td>\n",
       "    </tr>\n",
       "  </tbody>\n",
       "</table>\n",
       "<p>485 rows × 5 columns</p>\n",
       "</div>"
      ],
      "text/plain": [
       "    Industry job_title_simp2  \\\n",
       "140      6.0             4.0   \n",
       "213     32.0             4.0   \n",
       "43      18.0             4.0   \n",
       "42       6.0             4.0   \n",
       "73      30.0             4.0   \n",
       "..       ...             ...   \n",
       "71      29.0             4.0   \n",
       "106     33.0             4.0   \n",
       "270     12.0             4.0   \n",
       "436     28.0             4.0   \n",
       "102     25.0             6.0   \n",
       "\n",
       "                                      requirements_lem Revenue  \\\n",
       "140   Crown Bioscience JSR Life Sciences company se...     9.0   \n",
       "213   global programmatic advertise platform specia...     4.0   \n",
       "43    The Opportunity Eversight recognize leader pr...     2.0   \n",
       "42    ArsenalBio s mission develop efficacious safe...    13.0   \n",
       "73    As Data Intelligence department Data Analyst ...     4.0   \n",
       "..                                                 ...     ...   \n",
       "71    Description Are passionate customer success C...     3.0   \n",
       "106   Job Summary AllianceBernstein s Request Propo...     5.0   \n",
       "270   Careers UL Data Scientist Northbrook Illinois...     5.0   \n",
       "436   Introduction As Data Scientist IBM help trans...     3.0   \n",
       "102   Responsible ongoing support exist Data manage...    13.0   \n",
       "\n",
       "    Salary_Bins_binary  \n",
       "140                  0  \n",
       "213                  0  \n",
       "43                   0  \n",
       "42                   0  \n",
       "73                   0  \n",
       "..                 ...  \n",
       "71                   0  \n",
       "106                  0  \n",
       "270                  0  \n",
       "436                  0  \n",
       "102                  0  \n",
       "\n",
       "[485 rows x 5 columns]"
      ]
     },
     "execution_count": 151,
     "metadata": {},
     "output_type": "execute_result"
    }
   ],
   "source": [
    "job_py"
   ]
  },
  {
   "cell_type": "code",
   "execution_count": null,
   "id": "bcaa76da",
   "metadata": {},
   "outputs": [],
   "source": []
  },
  {
   "cell_type": "code",
   "execution_count": 152,
   "id": "461d61c1",
   "metadata": {},
   "outputs": [
    {
     "name": "stdout",
     "output_type": "stream",
     "text": [
      "<class 'pandas.core.frame.DataFrame'>\n",
      "Int64Index: 485 entries, 140 to 102\n",
      "Data columns (total 5 columns):\n",
      " #   Column              Non-Null Count  Dtype   \n",
      "---  ------              --------------  -----   \n",
      " 0   Industry            485 non-null    category\n",
      " 1   job_title_simp2     485 non-null    category\n",
      " 2   requirements_lem    485 non-null    object  \n",
      " 3   Revenue             485 non-null    category\n",
      " 4   Salary_Bins_binary  485 non-null    category\n",
      "dtypes: category(4), object(1)\n",
      "memory usage: 13.1+ KB\n"
     ]
    }
   ],
   "source": [
    "job_py.info()"
   ]
  },
  {
   "cell_type": "code",
   "execution_count": 153,
   "id": "ddaed4f0",
   "metadata": {},
   "outputs": [
    {
     "data": {
      "text/plain": [
       "avg_salary               int64\n",
       "log_avg_salary         float64\n",
       "same_state               int64\n",
       "company_age              int64\n",
       "python                   int64\n",
       "excel                    int64\n",
       "hadoop                   int64\n",
       "spark                    int64\n",
       "aws                      int64\n",
       "tableau                  int64\n",
       "big_data                 int64\n",
       "len_requirement          int64\n",
       "words_requirement        int64\n",
       "Rating                 float64\n",
       "Salary_Bins           category\n",
       "job_title_simp2       category\n",
       "short_title           category\n",
       "Revenue               category\n",
       "Company Name          category\n",
       "Location              category\n",
       "Headquarters          category\n",
       "Size                  category\n",
       "Type of ownership     category\n",
       "Industry              category\n",
       "Sector                category\n",
       "requirements_lem        object\n",
       "Salary_Bins_binary    category\n",
       "dtype: object"
      ]
     },
     "execution_count": 153,
     "metadata": {},
     "output_type": "execute_result"
    }
   ],
   "source": [
    "job.dtypes"
   ]
  },
  {
   "cell_type": "code",
   "execution_count": 136,
   "id": "067626d4",
   "metadata": {},
   "outputs": [],
   "source": [
    "from pycaret.classification import *"
   ]
  },
  {
   "cell_type": "code",
   "execution_count": 155,
   "id": "e0a69894",
   "metadata": {},
   "outputs": [
    {
     "data": {
      "text/html": [
       "<style type=\"text/css\">\n",
       "#T_eefe0_row44_col1 {\n",
       "  background-color: lightgreen;\n",
       "}\n",
       "</style>\n",
       "<table id=\"T_eefe0\">\n",
       "  <thead>\n",
       "    <tr>\n",
       "      <th class=\"blank level0\" >&nbsp;</th>\n",
       "      <th id=\"T_eefe0_level0_col0\" class=\"col_heading level0 col0\" >Description</th>\n",
       "      <th id=\"T_eefe0_level0_col1\" class=\"col_heading level0 col1\" >Value</th>\n",
       "    </tr>\n",
       "  </thead>\n",
       "  <tbody>\n",
       "    <tr>\n",
       "      <th id=\"T_eefe0_level0_row0\" class=\"row_heading level0 row0\" >0</th>\n",
       "      <td id=\"T_eefe0_row0_col0\" class=\"data row0 col0\" >session_id</td>\n",
       "      <td id=\"T_eefe0_row0_col1\" class=\"data row0 col1\" >123</td>\n",
       "    </tr>\n",
       "    <tr>\n",
       "      <th id=\"T_eefe0_level0_row1\" class=\"row_heading level0 row1\" >1</th>\n",
       "      <td id=\"T_eefe0_row1_col0\" class=\"data row1 col0\" >Target</td>\n",
       "      <td id=\"T_eefe0_row1_col1\" class=\"data row1 col1\" >Salary_Bins_binary</td>\n",
       "    </tr>\n",
       "    <tr>\n",
       "      <th id=\"T_eefe0_level0_row2\" class=\"row_heading level0 row2\" >2</th>\n",
       "      <td id=\"T_eefe0_row2_col0\" class=\"data row2 col0\" >Target Type</td>\n",
       "      <td id=\"T_eefe0_row2_col1\" class=\"data row2 col1\" >Binary</td>\n",
       "    </tr>\n",
       "    <tr>\n",
       "      <th id=\"T_eefe0_level0_row3\" class=\"row_heading level0 row3\" >3</th>\n",
       "      <td id=\"T_eefe0_row3_col0\" class=\"data row3 col0\" >Label Encoded</td>\n",
       "      <td id=\"T_eefe0_row3_col1\" class=\"data row3 col1\" >0: 0, 1: 1</td>\n",
       "    </tr>\n",
       "    <tr>\n",
       "      <th id=\"T_eefe0_level0_row4\" class=\"row_heading level0 row4\" >4</th>\n",
       "      <td id=\"T_eefe0_row4_col0\" class=\"data row4 col0\" >Original Data</td>\n",
       "      <td id=\"T_eefe0_row4_col1\" class=\"data row4 col1\" >(485, 5)</td>\n",
       "    </tr>\n",
       "    <tr>\n",
       "      <th id=\"T_eefe0_level0_row5\" class=\"row_heading level0 row5\" >5</th>\n",
       "      <td id=\"T_eefe0_row5_col0\" class=\"data row5 col0\" >Missing Values</td>\n",
       "      <td id=\"T_eefe0_row5_col1\" class=\"data row5 col1\" >0</td>\n",
       "    </tr>\n",
       "    <tr>\n",
       "      <th id=\"T_eefe0_level0_row6\" class=\"row_heading level0 row6\" >6</th>\n",
       "      <td id=\"T_eefe0_row6_col0\" class=\"data row6 col0\" >Numeric Features</td>\n",
       "      <td id=\"T_eefe0_row6_col1\" class=\"data row6 col1\" >0</td>\n",
       "    </tr>\n",
       "    <tr>\n",
       "      <th id=\"T_eefe0_level0_row7\" class=\"row_heading level0 row7\" >7</th>\n",
       "      <td id=\"T_eefe0_row7_col0\" class=\"data row7 col0\" >Categorical Features</td>\n",
       "      <td id=\"T_eefe0_row7_col1\" class=\"data row7 col1\" >4</td>\n",
       "    </tr>\n",
       "    <tr>\n",
       "      <th id=\"T_eefe0_level0_row8\" class=\"row_heading level0 row8\" >8</th>\n",
       "      <td id=\"T_eefe0_row8_col0\" class=\"data row8 col0\" >Ordinal Features</td>\n",
       "      <td id=\"T_eefe0_row8_col1\" class=\"data row8 col1\" >0</td>\n",
       "    </tr>\n",
       "    <tr>\n",
       "      <th id=\"T_eefe0_level0_row9\" class=\"row_heading level0 row9\" >9</th>\n",
       "      <td id=\"T_eefe0_row9_col0\" class=\"data row9 col0\" >High Cardinality Features</td>\n",
       "      <td id=\"T_eefe0_row9_col1\" class=\"data row9 col1\" >0</td>\n",
       "    </tr>\n",
       "    <tr>\n",
       "      <th id=\"T_eefe0_level0_row10\" class=\"row_heading level0 row10\" >10</th>\n",
       "      <td id=\"T_eefe0_row10_col0\" class=\"data row10 col0\" >High Cardinality Method</td>\n",
       "      <td id=\"T_eefe0_row10_col1\" class=\"data row10 col1\" >None</td>\n",
       "    </tr>\n",
       "    <tr>\n",
       "      <th id=\"T_eefe0_level0_row11\" class=\"row_heading level0 row11\" >11</th>\n",
       "      <td id=\"T_eefe0_row11_col0\" class=\"data row11 col0\" >Transformed Train Set</td>\n",
       "      <td id=\"T_eefe0_row11_col1\" class=\"data row11 col1\" >(339, 333)</td>\n",
       "    </tr>\n",
       "    <tr>\n",
       "      <th id=\"T_eefe0_level0_row12\" class=\"row_heading level0 row12\" >12</th>\n",
       "      <td id=\"T_eefe0_row12_col0\" class=\"data row12 col0\" >Transformed Test Set</td>\n",
       "      <td id=\"T_eefe0_row12_col1\" class=\"data row12 col1\" >(146, 333)</td>\n",
       "    </tr>\n",
       "    <tr>\n",
       "      <th id=\"T_eefe0_level0_row13\" class=\"row_heading level0 row13\" >13</th>\n",
       "      <td id=\"T_eefe0_row13_col0\" class=\"data row13 col0\" >Shuffle Train-Test</td>\n",
       "      <td id=\"T_eefe0_row13_col1\" class=\"data row13 col1\" >True</td>\n",
       "    </tr>\n",
       "    <tr>\n",
       "      <th id=\"T_eefe0_level0_row14\" class=\"row_heading level0 row14\" >14</th>\n",
       "      <td id=\"T_eefe0_row14_col0\" class=\"data row14 col0\" >Stratify Train-Test</td>\n",
       "      <td id=\"T_eefe0_row14_col1\" class=\"data row14 col1\" >False</td>\n",
       "    </tr>\n",
       "    <tr>\n",
       "      <th id=\"T_eefe0_level0_row15\" class=\"row_heading level0 row15\" >15</th>\n",
       "      <td id=\"T_eefe0_row15_col0\" class=\"data row15 col0\" >Fold Generator</td>\n",
       "      <td id=\"T_eefe0_row15_col1\" class=\"data row15 col1\" >StratifiedKFold</td>\n",
       "    </tr>\n",
       "    <tr>\n",
       "      <th id=\"T_eefe0_level0_row16\" class=\"row_heading level0 row16\" >16</th>\n",
       "      <td id=\"T_eefe0_row16_col0\" class=\"data row16 col0\" >Fold Number</td>\n",
       "      <td id=\"T_eefe0_row16_col1\" class=\"data row16 col1\" >10</td>\n",
       "    </tr>\n",
       "    <tr>\n",
       "      <th id=\"T_eefe0_level0_row17\" class=\"row_heading level0 row17\" >17</th>\n",
       "      <td id=\"T_eefe0_row17_col0\" class=\"data row17 col0\" >CPU Jobs</td>\n",
       "      <td id=\"T_eefe0_row17_col1\" class=\"data row17 col1\" >-1</td>\n",
       "    </tr>\n",
       "    <tr>\n",
       "      <th id=\"T_eefe0_level0_row18\" class=\"row_heading level0 row18\" >18</th>\n",
       "      <td id=\"T_eefe0_row18_col0\" class=\"data row18 col0\" >Use GPU</td>\n",
       "      <td id=\"T_eefe0_row18_col1\" class=\"data row18 col1\" >0</td>\n",
       "    </tr>\n",
       "    <tr>\n",
       "      <th id=\"T_eefe0_level0_row19\" class=\"row_heading level0 row19\" >19</th>\n",
       "      <td id=\"T_eefe0_row19_col0\" class=\"data row19 col0\" >Log Experiment</td>\n",
       "      <td id=\"T_eefe0_row19_col1\" class=\"data row19 col1\" >0</td>\n",
       "    </tr>\n",
       "    <tr>\n",
       "      <th id=\"T_eefe0_level0_row20\" class=\"row_heading level0 row20\" >20</th>\n",
       "      <td id=\"T_eefe0_row20_col0\" class=\"data row20 col0\" >Experiment Name</td>\n",
       "      <td id=\"T_eefe0_row20_col1\" class=\"data row20 col1\" >clf-default-name</td>\n",
       "    </tr>\n",
       "    <tr>\n",
       "      <th id=\"T_eefe0_level0_row21\" class=\"row_heading level0 row21\" >21</th>\n",
       "      <td id=\"T_eefe0_row21_col0\" class=\"data row21 col0\" >USI</td>\n",
       "      <td id=\"T_eefe0_row21_col1\" class=\"data row21 col1\" >3d81</td>\n",
       "    </tr>\n",
       "    <tr>\n",
       "      <th id=\"T_eefe0_level0_row22\" class=\"row_heading level0 row22\" >22</th>\n",
       "      <td id=\"T_eefe0_row22_col0\" class=\"data row22 col0\" >Imputation Type</td>\n",
       "      <td id=\"T_eefe0_row22_col1\" class=\"data row22 col1\" >simple</td>\n",
       "    </tr>\n",
       "    <tr>\n",
       "      <th id=\"T_eefe0_level0_row23\" class=\"row_heading level0 row23\" >23</th>\n",
       "      <td id=\"T_eefe0_row23_col0\" class=\"data row23 col0\" >Iterative Imputation Iteration</td>\n",
       "      <td id=\"T_eefe0_row23_col1\" class=\"data row23 col1\" >None</td>\n",
       "    </tr>\n",
       "    <tr>\n",
       "      <th id=\"T_eefe0_level0_row24\" class=\"row_heading level0 row24\" >24</th>\n",
       "      <td id=\"T_eefe0_row24_col0\" class=\"data row24 col0\" >Numeric Imputer</td>\n",
       "      <td id=\"T_eefe0_row24_col1\" class=\"data row24 col1\" >mean</td>\n",
       "    </tr>\n",
       "    <tr>\n",
       "      <th id=\"T_eefe0_level0_row25\" class=\"row_heading level0 row25\" >25</th>\n",
       "      <td id=\"T_eefe0_row25_col0\" class=\"data row25 col0\" >Iterative Imputation Numeric Model</td>\n",
       "      <td id=\"T_eefe0_row25_col1\" class=\"data row25 col1\" >None</td>\n",
       "    </tr>\n",
       "    <tr>\n",
       "      <th id=\"T_eefe0_level0_row26\" class=\"row_heading level0 row26\" >26</th>\n",
       "      <td id=\"T_eefe0_row26_col0\" class=\"data row26 col0\" >Categorical Imputer</td>\n",
       "      <td id=\"T_eefe0_row26_col1\" class=\"data row26 col1\" >constant</td>\n",
       "    </tr>\n",
       "    <tr>\n",
       "      <th id=\"T_eefe0_level0_row27\" class=\"row_heading level0 row27\" >27</th>\n",
       "      <td id=\"T_eefe0_row27_col0\" class=\"data row27 col0\" >Iterative Imputation Categorical Model</td>\n",
       "      <td id=\"T_eefe0_row27_col1\" class=\"data row27 col1\" >None</td>\n",
       "    </tr>\n",
       "    <tr>\n",
       "      <th id=\"T_eefe0_level0_row28\" class=\"row_heading level0 row28\" >28</th>\n",
       "      <td id=\"T_eefe0_row28_col0\" class=\"data row28 col0\" >Unknown Categoricals Handling</td>\n",
       "      <td id=\"T_eefe0_row28_col1\" class=\"data row28 col1\" >least_frequent</td>\n",
       "    </tr>\n",
       "    <tr>\n",
       "      <th id=\"T_eefe0_level0_row29\" class=\"row_heading level0 row29\" >29</th>\n",
       "      <td id=\"T_eefe0_row29_col0\" class=\"data row29 col0\" >Normalize</td>\n",
       "      <td id=\"T_eefe0_row29_col1\" class=\"data row29 col1\" >0</td>\n",
       "    </tr>\n",
       "    <tr>\n",
       "      <th id=\"T_eefe0_level0_row30\" class=\"row_heading level0 row30\" >30</th>\n",
       "      <td id=\"T_eefe0_row30_col0\" class=\"data row30 col0\" >Normalize Method</td>\n",
       "      <td id=\"T_eefe0_row30_col1\" class=\"data row30 col1\" >None</td>\n",
       "    </tr>\n",
       "    <tr>\n",
       "      <th id=\"T_eefe0_level0_row31\" class=\"row_heading level0 row31\" >31</th>\n",
       "      <td id=\"T_eefe0_row31_col0\" class=\"data row31 col0\" >Transformation</td>\n",
       "      <td id=\"T_eefe0_row31_col1\" class=\"data row31 col1\" >0</td>\n",
       "    </tr>\n",
       "    <tr>\n",
       "      <th id=\"T_eefe0_level0_row32\" class=\"row_heading level0 row32\" >32</th>\n",
       "      <td id=\"T_eefe0_row32_col0\" class=\"data row32 col0\" >Transformation Method</td>\n",
       "      <td id=\"T_eefe0_row32_col1\" class=\"data row32 col1\" >None</td>\n",
       "    </tr>\n",
       "    <tr>\n",
       "      <th id=\"T_eefe0_level0_row33\" class=\"row_heading level0 row33\" >33</th>\n",
       "      <td id=\"T_eefe0_row33_col0\" class=\"data row33 col0\" >PCA</td>\n",
       "      <td id=\"T_eefe0_row33_col1\" class=\"data row33 col1\" >0</td>\n",
       "    </tr>\n",
       "    <tr>\n",
       "      <th id=\"T_eefe0_level0_row34\" class=\"row_heading level0 row34\" >34</th>\n",
       "      <td id=\"T_eefe0_row34_col0\" class=\"data row34 col0\" >PCA Method</td>\n",
       "      <td id=\"T_eefe0_row34_col1\" class=\"data row34 col1\" >None</td>\n",
       "    </tr>\n",
       "    <tr>\n",
       "      <th id=\"T_eefe0_level0_row35\" class=\"row_heading level0 row35\" >35</th>\n",
       "      <td id=\"T_eefe0_row35_col0\" class=\"data row35 col0\" >PCA Components</td>\n",
       "      <td id=\"T_eefe0_row35_col1\" class=\"data row35 col1\" >None</td>\n",
       "    </tr>\n",
       "    <tr>\n",
       "      <th id=\"T_eefe0_level0_row36\" class=\"row_heading level0 row36\" >36</th>\n",
       "      <td id=\"T_eefe0_row36_col0\" class=\"data row36 col0\" >Ignore Low Variance</td>\n",
       "      <td id=\"T_eefe0_row36_col1\" class=\"data row36 col1\" >0</td>\n",
       "    </tr>\n",
       "    <tr>\n",
       "      <th id=\"T_eefe0_level0_row37\" class=\"row_heading level0 row37\" >37</th>\n",
       "      <td id=\"T_eefe0_row37_col0\" class=\"data row37 col0\" >Combine Rare Levels</td>\n",
       "      <td id=\"T_eefe0_row37_col1\" class=\"data row37 col1\" >0</td>\n",
       "    </tr>\n",
       "    <tr>\n",
       "      <th id=\"T_eefe0_level0_row38\" class=\"row_heading level0 row38\" >38</th>\n",
       "      <td id=\"T_eefe0_row38_col0\" class=\"data row38 col0\" >Rare Level Threshold</td>\n",
       "      <td id=\"T_eefe0_row38_col1\" class=\"data row38 col1\" >None</td>\n",
       "    </tr>\n",
       "    <tr>\n",
       "      <th id=\"T_eefe0_level0_row39\" class=\"row_heading level0 row39\" >39</th>\n",
       "      <td id=\"T_eefe0_row39_col0\" class=\"data row39 col0\" >Numeric Binning</td>\n",
       "      <td id=\"T_eefe0_row39_col1\" class=\"data row39 col1\" >0</td>\n",
       "    </tr>\n",
       "    <tr>\n",
       "      <th id=\"T_eefe0_level0_row40\" class=\"row_heading level0 row40\" >40</th>\n",
       "      <td id=\"T_eefe0_row40_col0\" class=\"data row40 col0\" >Remove Outliers</td>\n",
       "      <td id=\"T_eefe0_row40_col1\" class=\"data row40 col1\" >0</td>\n",
       "    </tr>\n",
       "    <tr>\n",
       "      <th id=\"T_eefe0_level0_row41\" class=\"row_heading level0 row41\" >41</th>\n",
       "      <td id=\"T_eefe0_row41_col0\" class=\"data row41 col0\" >Outliers Threshold</td>\n",
       "      <td id=\"T_eefe0_row41_col1\" class=\"data row41 col1\" >None</td>\n",
       "    </tr>\n",
       "    <tr>\n",
       "      <th id=\"T_eefe0_level0_row42\" class=\"row_heading level0 row42\" >42</th>\n",
       "      <td id=\"T_eefe0_row42_col0\" class=\"data row42 col0\" >Remove Multicollinearity</td>\n",
       "      <td id=\"T_eefe0_row42_col1\" class=\"data row42 col1\" >0</td>\n",
       "    </tr>\n",
       "    <tr>\n",
       "      <th id=\"T_eefe0_level0_row43\" class=\"row_heading level0 row43\" >43</th>\n",
       "      <td id=\"T_eefe0_row43_col0\" class=\"data row43 col0\" >Multicollinearity Threshold</td>\n",
       "      <td id=\"T_eefe0_row43_col1\" class=\"data row43 col1\" >None</td>\n",
       "    </tr>\n",
       "    <tr>\n",
       "      <th id=\"T_eefe0_level0_row44\" class=\"row_heading level0 row44\" >44</th>\n",
       "      <td id=\"T_eefe0_row44_col0\" class=\"data row44 col0\" >Remove Perfect Collinearity</td>\n",
       "      <td id=\"T_eefe0_row44_col1\" class=\"data row44 col1\" >1</td>\n",
       "    </tr>\n",
       "    <tr>\n",
       "      <th id=\"T_eefe0_level0_row45\" class=\"row_heading level0 row45\" >45</th>\n",
       "      <td id=\"T_eefe0_row45_col0\" class=\"data row45 col0\" >Clustering</td>\n",
       "      <td id=\"T_eefe0_row45_col1\" class=\"data row45 col1\" >0</td>\n",
       "    </tr>\n",
       "    <tr>\n",
       "      <th id=\"T_eefe0_level0_row46\" class=\"row_heading level0 row46\" >46</th>\n",
       "      <td id=\"T_eefe0_row46_col0\" class=\"data row46 col0\" >Clustering Iteration</td>\n",
       "      <td id=\"T_eefe0_row46_col1\" class=\"data row46 col1\" >None</td>\n",
       "    </tr>\n",
       "    <tr>\n",
       "      <th id=\"T_eefe0_level0_row47\" class=\"row_heading level0 row47\" >47</th>\n",
       "      <td id=\"T_eefe0_row47_col0\" class=\"data row47 col0\" >Polynomial Features</td>\n",
       "      <td id=\"T_eefe0_row47_col1\" class=\"data row47 col1\" >0</td>\n",
       "    </tr>\n",
       "    <tr>\n",
       "      <th id=\"T_eefe0_level0_row48\" class=\"row_heading level0 row48\" >48</th>\n",
       "      <td id=\"T_eefe0_row48_col0\" class=\"data row48 col0\" >Polynomial Degree</td>\n",
       "      <td id=\"T_eefe0_row48_col1\" class=\"data row48 col1\" >None</td>\n",
       "    </tr>\n",
       "    <tr>\n",
       "      <th id=\"T_eefe0_level0_row49\" class=\"row_heading level0 row49\" >49</th>\n",
       "      <td id=\"T_eefe0_row49_col0\" class=\"data row49 col0\" >Trignometry Features</td>\n",
       "      <td id=\"T_eefe0_row49_col1\" class=\"data row49 col1\" >0</td>\n",
       "    </tr>\n",
       "    <tr>\n",
       "      <th id=\"T_eefe0_level0_row50\" class=\"row_heading level0 row50\" >50</th>\n",
       "      <td id=\"T_eefe0_row50_col0\" class=\"data row50 col0\" >Polynomial Threshold</td>\n",
       "      <td id=\"T_eefe0_row50_col1\" class=\"data row50 col1\" >None</td>\n",
       "    </tr>\n",
       "    <tr>\n",
       "      <th id=\"T_eefe0_level0_row51\" class=\"row_heading level0 row51\" >51</th>\n",
       "      <td id=\"T_eefe0_row51_col0\" class=\"data row51 col0\" >Group Features</td>\n",
       "      <td id=\"T_eefe0_row51_col1\" class=\"data row51 col1\" >0</td>\n",
       "    </tr>\n",
       "    <tr>\n",
       "      <th id=\"T_eefe0_level0_row52\" class=\"row_heading level0 row52\" >52</th>\n",
       "      <td id=\"T_eefe0_row52_col0\" class=\"data row52 col0\" >Feature Selection</td>\n",
       "      <td id=\"T_eefe0_row52_col1\" class=\"data row52 col1\" >0</td>\n",
       "    </tr>\n",
       "    <tr>\n",
       "      <th id=\"T_eefe0_level0_row53\" class=\"row_heading level0 row53\" >53</th>\n",
       "      <td id=\"T_eefe0_row53_col0\" class=\"data row53 col0\" >Feature Selection Method</td>\n",
       "      <td id=\"T_eefe0_row53_col1\" class=\"data row53 col1\" >classic</td>\n",
       "    </tr>\n",
       "    <tr>\n",
       "      <th id=\"T_eefe0_level0_row54\" class=\"row_heading level0 row54\" >54</th>\n",
       "      <td id=\"T_eefe0_row54_col0\" class=\"data row54 col0\" >Features Selection Threshold</td>\n",
       "      <td id=\"T_eefe0_row54_col1\" class=\"data row54 col1\" >None</td>\n",
       "    </tr>\n",
       "    <tr>\n",
       "      <th id=\"T_eefe0_level0_row55\" class=\"row_heading level0 row55\" >55</th>\n",
       "      <td id=\"T_eefe0_row55_col0\" class=\"data row55 col0\" >Feature Interaction</td>\n",
       "      <td id=\"T_eefe0_row55_col1\" class=\"data row55 col1\" >0</td>\n",
       "    </tr>\n",
       "    <tr>\n",
       "      <th id=\"T_eefe0_level0_row56\" class=\"row_heading level0 row56\" >56</th>\n",
       "      <td id=\"T_eefe0_row56_col0\" class=\"data row56 col0\" >Feature Ratio</td>\n",
       "      <td id=\"T_eefe0_row56_col1\" class=\"data row56 col1\" >0</td>\n",
       "    </tr>\n",
       "    <tr>\n",
       "      <th id=\"T_eefe0_level0_row57\" class=\"row_heading level0 row57\" >57</th>\n",
       "      <td id=\"T_eefe0_row57_col0\" class=\"data row57 col0\" >Interaction Threshold</td>\n",
       "      <td id=\"T_eefe0_row57_col1\" class=\"data row57 col1\" >None</td>\n",
       "    </tr>\n",
       "    <tr>\n",
       "      <th id=\"T_eefe0_level0_row58\" class=\"row_heading level0 row58\" >58</th>\n",
       "      <td id=\"T_eefe0_row58_col0\" class=\"data row58 col0\" >Fix Imbalance</td>\n",
       "      <td id=\"T_eefe0_row58_col1\" class=\"data row58 col1\" >0</td>\n",
       "    </tr>\n",
       "    <tr>\n",
       "      <th id=\"T_eefe0_level0_row59\" class=\"row_heading level0 row59\" >59</th>\n",
       "      <td id=\"T_eefe0_row59_col0\" class=\"data row59 col0\" >Fix Imbalance Method</td>\n",
       "      <td id=\"T_eefe0_row59_col1\" class=\"data row59 col1\" >SMOTE</td>\n",
       "    </tr>\n",
       "  </tbody>\n",
       "</table>\n"
      ],
      "text/plain": [
       "<pandas.io.formats.style.Styler at 0x2018491fc40>"
      ]
     },
     "metadata": {},
     "output_type": "display_data"
    }
   ],
   "source": [
    "exp_mclf1 = setup(data = job_py, target = 'Salary_Bins_binary', session_id=123) "
   ]
  },
  {
   "cell_type": "code",
   "execution_count": 156,
   "id": "a7692e55",
   "metadata": {},
   "outputs": [
    {
     "data": {
      "text/html": [
       "<style type=\"text/css\">\n",
       "#T_05c6f th {\n",
       "  text-align: left;\n",
       "}\n",
       "#T_05c6f_row0_col0, #T_05c6f_row0_col2, #T_05c6f_row0_col3, #T_05c6f_row0_col4, #T_05c6f_row0_col5, #T_05c6f_row0_col6, #T_05c6f_row0_col7, #T_05c6f_row1_col0, #T_05c6f_row1_col1, #T_05c6f_row1_col3, #T_05c6f_row1_col5, #T_05c6f_row2_col0, #T_05c6f_row2_col1, #T_05c6f_row2_col2, #T_05c6f_row2_col3, #T_05c6f_row2_col4, #T_05c6f_row2_col5, #T_05c6f_row2_col6, #T_05c6f_row2_col7, #T_05c6f_row3_col0, #T_05c6f_row3_col1, #T_05c6f_row3_col2, #T_05c6f_row3_col3, #T_05c6f_row3_col4, #T_05c6f_row3_col5, #T_05c6f_row3_col6, #T_05c6f_row3_col7, #T_05c6f_row4_col0, #T_05c6f_row4_col1, #T_05c6f_row4_col2, #T_05c6f_row4_col3, #T_05c6f_row4_col4, #T_05c6f_row4_col5, #T_05c6f_row4_col6, #T_05c6f_row4_col7, #T_05c6f_row5_col0, #T_05c6f_row5_col1, #T_05c6f_row5_col2, #T_05c6f_row5_col3, #T_05c6f_row5_col4, #T_05c6f_row5_col5, #T_05c6f_row5_col6, #T_05c6f_row5_col7, #T_05c6f_row6_col0, #T_05c6f_row6_col1, #T_05c6f_row6_col2, #T_05c6f_row6_col3, #T_05c6f_row6_col4, #T_05c6f_row6_col5, #T_05c6f_row6_col6, #T_05c6f_row6_col7, #T_05c6f_row7_col0, #T_05c6f_row7_col1, #T_05c6f_row7_col2, #T_05c6f_row7_col3, #T_05c6f_row7_col4, #T_05c6f_row7_col5, #T_05c6f_row7_col6, #T_05c6f_row7_col7, #T_05c6f_row8_col0, #T_05c6f_row8_col1, #T_05c6f_row8_col2, #T_05c6f_row8_col3, #T_05c6f_row8_col4, #T_05c6f_row8_col5, #T_05c6f_row8_col6, #T_05c6f_row8_col7, #T_05c6f_row9_col0, #T_05c6f_row9_col1, #T_05c6f_row9_col2, #T_05c6f_row9_col3, #T_05c6f_row9_col4, #T_05c6f_row9_col5, #T_05c6f_row9_col6, #T_05c6f_row9_col7, #T_05c6f_row10_col0, #T_05c6f_row10_col1, #T_05c6f_row10_col2, #T_05c6f_row10_col3, #T_05c6f_row10_col4, #T_05c6f_row10_col5, #T_05c6f_row10_col6, #T_05c6f_row10_col7, #T_05c6f_row11_col0, #T_05c6f_row11_col1, #T_05c6f_row11_col2, #T_05c6f_row11_col3, #T_05c6f_row11_col4, #T_05c6f_row11_col5, #T_05c6f_row11_col6, #T_05c6f_row11_col7, #T_05c6f_row12_col0, #T_05c6f_row12_col1, #T_05c6f_row12_col2, #T_05c6f_row12_col3, #T_05c6f_row12_col4, #T_05c6f_row12_col6, #T_05c6f_row12_col7, #T_05c6f_row13_col0, #T_05c6f_row13_col1, #T_05c6f_row13_col2, #T_05c6f_row13_col4, #T_05c6f_row13_col5, #T_05c6f_row13_col6, #T_05c6f_row13_col7 {\n",
       "  text-align: left;\n",
       "}\n",
       "#T_05c6f_row0_col1, #T_05c6f_row1_col2, #T_05c6f_row1_col4, #T_05c6f_row1_col6, #T_05c6f_row1_col7, #T_05c6f_row12_col5, #T_05c6f_row13_col3 {\n",
       "  text-align: left;\n",
       "  background-color: yellow;\n",
       "}\n",
       "#T_05c6f_row0_col8, #T_05c6f_row1_col8, #T_05c6f_row2_col8, #T_05c6f_row4_col8, #T_05c6f_row5_col8, #T_05c6f_row6_col8, #T_05c6f_row7_col8, #T_05c6f_row8_col8, #T_05c6f_row9_col8, #T_05c6f_row10_col8, #T_05c6f_row11_col8, #T_05c6f_row12_col8, #T_05c6f_row13_col8 {\n",
       "  text-align: left;\n",
       "  background-color: lightgrey;\n",
       "}\n",
       "#T_05c6f_row3_col8 {\n",
       "  text-align: left;\n",
       "  background-color: yellow;\n",
       "  background-color: lightgrey;\n",
       "}\n",
       "</style>\n",
       "<table id=\"T_05c6f\">\n",
       "  <thead>\n",
       "    <tr>\n",
       "      <th class=\"blank level0\" >&nbsp;</th>\n",
       "      <th id=\"T_05c6f_level0_col0\" class=\"col_heading level0 col0\" >Model</th>\n",
       "      <th id=\"T_05c6f_level0_col1\" class=\"col_heading level0 col1\" >Accuracy</th>\n",
       "      <th id=\"T_05c6f_level0_col2\" class=\"col_heading level0 col2\" >AUC</th>\n",
       "      <th id=\"T_05c6f_level0_col3\" class=\"col_heading level0 col3\" >Recall</th>\n",
       "      <th id=\"T_05c6f_level0_col4\" class=\"col_heading level0 col4\" >Prec.</th>\n",
       "      <th id=\"T_05c6f_level0_col5\" class=\"col_heading level0 col5\" >F1</th>\n",
       "      <th id=\"T_05c6f_level0_col6\" class=\"col_heading level0 col6\" >Kappa</th>\n",
       "      <th id=\"T_05c6f_level0_col7\" class=\"col_heading level0 col7\" >MCC</th>\n",
       "      <th id=\"T_05c6f_level0_col8\" class=\"col_heading level0 col8\" >TT (Sec)</th>\n",
       "    </tr>\n",
       "  </thead>\n",
       "  <tbody>\n",
       "    <tr>\n",
       "      <th id=\"T_05c6f_level0_row0\" class=\"row_heading level0 row0\" >lr</th>\n",
       "      <td id=\"T_05c6f_row0_col0\" class=\"data row0 col0\" >Logistic Regression</td>\n",
       "      <td id=\"T_05c6f_row0_col1\" class=\"data row0 col1\" >0.7729</td>\n",
       "      <td id=\"T_05c6f_row0_col2\" class=\"data row0 col2\" >0.5633</td>\n",
       "      <td id=\"T_05c6f_row0_col3\" class=\"data row0 col3\" >0.0375</td>\n",
       "      <td id=\"T_05c6f_row0_col4\" class=\"data row0 col4\" >0.3000</td>\n",
       "      <td id=\"T_05c6f_row0_col5\" class=\"data row0 col5\" >0.0667</td>\n",
       "      <td id=\"T_05c6f_row0_col6\" class=\"data row0 col6\" >0.0483</td>\n",
       "      <td id=\"T_05c6f_row0_col7\" class=\"data row0 col7\" >0.0845</td>\n",
       "      <td id=\"T_05c6f_row0_col8\" class=\"data row0 col8\" >0.6430</td>\n",
       "    </tr>\n",
       "    <tr>\n",
       "      <th id=\"T_05c6f_level0_row1\" class=\"row_heading level0 row1\" >gbc</th>\n",
       "      <td id=\"T_05c6f_row1_col0\" class=\"data row1 col0\" >Gradient Boosting Classifier</td>\n",
       "      <td id=\"T_05c6f_row1_col1\" class=\"data row1 col1\" >0.7671</td>\n",
       "      <td id=\"T_05c6f_row1_col2\" class=\"data row1 col2\" >0.5996</td>\n",
       "      <td id=\"T_05c6f_row1_col3\" class=\"data row1 col3\" >0.1286</td>\n",
       "      <td id=\"T_05c6f_row1_col4\" class=\"data row1 col4\" >0.4867</td>\n",
       "      <td id=\"T_05c6f_row1_col5\" class=\"data row1 col5\" >0.1932</td>\n",
       "      <td id=\"T_05c6f_row1_col6\" class=\"data row1 col6\" >0.1198</td>\n",
       "      <td id=\"T_05c6f_row1_col7\" class=\"data row1 col7\" >0.1641</td>\n",
       "      <td id=\"T_05c6f_row1_col8\" class=\"data row1 col8\" >0.0400</td>\n",
       "    </tr>\n",
       "    <tr>\n",
       "      <th id=\"T_05c6f_level0_row2\" class=\"row_heading level0 row2\" >lightgbm</th>\n",
       "      <td id=\"T_05c6f_row2_col0\" class=\"data row2 col0\" >Light Gradient Boosting Machine</td>\n",
       "      <td id=\"T_05c6f_row2_col1\" class=\"data row2 col1\" >0.7670</td>\n",
       "      <td id=\"T_05c6f_row2_col2\" class=\"data row2 col2\" >0.5447</td>\n",
       "      <td id=\"T_05c6f_row2_col3\" class=\"data row2 col3\" >0.0000</td>\n",
       "      <td id=\"T_05c6f_row2_col4\" class=\"data row2 col4\" >0.0000</td>\n",
       "      <td id=\"T_05c6f_row2_col5\" class=\"data row2 col5\" >0.0000</td>\n",
       "      <td id=\"T_05c6f_row2_col6\" class=\"data row2 col6\" >0.0000</td>\n",
       "      <td id=\"T_05c6f_row2_col7\" class=\"data row2 col7\" >0.0000</td>\n",
       "      <td id=\"T_05c6f_row2_col8\" class=\"data row2 col8\" >0.0390</td>\n",
       "    </tr>\n",
       "    <tr>\n",
       "      <th id=\"T_05c6f_level0_row3\" class=\"row_heading level0 row3\" >dummy</th>\n",
       "      <td id=\"T_05c6f_row3_col0\" class=\"data row3 col0\" >Dummy Classifier</td>\n",
       "      <td id=\"T_05c6f_row3_col1\" class=\"data row3 col1\" >0.7670</td>\n",
       "      <td id=\"T_05c6f_row3_col2\" class=\"data row3 col2\" >0.5000</td>\n",
       "      <td id=\"T_05c6f_row3_col3\" class=\"data row3 col3\" >0.0000</td>\n",
       "      <td id=\"T_05c6f_row3_col4\" class=\"data row3 col4\" >0.0000</td>\n",
       "      <td id=\"T_05c6f_row3_col5\" class=\"data row3 col5\" >0.0000</td>\n",
       "      <td id=\"T_05c6f_row3_col6\" class=\"data row3 col6\" >0.0000</td>\n",
       "      <td id=\"T_05c6f_row3_col7\" class=\"data row3 col7\" >0.0000</td>\n",
       "      <td id=\"T_05c6f_row3_col8\" class=\"data row3 col8\" >0.0070</td>\n",
       "    </tr>\n",
       "    <tr>\n",
       "      <th id=\"T_05c6f_level0_row4\" class=\"row_heading level0 row4\" >rf</th>\n",
       "      <td id=\"T_05c6f_row4_col0\" class=\"data row4 col0\" >Random Forest Classifier</td>\n",
       "      <td id=\"T_05c6f_row4_col1\" class=\"data row4 col1\" >0.7583</td>\n",
       "      <td id=\"T_05c6f_row4_col2\" class=\"data row4 col2\" >0.5233</td>\n",
       "      <td id=\"T_05c6f_row4_col3\" class=\"data row4 col3\" >0.1286</td>\n",
       "      <td id=\"T_05c6f_row4_col4\" class=\"data row4 col4\" >0.4810</td>\n",
       "      <td id=\"T_05c6f_row4_col5\" class=\"data row4 col5\" >0.1911</td>\n",
       "      <td id=\"T_05c6f_row4_col6\" class=\"data row4 col6\" >0.1065</td>\n",
       "      <td id=\"T_05c6f_row4_col7\" class=\"data row4 col7\" >0.1468</td>\n",
       "      <td id=\"T_05c6f_row4_col8\" class=\"data row4 col8\" >0.0620</td>\n",
       "    </tr>\n",
       "    <tr>\n",
       "      <th id=\"T_05c6f_level0_row5\" class=\"row_heading level0 row5\" >ada</th>\n",
       "      <td id=\"T_05c6f_row5_col0\" class=\"data row5 col0\" >Ada Boost Classifier</td>\n",
       "      <td id=\"T_05c6f_row5_col1\" class=\"data row5 col1\" >0.7579</td>\n",
       "      <td id=\"T_05c6f_row5_col2\" class=\"data row5 col2\" >0.5866</td>\n",
       "      <td id=\"T_05c6f_row5_col3\" class=\"data row5 col3\" >0.0875</td>\n",
       "      <td id=\"T_05c6f_row5_col4\" class=\"data row5 col4\" >0.4667</td>\n",
       "      <td id=\"T_05c6f_row5_col5\" class=\"data row5 col5\" >0.1410</td>\n",
       "      <td id=\"T_05c6f_row5_col6\" class=\"data row5 col6\" >0.0718</td>\n",
       "      <td id=\"T_05c6f_row5_col7\" class=\"data row5 col7\" >0.1213</td>\n",
       "      <td id=\"T_05c6f_row5_col8\" class=\"data row5 col8\" >0.0300</td>\n",
       "    </tr>\n",
       "    <tr>\n",
       "      <th id=\"T_05c6f_level0_row6\" class=\"row_heading level0 row6\" >et</th>\n",
       "      <td id=\"T_05c6f_row6_col0\" class=\"data row6 col0\" >Extra Trees Classifier</td>\n",
       "      <td id=\"T_05c6f_row6_col1\" class=\"data row6 col1\" >0.7553</td>\n",
       "      <td id=\"T_05c6f_row6_col2\" class=\"data row6 col2\" >0.5501</td>\n",
       "      <td id=\"T_05c6f_row6_col3\" class=\"data row6 col3\" >0.1286</td>\n",
       "      <td id=\"T_05c6f_row6_col4\" class=\"data row6 col4\" >0.4710</td>\n",
       "      <td id=\"T_05c6f_row6_col5\" class=\"data row6 col5\" >0.1885</td>\n",
       "      <td id=\"T_05c6f_row6_col6\" class=\"data row6 col6\" >0.1011</td>\n",
       "      <td id=\"T_05c6f_row6_col7\" class=\"data row6 col7\" >0.1401</td>\n",
       "      <td id=\"T_05c6f_row6_col8\" class=\"data row6 col8\" >0.0640</td>\n",
       "    </tr>\n",
       "    <tr>\n",
       "      <th id=\"T_05c6f_level0_row7\" class=\"row_heading level0 row7\" >lda</th>\n",
       "      <td id=\"T_05c6f_row7_col0\" class=\"data row7 col0\" >Linear Discriminant Analysis</td>\n",
       "      <td id=\"T_05c6f_row7_col1\" class=\"data row7 col1\" >0.7495</td>\n",
       "      <td id=\"T_05c6f_row7_col2\" class=\"data row7 col2\" >0.5730</td>\n",
       "      <td id=\"T_05c6f_row7_col3\" class=\"data row7 col3\" >0.1161</td>\n",
       "      <td id=\"T_05c6f_row7_col4\" class=\"data row7 col4\" >0.4067</td>\n",
       "      <td id=\"T_05c6f_row7_col5\" class=\"data row7 col5\" >0.1730</td>\n",
       "      <td id=\"T_05c6f_row7_col6\" class=\"data row7 col6\" >0.0806</td>\n",
       "      <td id=\"T_05c6f_row7_col7\" class=\"data row7 col7\" >0.1097</td>\n",
       "      <td id=\"T_05c6f_row7_col8\" class=\"data row7 col8\" >0.0150</td>\n",
       "    </tr>\n",
       "    <tr>\n",
       "      <th id=\"T_05c6f_level0_row8\" class=\"row_heading level0 row8\" >dt</th>\n",
       "      <td id=\"T_05c6f_row8_col0\" class=\"data row8 col0\" >Decision Tree Classifier</td>\n",
       "      <td id=\"T_05c6f_row8_col1\" class=\"data row8 col1\" >0.7404</td>\n",
       "      <td id=\"T_05c6f_row8_col2\" class=\"data row8 col2\" >0.5261</td>\n",
       "      <td id=\"T_05c6f_row8_col3\" class=\"data row8 col3\" >0.1286</td>\n",
       "      <td id=\"T_05c6f_row8_col4\" class=\"data row8 col4\" >0.3810</td>\n",
       "      <td id=\"T_05c6f_row8_col5\" class=\"data row8 col5\" >0.1749</td>\n",
       "      <td id=\"T_05c6f_row8_col6\" class=\"data row8 col6\" >0.0726</td>\n",
       "      <td id=\"T_05c6f_row8_col7\" class=\"data row8 col7\" >0.0977</td>\n",
       "      <td id=\"T_05c6f_row8_col8\" class=\"data row8 col8\" >0.0100</td>\n",
       "    </tr>\n",
       "    <tr>\n",
       "      <th id=\"T_05c6f_level0_row9\" class=\"row_heading level0 row9\" >ridge</th>\n",
       "      <td id=\"T_05c6f_row9_col0\" class=\"data row9 col0\" >Ridge Classifier</td>\n",
       "      <td id=\"T_05c6f_row9_col1\" class=\"data row9 col1\" >0.7374</td>\n",
       "      <td id=\"T_05c6f_row9_col2\" class=\"data row9 col2\" >0.0000</td>\n",
       "      <td id=\"T_05c6f_row9_col3\" class=\"data row9 col3\" >0.1286</td>\n",
       "      <td id=\"T_05c6f_row9_col4\" class=\"data row9 col4\" >0.3043</td>\n",
       "      <td id=\"T_05c6f_row9_col5\" class=\"data row9 col5\" >0.1712</td>\n",
       "      <td id=\"T_05c6f_row9_col6\" class=\"data row9 col6\" >0.0645</td>\n",
       "      <td id=\"T_05c6f_row9_col7\" class=\"data row9 col7\" >0.0739</td>\n",
       "      <td id=\"T_05c6f_row9_col8\" class=\"data row9 col8\" >0.0080</td>\n",
       "    </tr>\n",
       "    <tr>\n",
       "      <th id=\"T_05c6f_level0_row10\" class=\"row_heading level0 row10\" >svm</th>\n",
       "      <td id=\"T_05c6f_row10_col0\" class=\"data row10 col0\" >SVM - Linear Kernel</td>\n",
       "      <td id=\"T_05c6f_row10_col1\" class=\"data row10 col1\" >0.6961</td>\n",
       "      <td id=\"T_05c6f_row10_col2\" class=\"data row10 col2\" >0.0000</td>\n",
       "      <td id=\"T_05c6f_row10_col3\" class=\"data row10 col3\" >0.2286</td>\n",
       "      <td id=\"T_05c6f_row10_col4\" class=\"data row10 col4\" >0.3053</td>\n",
       "      <td id=\"T_05c6f_row10_col5\" class=\"data row10 col5\" >0.2204</td>\n",
       "      <td id=\"T_05c6f_row10_col6\" class=\"data row10 col6\" >0.0771</td>\n",
       "      <td id=\"T_05c6f_row10_col7\" class=\"data row10 col7\" >0.0911</td>\n",
       "      <td id=\"T_05c6f_row10_col8\" class=\"data row10 col8\" >0.0080</td>\n",
       "    </tr>\n",
       "    <tr>\n",
       "      <th id=\"T_05c6f_level0_row11\" class=\"row_heading level0 row11\" >knn</th>\n",
       "      <td id=\"T_05c6f_row11_col0\" class=\"data row11 col0\" >K Neighbors Classifier</td>\n",
       "      <td id=\"T_05c6f_row11_col1\" class=\"data row11 col1\" >0.6905</td>\n",
       "      <td id=\"T_05c6f_row11_col2\" class=\"data row11 col2\" >0.5294</td>\n",
       "      <td id=\"T_05c6f_row11_col3\" class=\"data row11 col3\" >0.0875</td>\n",
       "      <td id=\"T_05c6f_row11_col4\" class=\"data row11 col4\" >0.1483</td>\n",
       "      <td id=\"T_05c6f_row11_col5\" class=\"data row11 col5\" >0.1073</td>\n",
       "      <td id=\"T_05c6f_row11_col6\" class=\"data row11 col6\" >-0.0474</td>\n",
       "      <td id=\"T_05c6f_row11_col7\" class=\"data row11 col7\" >-0.0570</td>\n",
       "      <td id=\"T_05c6f_row11_col8\" class=\"data row11 col8\" >0.2830</td>\n",
       "    </tr>\n",
       "    <tr>\n",
       "      <th id=\"T_05c6f_level0_row12\" class=\"row_heading level0 row12\" >nb</th>\n",
       "      <td id=\"T_05c6f_row12_col0\" class=\"data row12 col0\" >Naive Bayes</td>\n",
       "      <td id=\"T_05c6f_row12_col1\" class=\"data row12 col1\" >0.4452</td>\n",
       "      <td id=\"T_05c6f_row12_col2\" class=\"data row12 col2\" >0.5458</td>\n",
       "      <td id=\"T_05c6f_row12_col3\" class=\"data row12 col3\" >0.7339</td>\n",
       "      <td id=\"T_05c6f_row12_col4\" class=\"data row12 col4\" >0.2581</td>\n",
       "      <td id=\"T_05c6f_row12_col5\" class=\"data row12 col5\" >0.3811</td>\n",
       "      <td id=\"T_05c6f_row12_col6\" class=\"data row12 col6\" >0.0565</td>\n",
       "      <td id=\"T_05c6f_row12_col7\" class=\"data row12 col7\" >0.0834</td>\n",
       "      <td id=\"T_05c6f_row12_col8\" class=\"data row12 col8\" >0.0080</td>\n",
       "    </tr>\n",
       "    <tr>\n",
       "      <th id=\"T_05c6f_level0_row13\" class=\"row_heading level0 row13\" >qda</th>\n",
       "      <td id=\"T_05c6f_row13_col0\" class=\"data row13 col0\" >Quadratic Discriminant Analysis</td>\n",
       "      <td id=\"T_05c6f_row13_col1\" class=\"data row13 col1\" >0.4333</td>\n",
       "      <td id=\"T_05c6f_row13_col2\" class=\"data row13 col2\" >0.5390</td>\n",
       "      <td id=\"T_05c6f_row13_col3\" class=\"data row13 col3\" >0.7357</td>\n",
       "      <td id=\"T_05c6f_row13_col4\" class=\"data row13 col4\" >0.2450</td>\n",
       "      <td id=\"T_05c6f_row13_col5\" class=\"data row13 col5\" >0.3638</td>\n",
       "      <td id=\"T_05c6f_row13_col6\" class=\"data row13 col6\" >0.0388</td>\n",
       "      <td id=\"T_05c6f_row13_col7\" class=\"data row13 col7\" >0.0773</td>\n",
       "      <td id=\"T_05c6f_row13_col8\" class=\"data row13 col8\" >0.0130</td>\n",
       "    </tr>\n",
       "  </tbody>\n",
       "</table>\n"
      ],
      "text/plain": [
       "<pandas.io.formats.style.Styler at 0x20184782be0>"
      ]
     },
     "metadata": {},
     "output_type": "display_data"
    },
    {
     "data": {
      "text/plain": [
       "LogisticRegression(C=1.0, class_weight=None, dual=False, fit_intercept=True,\n",
       "                   intercept_scaling=1, l1_ratio=None, max_iter=1000,\n",
       "                   multi_class='auto', n_jobs=None, penalty='l2',\n",
       "                   random_state=123, solver='lbfgs', tol=0.0001, verbose=0,\n",
       "                   warm_start=False)"
      ]
     },
     "execution_count": 156,
     "metadata": {},
     "output_type": "execute_result"
    }
   ],
   "source": [
    "compare_models()"
   ]
  },
  {
   "cell_type": "code",
   "execution_count": null,
   "id": "69fc3ca0",
   "metadata": {},
   "outputs": [],
   "source": []
  },
  {
   "cell_type": "code",
   "execution_count": 157,
   "id": "8b42603f",
   "metadata": {},
   "outputs": [
    {
     "data": {
      "text/html": [
       "<style type=\"text/css\">\n",
       "#T_599f5_row10_col0, #T_599f5_row10_col1, #T_599f5_row10_col2, #T_599f5_row10_col3, #T_599f5_row10_col4, #T_599f5_row10_col5, #T_599f5_row10_col6 {\n",
       "  background: yellow;\n",
       "}\n",
       "</style>\n",
       "<table id=\"T_599f5\">\n",
       "  <thead>\n",
       "    <tr>\n",
       "      <th class=\"blank\" >&nbsp;</th>\n",
       "      <th class=\"blank level0\" >&nbsp;</th>\n",
       "      <th id=\"T_599f5_level0_col0\" class=\"col_heading level0 col0\" >Accuracy</th>\n",
       "      <th id=\"T_599f5_level0_col1\" class=\"col_heading level0 col1\" >AUC</th>\n",
       "      <th id=\"T_599f5_level0_col2\" class=\"col_heading level0 col2\" >Recall</th>\n",
       "      <th id=\"T_599f5_level0_col3\" class=\"col_heading level0 col3\" >Prec.</th>\n",
       "      <th id=\"T_599f5_level0_col4\" class=\"col_heading level0 col4\" >F1</th>\n",
       "      <th id=\"T_599f5_level0_col5\" class=\"col_heading level0 col5\" >Kappa</th>\n",
       "      <th id=\"T_599f5_level0_col6\" class=\"col_heading level0 col6\" >MCC</th>\n",
       "    </tr>\n",
       "    <tr>\n",
       "      <th class=\"index_name level0\" >Split</th>\n",
       "      <th class=\"index_name level1\" >Fold</th>\n",
       "      <th class=\"blank col0\" >&nbsp;</th>\n",
       "      <th class=\"blank col1\" >&nbsp;</th>\n",
       "      <th class=\"blank col2\" >&nbsp;</th>\n",
       "      <th class=\"blank col3\" >&nbsp;</th>\n",
       "      <th class=\"blank col4\" >&nbsp;</th>\n",
       "      <th class=\"blank col5\" >&nbsp;</th>\n",
       "      <th class=\"blank col6\" >&nbsp;</th>\n",
       "    </tr>\n",
       "  </thead>\n",
       "  <tbody>\n",
       "    <tr>\n",
       "      <th id=\"T_599f5_level0_row0\" class=\"row_heading level0 row0\" rowspan=\"12\">CV-Val</th>\n",
       "      <th id=\"T_599f5_level1_row0\" class=\"row_heading level1 row0\" >0</th>\n",
       "      <td id=\"T_599f5_row0_col0\" class=\"data row0 col0\" >0.7647</td>\n",
       "      <td id=\"T_599f5_row0_col1\" class=\"data row0 col1\" >0.4856</td>\n",
       "      <td id=\"T_599f5_row0_col2\" class=\"data row0 col2\" >0.0000</td>\n",
       "      <td id=\"T_599f5_row0_col3\" class=\"data row0 col3\" >0.0000</td>\n",
       "      <td id=\"T_599f5_row0_col4\" class=\"data row0 col4\" >0.0000</td>\n",
       "      <td id=\"T_599f5_row0_col5\" class=\"data row0 col5\" >0.0000</td>\n",
       "      <td id=\"T_599f5_row0_col6\" class=\"data row0 col6\" >0.0000</td>\n",
       "    </tr>\n",
       "    <tr>\n",
       "      <th id=\"T_599f5_level1_row1\" class=\"row_heading level1 row1\" >1</th>\n",
       "      <td id=\"T_599f5_row1_col0\" class=\"data row1 col0\" >0.7647</td>\n",
       "      <td id=\"T_599f5_row1_col1\" class=\"data row1 col1\" >0.4399</td>\n",
       "      <td id=\"T_599f5_row1_col2\" class=\"data row1 col2\" >0.0000</td>\n",
       "      <td id=\"T_599f5_row1_col3\" class=\"data row1 col3\" >0.0000</td>\n",
       "      <td id=\"T_599f5_row1_col4\" class=\"data row1 col4\" >0.0000</td>\n",
       "      <td id=\"T_599f5_row1_col5\" class=\"data row1 col5\" >0.0000</td>\n",
       "      <td id=\"T_599f5_row1_col6\" class=\"data row1 col6\" >0.0000</td>\n",
       "    </tr>\n",
       "    <tr>\n",
       "      <th id=\"T_599f5_level1_row2\" class=\"row_heading level1 row2\" >2</th>\n",
       "      <td id=\"T_599f5_row2_col0\" class=\"data row2 col0\" >0.7647</td>\n",
       "      <td id=\"T_599f5_row2_col1\" class=\"data row2 col1\" >0.6130</td>\n",
       "      <td id=\"T_599f5_row2_col2\" class=\"data row2 col2\" >0.0000</td>\n",
       "      <td id=\"T_599f5_row2_col3\" class=\"data row2 col3\" >0.0000</td>\n",
       "      <td id=\"T_599f5_row2_col4\" class=\"data row2 col4\" >0.0000</td>\n",
       "      <td id=\"T_599f5_row2_col5\" class=\"data row2 col5\" >0.0000</td>\n",
       "      <td id=\"T_599f5_row2_col6\" class=\"data row2 col6\" >0.0000</td>\n",
       "    </tr>\n",
       "    <tr>\n",
       "      <th id=\"T_599f5_level1_row3\" class=\"row_heading level1 row3\" >3</th>\n",
       "      <td id=\"T_599f5_row3_col0\" class=\"data row3 col0\" >0.7647</td>\n",
       "      <td id=\"T_599f5_row3_col1\" class=\"data row3 col1\" >0.6490</td>\n",
       "      <td id=\"T_599f5_row3_col2\" class=\"data row3 col2\" >0.0000</td>\n",
       "      <td id=\"T_599f5_row3_col3\" class=\"data row3 col3\" >0.0000</td>\n",
       "      <td id=\"T_599f5_row3_col4\" class=\"data row3 col4\" >0.0000</td>\n",
       "      <td id=\"T_599f5_row3_col5\" class=\"data row3 col5\" >0.0000</td>\n",
       "      <td id=\"T_599f5_row3_col6\" class=\"data row3 col6\" >0.0000</td>\n",
       "    </tr>\n",
       "    <tr>\n",
       "      <th id=\"T_599f5_level1_row4\" class=\"row_heading level1 row4\" >4</th>\n",
       "      <td id=\"T_599f5_row4_col0\" class=\"data row4 col0\" >0.7647</td>\n",
       "      <td id=\"T_599f5_row4_col1\" class=\"data row4 col1\" >0.4375</td>\n",
       "      <td id=\"T_599f5_row4_col2\" class=\"data row4 col2\" >0.0000</td>\n",
       "      <td id=\"T_599f5_row4_col3\" class=\"data row4 col3\" >0.0000</td>\n",
       "      <td id=\"T_599f5_row4_col4\" class=\"data row4 col4\" >0.0000</td>\n",
       "      <td id=\"T_599f5_row4_col5\" class=\"data row4 col5\" >0.0000</td>\n",
       "      <td id=\"T_599f5_row4_col6\" class=\"data row4 col6\" >0.0000</td>\n",
       "    </tr>\n",
       "    <tr>\n",
       "      <th id=\"T_599f5_level1_row5\" class=\"row_heading level1 row5\" >5</th>\n",
       "      <td id=\"T_599f5_row5_col0\" class=\"data row5 col0\" >0.7353</td>\n",
       "      <td id=\"T_599f5_row5_col1\" class=\"data row5 col1\" >0.4567</td>\n",
       "      <td id=\"T_599f5_row5_col2\" class=\"data row5 col2\" >0.0000</td>\n",
       "      <td id=\"T_599f5_row5_col3\" class=\"data row5 col3\" >0.0000</td>\n",
       "      <td id=\"T_599f5_row5_col4\" class=\"data row5 col4\" >0.0000</td>\n",
       "      <td id=\"T_599f5_row5_col5\" class=\"data row5 col5\" >-0.0552</td>\n",
       "      <td id=\"T_599f5_row5_col6\" class=\"data row5 col6\" >-0.0966</td>\n",
       "    </tr>\n",
       "    <tr>\n",
       "      <th id=\"T_599f5_level1_row6\" class=\"row_heading level1 row6\" >6</th>\n",
       "      <td id=\"T_599f5_row6_col0\" class=\"data row6 col0\" >0.7941</td>\n",
       "      <td id=\"T_599f5_row6_col1\" class=\"data row6 col1\" >0.6611</td>\n",
       "      <td id=\"T_599f5_row6_col2\" class=\"data row6 col2\" >0.1250</td>\n",
       "      <td id=\"T_599f5_row6_col3\" class=\"data row6 col3\" >1.0000</td>\n",
       "      <td id=\"T_599f5_row6_col4\" class=\"data row6 col4\" >0.2222</td>\n",
       "      <td id=\"T_599f5_row6_col5\" class=\"data row6 col5\" >0.1793</td>\n",
       "      <td id=\"T_599f5_row6_col6\" class=\"data row6 col6\" >0.3138</td>\n",
       "    </tr>\n",
       "    <tr>\n",
       "      <th id=\"T_599f5_level1_row7\" class=\"row_heading level1 row7\" >7</th>\n",
       "      <td id=\"T_599f5_row7_col0\" class=\"data row7 col0\" >0.7941</td>\n",
       "      <td id=\"T_599f5_row7_col1\" class=\"data row7 col1\" >0.6803</td>\n",
       "      <td id=\"T_599f5_row7_col2\" class=\"data row7 col2\" >0.1250</td>\n",
       "      <td id=\"T_599f5_row7_col3\" class=\"data row7 col3\" >1.0000</td>\n",
       "      <td id=\"T_599f5_row7_col4\" class=\"data row7 col4\" >0.2222</td>\n",
       "      <td id=\"T_599f5_row7_col5\" class=\"data row7 col5\" >0.1793</td>\n",
       "      <td id=\"T_599f5_row7_col6\" class=\"data row7 col6\" >0.3138</td>\n",
       "    </tr>\n",
       "    <tr>\n",
       "      <th id=\"T_599f5_level1_row8\" class=\"row_heading level1 row8\" >8</th>\n",
       "      <td id=\"T_599f5_row8_col0\" class=\"data row8 col0\" >0.7941</td>\n",
       "      <td id=\"T_599f5_row8_col1\" class=\"data row8 col1\" >0.7212</td>\n",
       "      <td id=\"T_599f5_row8_col2\" class=\"data row8 col2\" >0.1250</td>\n",
       "      <td id=\"T_599f5_row8_col3\" class=\"data row8 col3\" >1.0000</td>\n",
       "      <td id=\"T_599f5_row8_col4\" class=\"data row8 col4\" >0.2222</td>\n",
       "      <td id=\"T_599f5_row8_col5\" class=\"data row8 col5\" >0.1793</td>\n",
       "      <td id=\"T_599f5_row8_col6\" class=\"data row8 col6\" >0.3138</td>\n",
       "    </tr>\n",
       "    <tr>\n",
       "      <th id=\"T_599f5_level1_row9\" class=\"row_heading level1 row9\" >9</th>\n",
       "      <td id=\"T_599f5_row9_col0\" class=\"data row9 col0\" >0.7879</td>\n",
       "      <td id=\"T_599f5_row9_col1\" class=\"data row9 col1\" >0.4890</td>\n",
       "      <td id=\"T_599f5_row9_col2\" class=\"data row9 col2\" >0.0000</td>\n",
       "      <td id=\"T_599f5_row9_col3\" class=\"data row9 col3\" >0.0000</td>\n",
       "      <td id=\"T_599f5_row9_col4\" class=\"data row9 col4\" >0.0000</td>\n",
       "      <td id=\"T_599f5_row9_col5\" class=\"data row9 col5\" >0.0000</td>\n",
       "      <td id=\"T_599f5_row9_col6\" class=\"data row9 col6\" >0.0000</td>\n",
       "    </tr>\n",
       "    <tr>\n",
       "      <th id=\"T_599f5_level1_row10\" class=\"row_heading level1 row10\" >Mean</th>\n",
       "      <td id=\"T_599f5_row10_col0\" class=\"data row10 col0\" >0.7729</td>\n",
       "      <td id=\"T_599f5_row10_col1\" class=\"data row10 col1\" >0.5633</td>\n",
       "      <td id=\"T_599f5_row10_col2\" class=\"data row10 col2\" >0.0375</td>\n",
       "      <td id=\"T_599f5_row10_col3\" class=\"data row10 col3\" >0.3000</td>\n",
       "      <td id=\"T_599f5_row10_col4\" class=\"data row10 col4\" >0.0667</td>\n",
       "      <td id=\"T_599f5_row10_col5\" class=\"data row10 col5\" >0.0483</td>\n",
       "      <td id=\"T_599f5_row10_col6\" class=\"data row10 col6\" >0.0845</td>\n",
       "    </tr>\n",
       "    <tr>\n",
       "      <th id=\"T_599f5_level1_row11\" class=\"row_heading level1 row11\" >Std</th>\n",
       "      <td id=\"T_599f5_row11_col0\" class=\"data row11 col0\" >0.0182</td>\n",
       "      <td id=\"T_599f5_row11_col1\" class=\"data row11 col1\" >0.1058</td>\n",
       "      <td id=\"T_599f5_row11_col2\" class=\"data row11 col2\" >0.0573</td>\n",
       "      <td id=\"T_599f5_row11_col3\" class=\"data row11 col3\" >0.4583</td>\n",
       "      <td id=\"T_599f5_row11_col4\" class=\"data row11 col4\" >0.1018</td>\n",
       "      <td id=\"T_599f5_row11_col5\" class=\"data row11 col5\" >0.0873</td>\n",
       "      <td id=\"T_599f5_row11_col6\" class=\"data row11 col6\" >0.1528</td>\n",
       "    </tr>\n",
       "    <tr>\n",
       "      <th id=\"T_599f5_level0_row12\" class=\"row_heading level0 row12\" >Train</th>\n",
       "      <th id=\"T_599f5_level1_row12\" class=\"row_heading level1 row12\" >nan</th>\n",
       "      <td id=\"T_599f5_row12_col0\" class=\"data row12 col0\" >0.8053</td>\n",
       "      <td id=\"T_599f5_row12_col1\" class=\"data row12 col1\" >0.9587</td>\n",
       "      <td id=\"T_599f5_row12_col2\" class=\"data row12 col2\" >0.1646</td>\n",
       "      <td id=\"T_599f5_row12_col3\" class=\"data row12 col3\" >1.0000</td>\n",
       "      <td id=\"T_599f5_row12_col4\" class=\"data row12 col4\" >0.2826</td>\n",
       "      <td id=\"T_599f5_row12_col5\" class=\"data row12 col5\" >0.2320</td>\n",
       "      <td id=\"T_599f5_row12_col6\" class=\"data row12 col6\" >0.3623</td>\n",
       "    </tr>\n",
       "  </tbody>\n",
       "</table>\n"
      ],
      "text/plain": [
       "<pandas.io.formats.style.Styler at 0x2018398e340>"
      ]
     },
     "metadata": {},
     "output_type": "display_data"
    }
   ],
   "source": [
    "#create model\n",
    "gbc = create_model('lr')"
   ]
  },
  {
   "cell_type": "code",
   "execution_count": 140,
   "id": "5cf79ea8",
   "metadata": {},
   "outputs": [
    {
     "name": "stdout",
     "output_type": "stream",
     "text": [
      "GradientBoostingClassifier(ccp_alpha=0.0, criterion='friedman_mse', init=None,\n",
      "                           learning_rate=0.1, loss='deviance', max_depth=3,\n",
      "                           max_features=None, max_leaf_nodes=None,\n",
      "                           min_impurity_decrease=0.0, min_impurity_split=None,\n",
      "                           min_samples_leaf=1, min_samples_split=2,\n",
      "                           min_weight_fraction_leaf=0.0, n_estimators=100,\n",
      "                           n_iter_no_change=None, presort='deprecated',\n",
      "                           random_state=123, subsample=1.0, tol=0.0001,\n",
      "                           validation_fraction=0.1, verbose=0,\n",
      "                           warm_start=False)\n"
     ]
    }
   ],
   "source": [
    "#trained model object is stored in the variable 'dt'. \n",
    "print(gbc)"
   ]
  },
  {
   "cell_type": "code",
   "execution_count": null,
   "id": "15e6335a",
   "metadata": {},
   "outputs": [],
   "source": [
    "predict_model(gbc);"
   ]
  },
  {
   "cell_type": "code",
   "execution_count": null,
   "id": "cdaefb4d",
   "metadata": {},
   "outputs": [],
   "source": [
    "unseen_predictions = predict_model(gbc, data=job_py_test)\n",
    "unseen_predictions.head()"
   ]
  },
  {
   "cell_type": "code",
   "execution_count": null,
   "id": "a3c68866",
   "metadata": {},
   "outputs": [],
   "source": []
  }
 ],
 "metadata": {
  "kernelspec": {
   "display_name": "Python 3 (ipykernel)",
   "language": "python",
   "name": "python3"
  },
  "language_info": {
   "codemirror_mode": {
    "name": "ipython",
    "version": 3
   },
   "file_extension": ".py",
   "mimetype": "text/x-python",
   "name": "python",
   "nbconvert_exporter": "python",
   "pygments_lexer": "ipython3",
   "version": "3.8.12"
  }
 },
 "nbformat": 4,
 "nbformat_minor": 5
}
